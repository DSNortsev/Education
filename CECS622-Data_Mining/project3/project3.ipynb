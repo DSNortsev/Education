{
 "cells": [
  {
   "cell_type": "code",
   "execution_count": null,
   "metadata": {
    "collapsed": true
   },
   "outputs": [],
   "source": [
    "import sns as sns\n",
    "This case requires to develop a customer segmentation to define marketing strategy. The sample Dataset summarizes the usage behavior of about 9000 active credit card holders during the last 6 months. The file is at a customer level with 18 behavioral variables.\n",
    "\n",
    "Following is the Data Dictionary for Credit Card dataset :-\n",
    "\n",
    "CUST_ID : Identification of Credit Card holder (Categorical) BALANCE : Balance amount left in their account to make purchases ( BALANCE_FREQUENCY : How frequently the Balance is updated, score between 0 and 1 (1 = frequently updated, 0 = not frequently updated) PURCHASES : Amount of purchases made from account ONEOFF_PURCHASES : Maximum purchase amount done in one-go INSTALLMENTS_PURCHASES : Amount of purchase done in installment CASH_ADVANCE : Cash in advance given by the user PURCHASES_FREQUENCY : How frequently the Purchases are being made, score between 0 and 1 (1 = frequently purchased, 0 = not frequently purchased) ONEOFFPURCHASESFREQUENCY : How frequently Purchases are happening in one-go (1 = frequently purchased, 0 = not frequently purchased) PURCHASESINSTALLMENTSFREQUENCY : How frequently purchases in installments are being done (1 = frequently done, 0 = not frequently done) CASHADVANCEFREQUENCY : How frequently the cash in advance being paid CASHADVANCETRX : Number of Transactions made with \"Cash in Advanced\" PURCHASES_TRX : Numbe of purchase transactions made CREDIT_LIMIT : Limit of Credit Card for user PAYMENTS : Amount of Payment done by user MINIMUM_PAYMENTS : Minimum amount of payments made by user PRCFULLPAYMENT : Percent of full payment paid by user TENURE : Tenure of credit card service for user\n",
    "\n",
    "https://www.kaggle.com/arjunbhasin2013/ccdata"
   ]
  },
  {
   "cell_type": "code",
   "execution_count": 10,
   "metadata": {
    "pycharm": {
     "is_executing": false,
     "name": "#%%\n"
    }
   },
   "outputs": [],
   "source": [
    "# libraries\n",
    "import numpy as np # used for handling numbers\n",
    "import pandas as pd # used for handling the dataset\n",
    "#Load the required packages\n",
    "import numpy as np\n",
    "import pandas as pd\n",
    "import matplotlib.pyplot as plt\n",
    "#Plot styling\n",
    "import seaborn as sns; sns.set() \n",
    "from sklearn.cluster import KMeans\n",
    "%matplotlib inline\n",
    "plt.rcParams['figure.figsize'] = (16, 9)\n",
    "plt.style.use('ggplot')\n"
   ]
  },
  {
   "cell_type": "code",
   "execution_count": 8,
   "metadata": {
    "pycharm": {
     "is_executing": false,
     "name": "#%%\n"
    }
   },
   "outputs": [
    {
     "name": "stdout",
     "output_type": "stream",
     "text": [
      "  CUST_ID      BALANCE  BALANCE_FREQUENCY  PURCHASES  ONEOFF_PURCHASES  \\\n",
      "0  C10001    40.900749           0.818182      95.40              0.00   \n",
      "1  C10002  3202.467416           0.909091       0.00              0.00   \n",
      "2  C10003  2495.148862           1.000000     773.17            773.17   \n",
      "3  C10004  1666.670542           0.636364    1499.00           1499.00   \n",
      "4  C10005   817.714335           1.000000      16.00             16.00   \n",
      "\n",
      "   INSTALLMENTS_PURCHASES  CASH_ADVANCE  PURCHASES_FREQUENCY  \\\n",
      "0                    95.4      0.000000             0.166667   \n",
      "1                     0.0   6442.945483             0.000000   \n",
      "2                     0.0      0.000000             1.000000   \n",
      "3                     0.0    205.788017             0.083333   \n",
      "4                     0.0      0.000000             0.083333   \n",
      "\n",
      "   ONEOFF_PURCHASES_FREQUENCY  PURCHASES_INSTALLMENTS_FREQUENCY  \\\n",
      "0                    0.000000                          0.083333   \n",
      "1                    0.000000                          0.000000   \n",
      "2                    1.000000                          0.000000   \n",
      "3                    0.083333                          0.000000   \n",
      "4                    0.083333                          0.000000   \n",
      "\n",
      "   CASH_ADVANCE_FREQUENCY  CASH_ADVANCE_TRX  PURCHASES_TRX  CREDIT_LIMIT  \\\n",
      "0                0.000000                 0              2        1000.0   \n",
      "1                0.250000                 4              0        7000.0   \n",
      "2                0.000000                 0             12        7500.0   \n",
      "3                0.083333                 1              1        7500.0   \n",
      "4                0.000000                 0              1        1200.0   \n",
      "\n",
      "      PAYMENTS  MINIMUM_PAYMENTS  PRC_FULL_PAYMENT  TENURE  \n",
      "0   201.802084        139.509787          0.000000      12  \n",
      "1  4103.032597       1072.340217          0.222222      12  \n",
      "2   622.066742        627.284787          0.000000      12  \n",
      "3     0.000000               NaN          0.000000      12  \n",
      "4   678.334763        244.791237          0.000000      12  \n"
     ]
    }
   ],
   "source": [
    "df = pd.read_csv('CCGENERAL.csv') # to import the dataset into a variable\n",
    "print(df.head())"
   ]
  },
  {
   "cell_type": "code",
   "execution_count": 9,
   "metadata": {
    "pycharm": {
     "is_executing": false,
     "name": "#%%\n"
    }
   },
   "outputs": [
    {
     "name": "stdout",
     "output_type": "stream",
     "text": [
      "(8950, 18)\n"
     ]
    },
    {
     "data": {
      "text/plain": [
       "2"
      ]
     },
     "execution_count": 9,
     "metadata": {},
     "output_type": "execute_result"
    }
   ],
   "source": [
    "print(df.shape) # Returns number of columns and rows\n",
    "df.isnull().any().sum()  # "
   ]
  },
  {
   "cell_type": "code",
   "execution_count": 4,
   "metadata": {
    "pycharm": {
     "is_executing": false,
     "name": "#%%\n"
    }
   },
   "outputs": [
    {
     "name": "stdout",
     "output_type": "stream",
     "text": [
      "       BALANCE  BALANCE_FREQUENCY  PURCHASES  ONEOFF_PURCHASES  \\\n",
      "0    40.900749           0.818182      95.40              0.00   \n",
      "1  3202.467416           0.909091       0.00              0.00   \n",
      "2  2495.148862           1.000000     773.17            773.17   \n",
      "3  1666.670542           0.636364    1499.00           1499.00   \n",
      "4   817.714335           1.000000      16.00             16.00   \n",
      "\n",
      "   INSTALLMENTS_PURCHASES  CASH_ADVANCE  PURCHASES_FREQUENCY  \\\n",
      "0                    95.4      0.000000             0.166667   \n",
      "1                     0.0   6442.945483             0.000000   \n",
      "2                     0.0      0.000000             1.000000   \n",
      "3                     0.0    205.788017             0.083333   \n",
      "4                     0.0      0.000000             0.083333   \n",
      "\n",
      "   ONEOFF_PURCHASES_FREQUENCY  PURCHASES_INSTALLMENTS_FREQUENCY  \\\n",
      "0                    0.000000                          0.083333   \n",
      "1                    0.000000                          0.000000   \n",
      "2                    1.000000                          0.000000   \n",
      "3                    0.083333                          0.000000   \n",
      "4                    0.083333                          0.000000   \n",
      "\n",
      "   CASH_ADVANCE_FREQUENCY  CASH_ADVANCE_TRX  PURCHASES_TRX  CREDIT_LIMIT  \\\n",
      "0                0.000000                 0              2        1000.0   \n",
      "1                0.250000                 4              0        7000.0   \n",
      "2                0.000000                 0             12        7500.0   \n",
      "3                0.083333                 1              1        7500.0   \n",
      "4                0.000000                 0              1        1200.0   \n",
      "\n",
      "      PAYMENTS  MINIMUM_PAYMENTS  PRC_FULL_PAYMENT  TENURE  \n",
      "0   201.802084        139.509787          0.000000      12  \n",
      "1  4103.032597       1072.340217          0.222222      12  \n",
      "2   622.066742        627.284787          0.000000      12  \n",
      "3     0.000000               NaN          0.000000      12  \n",
      "4   678.334763        244.791237          0.000000      12  \n",
      "0    C10001\n",
      "1    C10002\n",
      "2    C10003\n",
      "3    C10004\n",
      "4    C10005\n",
      "Name: CUST_ID, dtype: object\n"
     ]
    }
   ],
   "source": [
    "y = df['CUST_ID']\n",
    "x = df.iloc[:, 1:] # All rows, All columns starting from third \n",
    "print(x.head())\n",
    "print(y.head())"
   ]
  },
  {
   "cell_type": "code",
   "execution_count": 122,
   "metadata": {
    "pycharm": {
     "is_executing": false,
     "name": "#%%\n"
    }
   },
   "outputs": [
    {
     "name": "stdout",
     "output_type": "stream",
     "text": [
      "CUST_ID: 0\n",
      "BALANCE: 0\n",
      "BALANCE_FREQUENCY: 0\n",
      "PURCHASES: 0\n",
      "ONEOFF_PURCHASES: 0\n",
      "INSTALLMENTS_PURCHASES: 0\n",
      "CASH_ADVANCE: 0\n",
      "PURCHASES_FREQUENCY: 0\n",
      "ONEOFF_PURCHASES_FREQUENCY: 0\n",
      "PURCHASES_INSTALLMENTS_FREQUENCY: 0\n",
      "CASH_ADVANCE_FREQUENCY: 0\n",
      "CASH_ADVANCE_TRX: 0\n",
      "PURCHASES_TRX: 0\n",
      "CREDIT_LIMIT: 1\n",
      "PAYMENTS: 0\n",
      "MINIMUM_PAYMENTS: 313\n",
      "PRC_FULL_PAYMENT: 0\n",
      "TENURE: 0\n"
     ]
    }
   ],
   "source": [
    "# Check all null values\n",
    "for col in df:\n",
    "    print(f'{col}: {df[col].isnull().sum()}')\n",
    "    "
   ]
  },
  {
   "cell_type": "code",
   "execution_count": 123,
   "metadata": {
    "pycharm": {
     "is_executing": false,
     "name": "#%%    \n"
    }
   },
   "outputs": [
    {
     "name": "stdout",
     "output_type": "stream",
     "text": [
      "CUST_ID: object\n",
      "BALANCE: float64\n",
      "BALANCE_FREQUENCY: float64\n",
      "PURCHASES: float64\n",
      "ONEOFF_PURCHASES: float64\n",
      "INSTALLMENTS_PURCHASES: float64\n",
      "CASH_ADVANCE: float64\n",
      "PURCHASES_FREQUENCY: float64\n",
      "ONEOFF_PURCHASES_FREQUENCY: float64\n",
      "PURCHASES_INSTALLMENTS_FREQUENCY: float64\n",
      "CASH_ADVANCE_FREQUENCY: float64\n",
      "CASH_ADVANCE_TRX: int64\n",
      "PURCHASES_TRX: int64\n",
      "CREDIT_LIMIT: float64\n",
      "PAYMENTS: float64\n",
      "MINIMUM_PAYMENTS: float64\n",
      "PRC_FULL_PAYMENT: float64\n",
      "TENURE: int64\n"
     ]
    }
   ],
   "source": [
    "for column in df:\n",
    "    print(f'{column}: {df[column].dtype}')\n",
    "    "
   ]
  },
  {
   "cell_type": "code",
   "execution_count": 93,
   "metadata": {
    "pycharm": {
     "is_executing": false,
     "name": "#%%    \n"
    }
   },
   "outputs": [
    {
     "data": {
      "text/plain": [
       "True"
      ]
     },
     "execution_count": 93,
     "metadata": {},
     "output_type": "execute_result"
    }
   ],
   "source": [
    "pd.Series('CUST_ID').is_unique"
   ]
  },
  {
   "cell_type": "code",
   "execution_count": 34,
   "metadata": {
    "pycharm": {
     "is_executing": false,
     "name": "#%%\n"
    }
   },
   "outputs": [
    {
     "name": "stdout",
     "output_type": "stream",
     "text": [
      "        BALANCE  BALANCE_FREQUENCY  PURCHASES  ONEOFF_PURCHASES  \\\n",
      "0     40.900749           0.818182      95.40              0.00   \n",
      "1   3202.467416           0.909091       0.00              0.00   \n",
      "2   2495.148862           1.000000     773.17            773.17   \n",
      "3   1666.670542           0.636364    1499.00           1499.00   \n",
      "4    817.714335           1.000000      16.00             16.00   \n",
      "5   1809.828751           1.000000    1333.28              0.00   \n",
      "6   1823.652743           1.000000     436.20              0.00   \n",
      "7   1014.926473           1.000000     861.49            661.49   \n",
      "8    152.225975           0.545455    1281.60           1281.60   \n",
      "9   1293.124939           1.000000     920.12              0.00   \n",
      "10   630.794744           0.818182    1492.18           1492.18   \n",
      "11  1516.928620           1.000000    3217.99           2500.23   \n",
      "12   921.693369           1.000000    2137.93            419.96   \n",
      "13  2772.772734           1.000000       0.00              0.00   \n",
      "14  6886.213231           1.000000    1611.70              0.00   \n",
      "15  2072.074354           0.875000       0.00              0.00   \n",
      "16    41.089489           0.454545     519.00              0.00   \n",
      "17  1989.072228           1.000000     504.35            166.00   \n",
      "18   132.342240           0.636364     815.90              0.00   \n",
      "19  5368.571219           1.000000       0.00              0.00   \n",
      "20   169.781679           1.000000     399.60              0.00   \n",
      "21  1615.967240           1.000000     102.00            102.00   \n",
      "22   125.694817           1.000000     233.28              0.00   \n",
      "23    22.063490           1.000000     100.00              0.00   \n",
      "24  1162.273324           1.000000    1347.71            400.00   \n",
      "25  6732.823064           1.000000     324.95            324.95   \n",
      "26   125.660453           1.000000     636.79            636.79   \n",
      "27  1656.350781           1.000000       0.00              0.00   \n",
      "28  4047.480828           1.000000    2380.55           1642.17   \n",
      "29  6269.418144           1.000000     204.00            204.00   \n",
      "30   663.447810           0.727273       0.00              0.00   \n",
      "31   784.889762           0.909091    1526.59            786.30   \n",
      "32  4104.710798           1.000000     203.82            203.82   \n",
      "33  1360.742377           1.000000       0.00              0.00   \n",
      "34  5315.945594           1.000000    1525.44            469.80   \n",
      "35  2242.311686           1.000000     437.00             97.00   \n",
      "36   474.447149           0.500000     109.74              0.00   \n",
      "37  3910.111237           1.000000       0.00              0.00   \n",
      "38   229.867179           1.000000    2390.60           1402.93   \n",
      "39   863.809833           1.000000     507.50            507.50   \n",
      "40  1078.888565           1.000000    3107.85           2221.74   \n",
      "41  1565.681099           1.000000       0.00              0.00   \n",
      "42   464.674156           0.888889    1979.22           1979.22   \n",
      "43     6.660517           0.636364     310.00              0.00   \n",
      "44  1311.995984           1.000000    1283.90           1283.90   \n",
      "45  3625.218146           1.000000     313.27            313.27   \n",
      "46  2386.330629           1.000000    5217.62           4789.09   \n",
      "47  3971.138765           1.000000       0.00              0.00   \n",
      "48  5493.904060           1.000000     229.00              0.00   \n",
      "49  1879.114033           0.727273     113.00            113.00   \n",
      "50  1555.793701           1.000000      66.20             66.20   \n",
      "51   809.582978           0.909091       0.00              0.00   \n",
      "52  1923.886805           1.000000    1887.64              0.00   \n",
      "53  1758.059987           1.000000     412.33            325.21   \n",
      "54   809.847455           0.875000       0.00              0.00   \n",
      "55  1576.305029           1.000000       0.00              0.00   \n",
      "56  3990.523579           1.000000     263.50            190.60   \n",
      "57  1699.435486           1.000000    1363.69           1363.69   \n",
      "58  5487.683724           1.000000     419.10              0.00   \n",
      "59   656.013010           1.000000       0.00              0.00   \n",
      "\n",
      "    INSTALLMENTS_PURCHASES  CASH_ADVANCE  PURCHASES_FREQUENCY  \\\n",
      "0                    95.40      0.000000             0.166667   \n",
      "1                     0.00   6442.945483             0.000000   \n",
      "2                     0.00      0.000000             1.000000   \n",
      "3                     0.00    205.788017             0.083333   \n",
      "4                     0.00      0.000000             0.083333   \n",
      "5                  1333.28      0.000000             0.666667   \n",
      "6                   436.20      0.000000             1.000000   \n",
      "7                   200.00      0.000000             0.333333   \n",
      "8                     0.00      0.000000             0.166667   \n",
      "9                   920.12      0.000000             1.000000   \n",
      "10                    0.00      0.000000             0.250000   \n",
      "11                  717.76      0.000000             1.000000   \n",
      "12                 1717.97      0.000000             0.750000   \n",
      "13                    0.00    346.811390             0.000000   \n",
      "14                 1611.70   2301.491267             0.500000   \n",
      "15                    0.00   2784.274703             0.000000   \n",
      "16                  519.00      0.000000             0.416667   \n",
      "17                  338.35      0.000000             0.666667   \n",
      "18                  815.90      0.000000             1.000000   \n",
      "19                    0.00    798.949863             0.000000   \n",
      "20                  399.60      0.000000             1.000000   \n",
      "21                    0.00    244.840485             0.166667   \n",
      "22                  233.28      0.000000             1.000000   \n",
      "23                  100.00      0.000000             0.416667   \n",
      "24                  947.71    175.815755             1.000000   \n",
      "25                    0.00   1189.533753             0.083333   \n",
      "26                    0.00      0.000000             0.916667   \n",
      "27                    0.00     99.264367             0.000000   \n",
      "28                  738.38   1697.660901             0.750000   \n",
      "29                    0.00   2925.699862             0.083333   \n",
      "30                    0.00   3133.063934             0.000000   \n",
      "31                  740.29   2188.419607             0.583333   \n",
      "32                    0.00      0.000000             0.083333   \n",
      "33                    0.00   1481.587093             0.000000   \n",
      "34                 1055.64      0.000000             1.000000   \n",
      "35                  340.00    184.648692             0.333333   \n",
      "36                  109.74   1013.659552             0.375000   \n",
      "37                    0.00   1980.873201             0.000000   \n",
      "38                  987.67      0.000000             1.000000   \n",
      "39                    0.00    695.097159             0.166667   \n",
      "40                  886.11      0.000000             0.666667   \n",
      "41                    0.00    321.359135             0.000000   \n",
      "42                    0.00   1981.265503             0.666667   \n",
      "43                  310.00      0.000000             0.666667   \n",
      "44                    0.00      0.000000             0.250000   \n",
      "45                    0.00    668.468743             0.250000   \n",
      "46                  428.53      0.000000             0.916667   \n",
      "47                    0.00    224.575517             0.000000   \n",
      "48                  229.00    970.591332             0.416667   \n",
      "49                    0.00      0.000000             0.166667   \n",
      "50                    0.00      0.000000             0.083333   \n",
      "51                    0.00   3819.672466             0.000000   \n",
      "52                 1887.64   1605.949371             1.000000   \n",
      "53                   87.12      0.000000             0.583333   \n",
      "54                    0.00    908.423608             0.000000   \n",
      "55                    0.00    382.908547             0.000000   \n",
      "56                   72.90      0.000000             0.666667   \n",
      "57                    0.00      0.000000             0.333333   \n",
      "58                  419.10    625.399386             0.916667   \n",
      "59                    0.00   1474.349901             0.000000   \n",
      "\n",
      "    ONEOFF_PURCHASES_FREQUENCY  PURCHASES_INSTALLMENTS_FREQUENCY  \\\n",
      "0                     0.000000                          0.083333   \n",
      "1                     0.000000                          0.000000   \n",
      "2                     1.000000                          0.000000   \n",
      "3                     0.083333                          0.000000   \n",
      "4                     0.083333                          0.000000   \n",
      "5                     0.000000                          0.583333   \n",
      "6                     0.000000                          1.000000   \n",
      "7                     0.083333                          0.250000   \n",
      "8                     0.166667                          0.000000   \n",
      "9                     0.000000                          1.000000   \n",
      "10                    0.250000                          0.000000   \n",
      "11                    0.250000                          0.916667   \n",
      "12                    0.166667                          0.750000   \n",
      "13                    0.000000                          0.000000   \n",
      "14                    0.000000                          0.500000   \n",
      "15                    0.000000                          0.000000   \n",
      "16                    0.000000                          0.333333   \n",
      "17                    0.083333                          0.583333   \n",
      "18                    0.000000                          1.000000   \n",
      "19                    0.000000                          0.000000   \n",
      "20                    0.000000                          1.000000   \n",
      "21                    0.166667                          0.000000   \n",
      "22                    0.000000                          1.000000   \n",
      "23                    0.000000                          0.416667   \n",
      "24                    0.083333                          1.000000   \n",
      "25                    0.083333                          0.000000   \n",
      "26                    0.916667                          0.000000   \n",
      "27                    0.000000                          0.000000   \n",
      "28                    0.500000                          0.750000   \n",
      "29                    0.083333                          0.000000   \n",
      "30                    0.000000                          0.000000   \n",
      "31                    0.416667                          0.333333   \n",
      "32                    0.083333                          0.000000   \n",
      "33                    0.000000                          0.000000   \n",
      "34                    0.333333                          1.000000   \n",
      "35                    0.083333                          0.333333   \n",
      "36                    0.000000                          0.250000   \n",
      "37                    0.000000                          0.000000   \n",
      "38                    0.666667                          1.000000   \n",
      "39                    0.166667                          0.000000   \n",
      "40                    0.583333                          0.500000   \n",
      "41                    0.000000                          0.000000   \n",
      "42                    0.666667                          0.000000   \n",
      "43                    0.000000                          0.666667   \n",
      "44                    0.250000                          0.000000   \n",
      "45                    0.250000                          0.000000   \n",
      "46                    0.916667                          0.500000   \n",
      "47                    0.000000                          0.000000   \n",
      "48                    0.000000                          0.333333   \n",
      "49                    0.166667                          0.000000   \n",
      "50                    0.083333                          0.000000   \n",
      "51                    0.000000                          0.000000   \n",
      "52                    0.000000                          1.000000   \n",
      "53                    0.333333                          0.166667   \n",
      "54                    0.000000                          0.000000   \n",
      "55                    0.000000                          0.000000   \n",
      "56                    0.083333                          0.583333   \n",
      "57                    0.333333                          0.000000   \n",
      "58                    0.000000                          0.833333   \n",
      "59                    0.000000                          0.000000   \n",
      "\n",
      "    CASH_ADVANCE_FREQUENCY  CASH_ADVANCE_TRX  PURCHASES_TRX  CREDIT_LIMIT  \\\n",
      "0                 0.000000               0.0            2.0        1000.0   \n",
      "1                 0.250000               4.0            0.0        7000.0   \n",
      "2                 0.000000               0.0           12.0        7500.0   \n",
      "3                 0.083333               1.0            1.0        7500.0   \n",
      "4                 0.000000               0.0            1.0        1200.0   \n",
      "5                 0.000000               0.0            8.0        1800.0   \n",
      "6                 0.000000               0.0           12.0        2300.0   \n",
      "7                 0.000000               0.0            5.0        7000.0   \n",
      "8                 0.000000               0.0            3.0       11000.0   \n",
      "9                 0.000000               0.0           12.0        1200.0   \n",
      "10                0.000000               0.0            6.0        2000.0   \n",
      "11                0.000000               0.0           26.0        3000.0   \n",
      "12                0.000000               0.0           26.0        7500.0   \n",
      "13                0.083333               1.0            0.0        3000.0   \n",
      "14                0.166667               4.0           11.0        8000.0   \n",
      "15                0.250000               3.0            0.0        3000.0   \n",
      "16                0.000000               0.0            8.0        2500.0   \n",
      "17                0.000000               0.0            9.0       13000.0   \n",
      "18                0.000000               0.0           17.0        1800.0   \n",
      "19                0.363636               4.0            0.0        6000.0   \n",
      "20                0.000000               0.0           12.0        3000.0   \n",
      "21                0.250000               5.0            2.0        1700.0   \n",
      "22                0.000000               0.0           12.0        1000.0   \n",
      "23                0.000000               0.0            5.0        6900.0   \n",
      "24                0.166667               2.0           45.0        6000.0   \n",
      "25                0.166667               3.0            3.0       10500.0   \n",
      "26                0.000000               0.0           11.0        1200.0   \n",
      "27                0.083333               1.0            0.0        1800.0   \n",
      "28                0.333333               7.0           41.0        5000.0   \n",
      "29                0.333333              12.0            2.0        9000.0   \n",
      "30                0.250000               3.0            0.0        1800.0   \n",
      "31                0.250000              11.0           27.0        3000.0   \n",
      "32                0.000000               0.0            1.0        4500.0   \n",
      "33                0.083333               1.0            0.0        1500.0   \n",
      "34                0.000000               0.0           20.0        8500.0   \n",
      "35                0.166667               2.0            5.0        2400.0   \n",
      "36                0.125000               1.0            3.0        1700.0   \n",
      "37                0.500000               7.0            0.0        4200.0   \n",
      "38                0.000000               0.0           87.0        3300.0   \n",
      "39                0.083333               2.0            3.0        4000.0   \n",
      "40                0.000000               0.0           18.0        2500.0   \n",
      "41                0.250000               3.0            0.0        3500.0   \n",
      "42                0.111111               1.0           11.0        3000.0   \n",
      "43                0.000000               0.0            8.0        1000.0   \n",
      "44                0.000000               0.0            6.0        6000.0   \n",
      "45                0.416667               5.0            4.0        4000.0   \n",
      "46                0.000000               0.0           42.0        7500.0   \n",
      "47                0.181818               3.0            0.0        4000.0   \n",
      "48                0.333333               4.0            6.0        6000.0   \n",
      "49                0.000000               0.0            2.0        6500.0   \n",
      "50                0.000000               0.0            1.0        1600.0   \n",
      "51                0.545455               7.0            0.0        4150.0   \n",
      "52                0.083333               4.0           61.0        1850.0   \n",
      "53                0.000000               0.0           11.0        1800.0   \n",
      "54                0.125000               1.0            0.0        1500.0   \n",
      "55                0.416667               6.0            0.0        2500.0   \n",
      "56                0.000000               0.0            8.0        6000.0   \n",
      "57                0.000000               0.0            4.0        1700.0   \n",
      "58                0.333333               4.0           11.0        6250.0   \n",
      "59                0.125000               3.0            0.0        7000.0   \n",
      "\n",
      "       PAYMENTS  MINIMUM_PAYMENTS  PRC_FULL_PAYMENT  TENURE  \n",
      "0    201.802084        139.509787          0.000000    12.0  \n",
      "1   4103.032597       1072.340217          0.222222    12.0  \n",
      "2    622.066742        627.284787          0.000000    12.0  \n",
      "3      0.000000        281.813294          0.000000    12.0  \n",
      "4    678.334763        244.791237          0.000000    12.0  \n",
      "5   1400.057770       2407.246035          0.000000    12.0  \n",
      "6    679.065082        532.033990          0.000000    12.0  \n",
      "7    688.278568        311.963409          0.000000    12.0  \n",
      "8   1164.770591        100.302262          0.000000    12.0  \n",
      "9   1083.301007       2172.697765          0.000000    12.0  \n",
      "10   705.618627        155.549069          0.000000    12.0  \n",
      "11   608.263689        490.207013          0.250000    12.0  \n",
      "12  1655.891435        251.137986          0.083333    12.0  \n",
      "13   805.647974        989.962866          0.000000    12.0  \n",
      "14  1993.439277       2109.906490          0.000000    12.0  \n",
      "15   391.974562        376.579631          0.000000     8.0  \n",
      "16   254.590662         73.203221          0.250000    12.0  \n",
      "17  1720.837373        744.613395          0.000000    12.0  \n",
      "18  2359.629958         86.329554          0.000000    12.0  \n",
      "19  1422.726707       1657.002877          0.000000    11.0  \n",
      "20   215.306142        163.005536          0.000000    12.0  \n",
      "21   890.178845        971.183209          0.000000    12.0  \n",
      "22   207.773715        164.748819          0.000000    12.0  \n",
      "23   160.767773        159.684442          0.000000    12.0  \n",
      "24   645.998299        256.848991          0.000000    12.0  \n",
      "25  1720.118876       2506.745366          0.000000    12.0  \n",
      "26   423.449696        196.301885          0.300000    12.0  \n",
      "27   351.500199        634.569311          0.000000    12.0  \n",
      "28  1617.894416       1541.141605          0.000000    12.0  \n",
      "29  1237.111661       2049.408839          0.000000    12.0  \n",
      "30  3067.057830        283.333445          0.166667    12.0  \n",
      "31  1262.309666        363.142736          0.111111    12.0  \n",
      "32   868.275275       1801.264841          0.000000    12.0  \n",
      "33   378.294227        321.354137          0.000000    12.0  \n",
      "34  1430.341501       1318.714920          0.000000    12.0  \n",
      "35     0.000000        281.813294          0.000000    12.0  \n",
      "36   176.013005        147.199792          0.000000     8.0  \n",
      "37     0.000000        281.813294          0.000000    12.0  \n",
      "38  2543.953559        175.657825          0.916667    12.0  \n",
      "39   587.866451        286.448719          0.083333    12.0  \n",
      "40  1399.828340       1322.446601          0.000000    12.0  \n",
      "41   691.825279        581.481917          0.000000    12.0  \n",
      "42  3110.052742        132.446091          0.200000     9.0  \n",
      "43   417.016763        281.813294          0.000000    12.0  \n",
      "44     0.000000        281.813294          0.000000    12.0  \n",
      "45     0.000000        281.813294          0.000000    12.0  \n",
      "46  5678.729613       1311.514878          0.083333    12.0  \n",
      "47   764.938728       1600.212243          0.000000    11.0  \n",
      "48  2110.557023       1895.026170          0.000000    12.0  \n",
      "49  3509.686561        548.105836          0.000000    12.0  \n",
      "50   338.083661        837.215674          0.000000    12.0  \n",
      "51  4372.148648        241.645387          0.090909    11.0  \n",
      "52  3688.045998       3266.996777          0.083333    12.0  \n",
      "53   777.451648        897.905444          0.000000    12.0  \n",
      "54   146.074769        179.412493          0.000000     8.0  \n",
      "55   540.022225        352.883804          0.000000    12.0  \n",
      "56  6876.836205       1001.607366          0.083333    12.0  \n",
      "57  1623.816348        923.505868          0.000000    12.0  \n",
      "58  1288.214909       2180.881868          0.000000    12.0  \n",
      "59   910.457985        140.983193          0.250000     8.0  \n"
     ]
    }
   ],
   "source": [
    "# https://analyticsindiamag.com/data-pre-processing-in-python/\n",
    "#https://towardsdatascience.com/handling-missing-values-in-machine-learning-part-1-dda69d4f88ca\n",
    "\n",
    "# We have already noticed the missing fields in the data denoted by “nan”. \n",
    "# Machine learning models cannot accommodate missing fields in the data \n",
    "# they are provided with.So the missing fields must be filled with values \n",
    "# that will not affect the variance of the data or make it more noisy.\n",
    "\n",
    "#The scikit-learn library’s SimpleImputer Class allows us to impute\n",
    "# the missing fields in a dataset with valid data. In the above code,\n",
    "# we have used the default strategy for filling missing values which is the mean.\n",
    "\n",
    "# MEDIAN :Suitable for continuous data with outliers\n",
    "\n",
    "from sklearn.impute import SimpleImputer\n",
    "imp = SimpleImputer(missing_values=np.nan, strategy=\"median\")\n",
    "x_columns_name = x.columns\n",
    "x = imp.fit_transform(x)\n",
    "x = pd.DataFrame(data=x, columns=x_columns_name)\n",
    "print(x.head(60))\n",
    "\n",
    "#Y = y.reshape(-1,1)\n",
    "#Y = imp.fit_transform(y)\n",
    "#Y = y.reshape(-1)"
   ]
  },
  {
   "cell_type": "code",
   "execution_count": 41,
   "metadata": {
    "pycharm": {
     "is_executing": false,
     "name": "#%%\n"
    }
   },
   "outputs": [
    {
     "name": "stdout",
     "output_type": "stream",
     "text": [
      "(8950, 18)\n",
      "<bound method NDFrame.head of      CUST_ID      BALANCE  BALANCE_FREQUENCY  PURCHASES  ONEOFF_PURCHASES  \\\n",
      "0     C10001    40.900749           0.818182      95.40              0.00   \n",
      "1     C10002  3202.467416           0.909091       0.00              0.00   \n",
      "2     C10003  2495.148862           1.000000     773.17            773.17   \n",
      "3     C10004  1666.670542           0.636364    1499.00           1499.00   \n",
      "4     C10005   817.714335           1.000000      16.00             16.00   \n",
      "...      ...          ...                ...        ...               ...   \n",
      "8945  C19186    28.493517           1.000000     291.12              0.00   \n",
      "8946  C19187    19.183215           1.000000     300.00              0.00   \n",
      "8947  C19188    23.398673           0.833333     144.40              0.00   \n",
      "8948  C19189    13.457564           0.833333       0.00              0.00   \n",
      "8949  C19190   372.708075           0.666667    1093.25           1093.25   \n",
      "\n",
      "      INSTALLMENTS_PURCHASES  CASH_ADVANCE  PURCHASES_FREQUENCY  \\\n",
      "0                      95.40      0.000000             0.166667   \n",
      "1                       0.00   6442.945483             0.000000   \n",
      "2                       0.00      0.000000             1.000000   \n",
      "3                       0.00    205.788017             0.083333   \n",
      "4                       0.00      0.000000             0.083333   \n",
      "...                      ...           ...                  ...   \n",
      "8945                  291.12      0.000000             1.000000   \n",
      "8946                  300.00      0.000000             1.000000   \n",
      "8947                  144.40      0.000000             0.833333   \n",
      "8948                    0.00     36.558778             0.000000   \n",
      "8949                    0.00    127.040008             0.666667   \n",
      "\n",
      "      ONEOFF_PURCHASES_FREQUENCY  PURCHASES_INSTALLMENTS_FREQUENCY  \\\n",
      "0                       0.000000                          0.083333   \n",
      "1                       0.000000                          0.000000   \n",
      "2                       1.000000                          0.000000   \n",
      "3                       0.083333                          0.000000   \n",
      "4                       0.083333                          0.000000   \n",
      "...                          ...                               ...   \n",
      "8945                    0.000000                          0.833333   \n",
      "8946                    0.000000                          0.833333   \n",
      "8947                    0.000000                          0.666667   \n",
      "8948                    0.000000                          0.000000   \n",
      "8949                    0.666667                          0.000000   \n",
      "\n",
      "      CASH_ADVANCE_FREQUENCY  CASH_ADVANCE_TRX  PURCHASES_TRX  CREDIT_LIMIT  \\\n",
      "0                   0.000000               0.0            2.0        1000.0   \n",
      "1                   0.250000               4.0            0.0        7000.0   \n",
      "2                   0.000000               0.0           12.0        7500.0   \n",
      "3                   0.083333               1.0            1.0        7500.0   \n",
      "4                   0.000000               0.0            1.0        1200.0   \n",
      "...                      ...               ...            ...           ...   \n",
      "8945                0.000000               0.0            6.0        1000.0   \n",
      "8946                0.000000               0.0            6.0        1000.0   \n",
      "8947                0.000000               0.0            5.0        1000.0   \n",
      "8948                0.166667               2.0            0.0         500.0   \n",
      "8949                0.333333               2.0           23.0        1200.0   \n",
      "\n",
      "         PAYMENTS  MINIMUM_PAYMENTS  PRC_FULL_PAYMENT  TENURE  \n",
      "0      201.802084        139.509787          0.000000    12.0  \n",
      "1     4103.032597       1072.340217          0.222222    12.0  \n",
      "2      622.066742        627.284787          0.000000    12.0  \n",
      "3        0.000000        312.343947          0.000000    12.0  \n",
      "4      678.334763        244.791237          0.000000    12.0  \n",
      "...           ...               ...               ...     ...  \n",
      "8945   325.594462         48.886365          0.500000     6.0  \n",
      "8946   275.861322        312.343947          0.000000     6.0  \n",
      "8947    81.270775         82.418369          0.250000     6.0  \n",
      "8948    52.549959         55.755628          0.250000     6.0  \n",
      "8949    63.165404         88.288956          0.000000     6.0  \n",
      "\n",
      "[8950 rows x 18 columns]>\n"
     ]
    }
   ],
   "source": [
    "df = pd.concat([y, x], axis=1)\n",
    "print(df.shape)\n",
    "print(df.head)"
   ]
  },
  {
   "cell_type": "code",
   "execution_count": 28,
   "metadata": {
    "pycharm": {
     "is_executing": false,
     "name": "#%%\n"
    }
   },
   "outputs": [
    {
     "name": "stdout",
     "output_type": "stream",
     "text": [
      "(7434, 17)\n"
     ]
    },
    {
     "data": {
      "text/plain": [
       "1"
      ]
     },
     "execution_count": 28,
     "metadata": {},
     "output_type": "execute_result"
    }
   ],
   "source": [
    "print(x.shape) # Returns number of columns and rows\n",
    "x.isnull().any().sum()  # \n"
   ]
  },
  {
   "cell_type": "code",
   "execution_count": 68,
   "metadata": {
    "pycharm": {
     "is_executing": false,
     "name": "#%%\n"
    }
   },
   "outputs": [
    {
     "name": "stdout",
     "output_type": "stream",
     "text": [
      "[[0.73198937 0.24943448 0.42489974 ... 0.3024     0.52555097 0.36067954]\n",
      " [0.78696085 0.13432467 0.46955188 ... 0.09749953 0.2342269  0.36067954]\n",
      " [0.44713513 0.51808382 0.10766823 ... 0.0932934  0.52555097 0.36067954]\n",
      " ...\n",
      " [0.7403981  0.18547673 0.40196519 ... 0.32687479 0.32919999 4.12276757]\n",
      " [0.74517423 0.18547673 0.46955188 ... 0.33830497 0.32919999 4.12276757]\n",
      " [0.57257511 0.88903307 0.04214581 ... 0.3243581  0.52555097 4.12276757]]\n"
     ]
    },
    {
     "data": {
      "text/plain": [
       "Index(['BALANCE', 'BALANCE_FREQUENCY', 'PURCHASES', 'ONEOFF_PURCHASES',\n",
       "       'INSTALLMENTS_PURCHASES', 'CASH_ADVANCE', 'PURCHASES_FREQUENCY',\n",
       "       'ONEOFF_PURCHASES_FREQUENCY', 'PURCHASES_INSTALLMENTS_FREQUENCY',\n",
       "       'CASH_ADVANCE_FREQUENCY', 'CASH_ADVANCE_TRX', 'PURCHASES_TRX',\n",
       "       'CREDIT_LIMIT', 'PAYMENTS', 'MINIMUM_PAYMENTS', 'PRC_FULL_PAYMENT',\n",
       "       'TENURE'],\n",
       "      dtype='object')"
      ]
     },
     "execution_count": 68,
     "metadata": {},
     "output_type": "execute_result"
    }
   ],
   "source": [
    "from scipy import stats\n",
    "import numpy as np\n",
    "z = np.abs(stats.zscore(x))\n",
    "print(z)\n",
    "\n",
    "x.columns"
   ]
  },
  {
   "cell_type": "code",
   "execution_count": null,
   "metadata": {
    "pycharm": {
     "name": "#%%\n"
    }
   },
   "outputs": [],
   "source": []
  },
  {
   "cell_type": "code",
   "execution_count": 69,
   "metadata": {
    "pycharm": {
     "is_executing": false,
     "name": "#%%\n"
    }
   },
   "outputs": [
    {
     "name": "stdout",
     "output_type": "stream",
     "text": [
      "2311\n",
      "(7434, 18)\n",
      "Index(['CUST_ID', 'BALANCE', 'BALANCE_FREQUENCY', 'PURCHASES',\n",
      "       'ONEOFF_PURCHASES', 'INSTALLMENTS_PURCHASES', 'CASH_ADVANCE',\n",
      "       'PURCHASES_FREQUENCY', 'ONEOFF_PURCHASES_FREQUENCY',\n",
      "       'PURCHASES_INSTALLMENTS_FREQUENCY', 'CASH_ADVANCE_FREQUENCY',\n",
      "       'CASH_ADVANCE_TRX', 'PURCHASES_TRX', 'CREDIT_LIMIT', 'PAYMENTS',\n",
      "       'MINIMUM_PAYMENTS', 'PRC_FULL_PAYMENT', 'TENURE'],\n",
      "      dtype='object')\n"
     ]
    }
   ],
   "source": [
    "print(len(np.where(z > 3)[0]))\n",
    "\n",
    "dataset = df[(z < 3).all(axis=1)]\n",
    "\n",
    "print(dataset.shape)\n",
    "print(dataset.columns)"
   ]
  },
  {
   "cell_type": "code",
   "execution_count": 61,
   "metadata": {
    "pycharm": {
     "is_executing": false,
     "name": "#%%\n"
    }
   },
   "outputs": [
    {
     "name": "stdout",
     "output_type": "stream",
     "text": [
      "(7434, 18)\n",
      "0\n"
     ]
    },
    {
     "data": {
      "text/html": [
       "<div>\n",
       "<style scoped>\n",
       "    .dataframe tbody tr th:only-of-type {\n",
       "        vertical-align: middle;\n",
       "    }\n",
       "\n",
       "    .dataframe tbody tr th {\n",
       "        vertical-align: top;\n",
       "    }\n",
       "\n",
       "    .dataframe thead th {\n",
       "        text-align: right;\n",
       "    }\n",
       "</style>\n",
       "<table border=\"1\" class=\"dataframe\">\n",
       "  <thead>\n",
       "    <tr style=\"text-align: right;\">\n",
       "      <th></th>\n",
       "      <th>CUST_ID</th>\n",
       "      <th>BALANCE</th>\n",
       "      <th>BALANCE_FREQUENCY</th>\n",
       "      <th>PURCHASES</th>\n",
       "      <th>ONEOFF_PURCHASES</th>\n",
       "      <th>INSTALLMENTS_PURCHASES</th>\n",
       "      <th>CASH_ADVANCE</th>\n",
       "      <th>PURCHASES_FREQUENCY</th>\n",
       "      <th>ONEOFF_PURCHASES_FREQUENCY</th>\n",
       "      <th>PURCHASES_INSTALLMENTS_FREQUENCY</th>\n",
       "      <th>CASH_ADVANCE_FREQUENCY</th>\n",
       "      <th>CASH_ADVANCE_TRX</th>\n",
       "      <th>PURCHASES_TRX</th>\n",
       "      <th>CREDIT_LIMIT</th>\n",
       "      <th>PAYMENTS</th>\n",
       "      <th>MINIMUM_PAYMENTS</th>\n",
       "      <th>PRC_FULL_PAYMENT</th>\n",
       "      <th>TENURE</th>\n",
       "    </tr>\n",
       "  </thead>\n",
       "  <tbody>\n",
       "    <tr>\n",
       "      <th>0</th>\n",
       "      <td>C10001</td>\n",
       "      <td>40.900749</td>\n",
       "      <td>0.818182</td>\n",
       "      <td>95.40</td>\n",
       "      <td>0.00</td>\n",
       "      <td>95.4</td>\n",
       "      <td>0.000000</td>\n",
       "      <td>0.166667</td>\n",
       "      <td>0.000000</td>\n",
       "      <td>0.083333</td>\n",
       "      <td>0.000000</td>\n",
       "      <td>0.0</td>\n",
       "      <td>2.0</td>\n",
       "      <td>1000.0</td>\n",
       "      <td>201.802084</td>\n",
       "      <td>139.509787</td>\n",
       "      <td>0.000000</td>\n",
       "      <td>12.0</td>\n",
       "    </tr>\n",
       "    <tr>\n",
       "      <th>1</th>\n",
       "      <td>C10002</td>\n",
       "      <td>3202.467416</td>\n",
       "      <td>0.909091</td>\n",
       "      <td>0.00</td>\n",
       "      <td>0.00</td>\n",
       "      <td>0.0</td>\n",
       "      <td>6442.945483</td>\n",
       "      <td>0.000000</td>\n",
       "      <td>0.000000</td>\n",
       "      <td>0.000000</td>\n",
       "      <td>0.250000</td>\n",
       "      <td>4.0</td>\n",
       "      <td>0.0</td>\n",
       "      <td>7000.0</td>\n",
       "      <td>4103.032597</td>\n",
       "      <td>1072.340217</td>\n",
       "      <td>0.222222</td>\n",
       "      <td>12.0</td>\n",
       "    </tr>\n",
       "    <tr>\n",
       "      <th>2</th>\n",
       "      <td>C10003</td>\n",
       "      <td>2495.148862</td>\n",
       "      <td>1.000000</td>\n",
       "      <td>773.17</td>\n",
       "      <td>773.17</td>\n",
       "      <td>0.0</td>\n",
       "      <td>0.000000</td>\n",
       "      <td>1.000000</td>\n",
       "      <td>1.000000</td>\n",
       "      <td>0.000000</td>\n",
       "      <td>0.000000</td>\n",
       "      <td>0.0</td>\n",
       "      <td>12.0</td>\n",
       "      <td>7500.0</td>\n",
       "      <td>622.066742</td>\n",
       "      <td>627.284787</td>\n",
       "      <td>0.000000</td>\n",
       "      <td>12.0</td>\n",
       "    </tr>\n",
       "    <tr>\n",
       "      <th>3</th>\n",
       "      <td>C10004</td>\n",
       "      <td>1666.670542</td>\n",
       "      <td>0.636364</td>\n",
       "      <td>1499.00</td>\n",
       "      <td>1499.00</td>\n",
       "      <td>0.0</td>\n",
       "      <td>205.788017</td>\n",
       "      <td>0.083333</td>\n",
       "      <td>0.083333</td>\n",
       "      <td>0.000000</td>\n",
       "      <td>0.083333</td>\n",
       "      <td>1.0</td>\n",
       "      <td>1.0</td>\n",
       "      <td>7500.0</td>\n",
       "      <td>0.000000</td>\n",
       "      <td>312.343947</td>\n",
       "      <td>0.000000</td>\n",
       "      <td>12.0</td>\n",
       "    </tr>\n",
       "    <tr>\n",
       "      <th>4</th>\n",
       "      <td>C10005</td>\n",
       "      <td>817.714335</td>\n",
       "      <td>1.000000</td>\n",
       "      <td>16.00</td>\n",
       "      <td>16.00</td>\n",
       "      <td>0.0</td>\n",
       "      <td>0.000000</td>\n",
       "      <td>0.083333</td>\n",
       "      <td>0.083333</td>\n",
       "      <td>0.000000</td>\n",
       "      <td>0.000000</td>\n",
       "      <td>0.0</td>\n",
       "      <td>1.0</td>\n",
       "      <td>1200.0</td>\n",
       "      <td>678.334763</td>\n",
       "      <td>244.791237</td>\n",
       "      <td>0.000000</td>\n",
       "      <td>12.0</td>\n",
       "    </tr>\n",
       "  </tbody>\n",
       "</table>\n",
       "</div>"
      ],
      "text/plain": [
       "  CUST_ID      BALANCE  BALANCE_FREQUENCY  PURCHASES  ONEOFF_PURCHASES  \\\n",
       "0  C10001    40.900749           0.818182      95.40              0.00   \n",
       "1  C10002  3202.467416           0.909091       0.00              0.00   \n",
       "2  C10003  2495.148862           1.000000     773.17            773.17   \n",
       "3  C10004  1666.670542           0.636364    1499.00           1499.00   \n",
       "4  C10005   817.714335           1.000000      16.00             16.00   \n",
       "\n",
       "   INSTALLMENTS_PURCHASES  CASH_ADVANCE  PURCHASES_FREQUENCY  \\\n",
       "0                    95.4      0.000000             0.166667   \n",
       "1                     0.0   6442.945483             0.000000   \n",
       "2                     0.0      0.000000             1.000000   \n",
       "3                     0.0    205.788017             0.083333   \n",
       "4                     0.0      0.000000             0.083333   \n",
       "\n",
       "   ONEOFF_PURCHASES_FREQUENCY  PURCHASES_INSTALLMENTS_FREQUENCY  \\\n",
       "0                    0.000000                          0.083333   \n",
       "1                    0.000000                          0.000000   \n",
       "2                    1.000000                          0.000000   \n",
       "3                    0.083333                          0.000000   \n",
       "4                    0.083333                          0.000000   \n",
       "\n",
       "   CASH_ADVANCE_FREQUENCY  CASH_ADVANCE_TRX  PURCHASES_TRX  CREDIT_LIMIT  \\\n",
       "0                0.000000               0.0            2.0        1000.0   \n",
       "1                0.250000               4.0            0.0        7000.0   \n",
       "2                0.000000               0.0           12.0        7500.0   \n",
       "3                0.083333               1.0            1.0        7500.0   \n",
       "4                0.000000               0.0            1.0        1200.0   \n",
       "\n",
       "      PAYMENTS  MINIMUM_PAYMENTS  PRC_FULL_PAYMENT  TENURE  \n",
       "0   201.802084        139.509787          0.000000    12.0  \n",
       "1  4103.032597       1072.340217          0.222222    12.0  \n",
       "2   622.066742        627.284787          0.000000    12.0  \n",
       "3     0.000000        312.343947          0.000000    12.0  \n",
       "4   678.334763        244.791237          0.000000    12.0  "
      ]
     },
     "execution_count": 61,
     "metadata": {},
     "output_type": "execute_result"
    }
   ],
   "source": [
    "print(dataset.shape) # Returns number of columns and rows\n",
    "print(dataset.isnull().any().sum())\n",
    "dataset.head()"
   ]
  },
  {
   "cell_type": "code",
   "execution_count": 31,
   "metadata": {
    "pycharm": {
     "is_executing": false,
     "name": "#%%\n"
    }
   },
   "outputs": [
    {
     "name": "stdout",
     "output_type": "stream",
     "text": [
      "       BALANCE  BALANCE_FREQUENCY  PURCHASES  ONEOFF_PURCHASES  \\\n",
      "0    40.900749           0.818182      95.40              0.00   \n",
      "1  3202.467416           0.909091       0.00              0.00   \n",
      "2  2495.148862           1.000000     773.17            773.17   \n",
      "3  1666.670542           0.636364    1499.00           1499.00   \n",
      "4   817.714335           1.000000      16.00             16.00   \n",
      "\n",
      "   INSTALLMENTS_PURCHASES  CASH_ADVANCE  PURCHASES_FREQUENCY  \\\n",
      "0                    95.4      0.000000             0.166667   \n",
      "1                     0.0   6442.945483             0.000000   \n",
      "2                     0.0      0.000000             1.000000   \n",
      "3                     0.0    205.788017             0.083333   \n",
      "4                     0.0      0.000000             0.083333   \n",
      "\n",
      "   ONEOFF_PURCHASES_FREQUENCY  PURCHASES_INSTALLMENTS_FREQUENCY  \\\n",
      "0                    0.000000                          0.083333   \n",
      "1                    0.000000                          0.000000   \n",
      "2                    1.000000                          0.000000   \n",
      "3                    0.083333                          0.000000   \n",
      "4                    0.083333                          0.000000   \n",
      "\n",
      "   CASH_ADVANCE_FREQUENCY  CASH_ADVANCE_TRX  PURCHASES_TRX  CREDIT_LIMIT  \\\n",
      "0                0.000000                 0              2        1000.0   \n",
      "1                0.250000                 4              0        7000.0   \n",
      "2                0.000000                 0             12        7500.0   \n",
      "3                0.083333                 1              1        7500.0   \n",
      "4                0.000000                 0              1        1200.0   \n",
      "\n",
      "      PAYMENTS  MINIMUM_PAYMENTS  PRC_FULL_PAYMENT  TENURE  \n",
      "0   201.802084        139.509787          0.000000      12  \n",
      "1  4103.032597       1072.340217          0.222222      12  \n",
      "2   622.066742        627.284787          0.000000      12  \n",
      "3     0.000000               NaN          0.000000      12  \n",
      "4   678.334763        244.791237          0.000000      12  \n",
      "0    C10001\n",
      "1    C10002\n",
      "2    C10003\n",
      "3    C10004\n",
      "4    C10005\n",
      "Name: CUST_ID, dtype: object\n",
      "(7434, 17)\n",
      "(7434,)\n"
     ]
    }
   ],
   "source": [
    "y = dataset['CUST_ID']\n",
    "x = dataset.iloc[:, 1:] # All rows, All columns starting from third \n",
    "print(x.head())\n",
    "print(y.head())\n",
    "print(x.shape)\n",
    "print(y.shape)"
   ]
  },
  {
   "cell_type": "code",
   "execution_count": 35,
   "metadata": {
    "pycharm": {
     "is_executing": false,
     "name": "#%%\n"
    }
   },
   "outputs": [
    {
     "name": "stdout",
     "output_type": "stream",
     "text": [
      "BALANCE: 0\n",
      "BALANCE_FREQUENCY: 0\n",
      "PURCHASES: 0\n",
      "ONEOFF_PURCHASES: 0\n",
      "INSTALLMENTS_PURCHASES: 0\n",
      "CASH_ADVANCE: 0\n",
      "PURCHASES_FREQUENCY: 0\n",
      "ONEOFF_PURCHASES_FREQUENCY: 0\n",
      "PURCHASES_INSTALLMENTS_FREQUENCY: 0\n",
      "CASH_ADVANCE_FREQUENCY: 0\n",
      "CASH_ADVANCE_TRX: 0\n",
      "PURCHASES_TRX: 0\n",
      "CREDIT_LIMIT: 0\n",
      "PAYMENTS: 0\n",
      "MINIMUM_PAYMENTS: 0\n",
      "PRC_FULL_PAYMENT: 0\n",
      "TENURE: 0\n"
     ]
    }
   ],
   "source": [
    "# Check all null values\n",
    "for col in x:\n",
    "    print(f'{col}: {x[col].isnull().sum()}')"
   ]
  },
  {
   "cell_type": "code",
   "execution_count": 47,
   "metadata": {
    "pycharm": {
     "is_executing": false,
     "name": "#%%   \n"
    }
   },
   "outputs": [
    {
     "data": {
      "text/html": [
       "<div>\n",
       "<style scoped>\n",
       "    .dataframe tbody tr th:only-of-type {\n",
       "        vertical-align: middle;\n",
       "    }\n",
       "\n",
       "    .dataframe tbody tr th {\n",
       "        vertical-align: top;\n",
       "    }\n",
       "\n",
       "    .dataframe thead th {\n",
       "        text-align: right;\n",
       "    }\n",
       "</style>\n",
       "<table border=\"1\" class=\"dataframe\">\n",
       "  <thead>\n",
       "    <tr style=\"text-align: right;\">\n",
       "      <th></th>\n",
       "      <th>count</th>\n",
       "      <th>mean</th>\n",
       "      <th>std</th>\n",
       "      <th>min</th>\n",
       "      <th>25%</th>\n",
       "      <th>50%</th>\n",
       "      <th>75%</th>\n",
       "      <th>max</th>\n",
       "    </tr>\n",
       "  </thead>\n",
       "  <tbody>\n",
       "    <tr>\n",
       "      <th>BALANCE</th>\n",
       "      <td>7434.0</td>\n",
       "      <td>1269.831784</td>\n",
       "      <td>1517.952340</td>\n",
       "      <td>0.001214</td>\n",
       "      <td>120.946159</td>\n",
       "      <td>790.090769</td>\n",
       "      <td>1750.662783</td>\n",
       "      <td>7803.071972</td>\n",
       "    </tr>\n",
       "    <tr>\n",
       "      <th>BALANCE_FREQUENCY</th>\n",
       "      <td>7434.0</td>\n",
       "      <td>0.889646</td>\n",
       "      <td>0.213397</td>\n",
       "      <td>0.181818</td>\n",
       "      <td>0.909091</td>\n",
       "      <td>1.000000</td>\n",
       "      <td>1.000000</td>\n",
       "      <td>1.000000</td>\n",
       "    </tr>\n",
       "    <tr>\n",
       "      <th>PURCHASES</th>\n",
       "      <td>7434.0</td>\n",
       "      <td>753.123265</td>\n",
       "      <td>1025.441760</td>\n",
       "      <td>0.000000</td>\n",
       "      <td>46.687500</td>\n",
       "      <td>360.955000</td>\n",
       "      <td>1023.372500</td>\n",
       "      <td>7323.380000</td>\n",
       "    </tr>\n",
       "    <tr>\n",
       "      <th>ONEOFF_PURCHASES</th>\n",
       "      <td>7434.0</td>\n",
       "      <td>431.275673</td>\n",
       "      <td>793.561465</td>\n",
       "      <td>0.000000</td>\n",
       "      <td>0.000000</td>\n",
       "      <td>35.000000</td>\n",
       "      <td>520.000000</td>\n",
       "      <td>5497.040000</td>\n",
       "    </tr>\n",
       "    <tr>\n",
       "      <th>INSTALLMENTS_PURCHASES</th>\n",
       "      <td>7434.0</td>\n",
       "      <td>322.112279</td>\n",
       "      <td>506.012658</td>\n",
       "      <td>0.000000</td>\n",
       "      <td>0.000000</td>\n",
       "      <td>88.915000</td>\n",
       "      <td>443.250000</td>\n",
       "      <td>3119.280000</td>\n",
       "    </tr>\n",
       "    <tr>\n",
       "      <th>CASH_ADVANCE</th>\n",
       "      <td>7434.0</td>\n",
       "      <td>671.957249</td>\n",
       "      <td>1235.334487</td>\n",
       "      <td>0.000000</td>\n",
       "      <td>0.000000</td>\n",
       "      <td>0.000000</td>\n",
       "      <td>889.266455</td>\n",
       "      <td>7232.069823</td>\n",
       "    </tr>\n",
       "    <tr>\n",
       "      <th>PURCHASES_FREQUENCY</th>\n",
       "      <td>7434.0</td>\n",
       "      <td>0.485746</td>\n",
       "      <td>0.396350</td>\n",
       "      <td>0.000000</td>\n",
       "      <td>0.083333</td>\n",
       "      <td>0.500000</td>\n",
       "      <td>0.916667</td>\n",
       "      <td>1.000000</td>\n",
       "    </tr>\n",
       "    <tr>\n",
       "      <th>ONEOFF_PURCHASES_FREQUENCY</th>\n",
       "      <td>7434.0</td>\n",
       "      <td>0.192344</td>\n",
       "      <td>0.287619</td>\n",
       "      <td>0.000000</td>\n",
       "      <td>0.000000</td>\n",
       "      <td>0.083333</td>\n",
       "      <td>0.250000</td>\n",
       "      <td>1.000000</td>\n",
       "    </tr>\n",
       "    <tr>\n",
       "      <th>PURCHASES_INSTALLMENTS_FREQUENCY</th>\n",
       "      <td>7434.0</td>\n",
       "      <td>0.357495</td>\n",
       "      <td>0.392628</td>\n",
       "      <td>0.000000</td>\n",
       "      <td>0.000000</td>\n",
       "      <td>0.166667</td>\n",
       "      <td>0.750000</td>\n",
       "      <td>1.000000</td>\n",
       "    </tr>\n",
       "    <tr>\n",
       "      <th>CASH_ADVANCE_FREQUENCY</th>\n",
       "      <td>7434.0</td>\n",
       "      <td>0.109677</td>\n",
       "      <td>0.158778</td>\n",
       "      <td>0.000000</td>\n",
       "      <td>0.000000</td>\n",
       "      <td>0.000000</td>\n",
       "      <td>0.166667</td>\n",
       "      <td>0.727273</td>\n",
       "    </tr>\n",
       "    <tr>\n",
       "      <th>CASH_ADVANCE_TRX</th>\n",
       "      <td>7434.0</td>\n",
       "      <td>2.314501</td>\n",
       "      <td>3.941055</td>\n",
       "      <td>0.000000</td>\n",
       "      <td>0.000000</td>\n",
       "      <td>0.000000</td>\n",
       "      <td>3.000000</td>\n",
       "      <td>23.000000</td>\n",
       "    </tr>\n",
       "    <tr>\n",
       "      <th>PURCHASES_TRX</th>\n",
       "      <td>7434.0</td>\n",
       "      <td>12.057842</td>\n",
       "      <td>15.120242</td>\n",
       "      <td>0.000000</td>\n",
       "      <td>1.000000</td>\n",
       "      <td>7.000000</td>\n",
       "      <td>16.000000</td>\n",
       "      <td>89.000000</td>\n",
       "    </tr>\n",
       "    <tr>\n",
       "      <th>CREDIT_LIMIT</th>\n",
       "      <td>7434.0</td>\n",
       "      <td>3999.597543</td>\n",
       "      <td>2935.900739</td>\n",
       "      <td>50.000000</td>\n",
       "      <td>1500.000000</td>\n",
       "      <td>3000.000000</td>\n",
       "      <td>6000.000000</td>\n",
       "      <td>15000.000000</td>\n",
       "    </tr>\n",
       "    <tr>\n",
       "      <th>PAYMENTS</th>\n",
       "      <td>7434.0</td>\n",
       "      <td>1297.565656</td>\n",
       "      <td>1436.498465</td>\n",
       "      <td>0.000000</td>\n",
       "      <td>390.216308</td>\n",
       "      <td>797.938345</td>\n",
       "      <td>1626.296448</td>\n",
       "      <td>10226.601760</td>\n",
       "    </tr>\n",
       "    <tr>\n",
       "      <th>MINIMUM_PAYMENTS</th>\n",
       "      <td>7434.0</td>\n",
       "      <td>577.475186</td>\n",
       "      <td>776.332267</td>\n",
       "      <td>0.019163</td>\n",
       "      <td>167.947384</td>\n",
       "      <td>291.135341</td>\n",
       "      <td>680.429004</td>\n",
       "      <td>7781.671432</td>\n",
       "    </tr>\n",
       "    <tr>\n",
       "      <th>PRC_FULL_PAYMENT</th>\n",
       "      <td>7434.0</td>\n",
       "      <td>0.154570</td>\n",
       "      <td>0.290825</td>\n",
       "      <td>0.000000</td>\n",
       "      <td>0.000000</td>\n",
       "      <td>0.000000</td>\n",
       "      <td>0.166667</td>\n",
       "      <td>1.000000</td>\n",
       "    </tr>\n",
       "    <tr>\n",
       "      <th>TENURE</th>\n",
       "      <td>7434.0</td>\n",
       "      <td>11.750740</td>\n",
       "      <td>0.798485</td>\n",
       "      <td>8.000000</td>\n",
       "      <td>12.000000</td>\n",
       "      <td>12.000000</td>\n",
       "      <td>12.000000</td>\n",
       "      <td>12.000000</td>\n",
       "    </tr>\n",
       "  </tbody>\n",
       "</table>\n",
       "</div>"
      ],
      "text/plain": [
       "                                   count         mean          std        min  \\\n",
       "BALANCE                           7434.0  1269.831784  1517.952340   0.001214   \n",
       "BALANCE_FREQUENCY                 7434.0     0.889646     0.213397   0.181818   \n",
       "PURCHASES                         7434.0   753.123265  1025.441760   0.000000   \n",
       "ONEOFF_PURCHASES                  7434.0   431.275673   793.561465   0.000000   \n",
       "INSTALLMENTS_PURCHASES            7434.0   322.112279   506.012658   0.000000   \n",
       "CASH_ADVANCE                      7434.0   671.957249  1235.334487   0.000000   \n",
       "PURCHASES_FREQUENCY               7434.0     0.485746     0.396350   0.000000   \n",
       "ONEOFF_PURCHASES_FREQUENCY        7434.0     0.192344     0.287619   0.000000   \n",
       "PURCHASES_INSTALLMENTS_FREQUENCY  7434.0     0.357495     0.392628   0.000000   \n",
       "CASH_ADVANCE_FREQUENCY            7434.0     0.109677     0.158778   0.000000   \n",
       "CASH_ADVANCE_TRX                  7434.0     2.314501     3.941055   0.000000   \n",
       "PURCHASES_TRX                     7434.0    12.057842    15.120242   0.000000   \n",
       "CREDIT_LIMIT                      7434.0  3999.597543  2935.900739  50.000000   \n",
       "PAYMENTS                          7434.0  1297.565656  1436.498465   0.000000   \n",
       "MINIMUM_PAYMENTS                  7434.0   577.475186   776.332267   0.019163   \n",
       "PRC_FULL_PAYMENT                  7434.0     0.154570     0.290825   0.000000   \n",
       "TENURE                            7434.0    11.750740     0.798485   8.000000   \n",
       "\n",
       "                                          25%          50%          75%  \\\n",
       "BALANCE                            120.946159   790.090769  1750.662783   \n",
       "BALANCE_FREQUENCY                    0.909091     1.000000     1.000000   \n",
       "PURCHASES                           46.687500   360.955000  1023.372500   \n",
       "ONEOFF_PURCHASES                     0.000000    35.000000   520.000000   \n",
       "INSTALLMENTS_PURCHASES               0.000000    88.915000   443.250000   \n",
       "CASH_ADVANCE                         0.000000     0.000000   889.266455   \n",
       "PURCHASES_FREQUENCY                  0.083333     0.500000     0.916667   \n",
       "ONEOFF_PURCHASES_FREQUENCY           0.000000     0.083333     0.250000   \n",
       "PURCHASES_INSTALLMENTS_FREQUENCY     0.000000     0.166667     0.750000   \n",
       "CASH_ADVANCE_FREQUENCY               0.000000     0.000000     0.166667   \n",
       "CASH_ADVANCE_TRX                     0.000000     0.000000     3.000000   \n",
       "PURCHASES_TRX                        1.000000     7.000000    16.000000   \n",
       "CREDIT_LIMIT                      1500.000000  3000.000000  6000.000000   \n",
       "PAYMENTS                           390.216308   797.938345  1626.296448   \n",
       "MINIMUM_PAYMENTS                   167.947384   291.135341   680.429004   \n",
       "PRC_FULL_PAYMENT                     0.000000     0.000000     0.166667   \n",
       "TENURE                              12.000000    12.000000    12.000000   \n",
       "\n",
       "                                           max  \n",
       "BALANCE                            7803.071972  \n",
       "BALANCE_FREQUENCY                     1.000000  \n",
       "PURCHASES                          7323.380000  \n",
       "ONEOFF_PURCHASES                   5497.040000  \n",
       "INSTALLMENTS_PURCHASES             3119.280000  \n",
       "CASH_ADVANCE                       7232.069823  \n",
       "PURCHASES_FREQUENCY                   1.000000  \n",
       "ONEOFF_PURCHASES_FREQUENCY            1.000000  \n",
       "PURCHASES_INSTALLMENTS_FREQUENCY      1.000000  \n",
       "CASH_ADVANCE_FREQUENCY                0.727273  \n",
       "CASH_ADVANCE_TRX                     23.000000  \n",
       "PURCHASES_TRX                        89.000000  \n",
       "CREDIT_LIMIT                      15000.000000  \n",
       "PAYMENTS                          10226.601760  \n",
       "MINIMUM_PAYMENTS                   7781.671432  \n",
       "PRC_FULL_PAYMENT                      1.000000  \n",
       "TENURE                               12.000000  "
      ]
     },
     "execution_count": 47,
     "metadata": {},
     "output_type": "execute_result"
    }
   ],
   "source": [
    "x.describe().transpose()\n",
    "\n"
   ]
  },
  {
   "cell_type": "code",
   "execution_count": 29,
   "metadata": {
    "pycharm": {
     "is_executing": false,
     "name": "#%%   \n"
    }
   },
   "outputs": [
    {
     "data": {
      "text/plain": [
       "Text(0.5, 0, 'CREDIT_LIMIT / BALANCE')"
      ]
     },
     "execution_count": 29,
     "metadata": {},
     "output_type": "execute_result"
    },
    {
     "data": {
      "image/png": "[encoded data removed]",
      "text/plain": [
       "<Figure size 1152x648 with 1 Axes>"
      ]
     },
     "metadata": {},
     "output_type": "display_data"
    }
   ],
   "source": [
    "#Visualizing the data - displot\n",
    "plot_income = sns.distplot(x[\"CREDIT_LIMIT\"])\n",
    "plot_spend = sns.distplot(x[\"BALANCE\"])\n",
    "plt.xlabel('CREDIT_LIMIT / BALANCE')"
   ]
  },
  {
   "cell_type": "code",
   "execution_count": 63,
   "metadata": {
    "pycharm": {
     "is_executing": false,
     "name": "#%% \n"
    }
   },
   "outputs": [
    {
     "data": {
      "image/png": "[encoded data removed]",
      "text/plain": [
       "<Figure size 1152x648 with 1 Axes>"
      ]
     },
     "metadata": {},
     "output_type": "display_data"
    }
   ],
   "source": [
    "#Using the elbow method to find the optimum number of clusters\n",
    "from sklearn.cluster import KMeans\n",
    "wcss = []\n",
    "for i in range(1,11):\n",
    "    km=KMeans(n_clusters=i,\n",
    "              init='k-means++',\n",
    "              max_iter=300,\n",
    "              n_init=10,\n",
    "              random_state=0)\n",
    "    km.fit(x)\n",
    "    wcss.append(km.inertia_)\n",
    "plt.plot(range(1,11),wcss)\n",
    "plt.title('Elbow Method')\n",
    "plt.xlabel('Number of clusters')\n",
    "plt.ylabel('wcss')\n",
    "plt.show()"
   ]
  },
  {
   "cell_type": "code",
   "execution_count": 51,
   "metadata": {
    "pycharm": {
     "is_executing": false,
     "name": "#%% \n"
    },
    "scrolled": true
   },
   "outputs": [
    {
     "data": {
      "text/html": [
       "<div>\n",
       "<style scoped>\n",
       "    .dataframe tbody tr th:only-of-type {\n",
       "        vertical-align: middle;\n",
       "    }\n",
       "\n",
       "    .dataframe tbody tr th {\n",
       "        vertical-align: top;\n",
       "    }\n",
       "\n",
       "    .dataframe thead th {\n",
       "        text-align: right;\n",
       "    }\n",
       "</style>\n",
       "<table border=\"1\" class=\"dataframe\">\n",
       "  <thead>\n",
       "    <tr style=\"text-align: right;\">\n",
       "      <th></th>\n",
       "      <th>BALANCE</th>\n",
       "      <th>BALANCE_FREQUENCY</th>\n",
       "      <th>PURCHASES</th>\n",
       "      <th>ONEOFF_PURCHASES</th>\n",
       "      <th>INSTALLMENTS_PURCHASES</th>\n",
       "      <th>CASH_ADVANCE</th>\n",
       "      <th>PURCHASES_FREQUENCY</th>\n",
       "      <th>ONEOFF_PURCHASES_FREQUENCY</th>\n",
       "      <th>PURCHASES_INSTALLMENTS_FREQUENCY</th>\n",
       "      <th>CASH_ADVANCE_FREQUENCY</th>\n",
       "      <th>CASH_ADVANCE_TRX</th>\n",
       "      <th>PURCHASES_TRX</th>\n",
       "      <th>CREDIT_LIMIT</th>\n",
       "      <th>PAYMENTS</th>\n",
       "      <th>MINIMUM_PAYMENTS</th>\n",
       "      <th>PRC_FULL_PAYMENT</th>\n",
       "      <th>TENURE</th>\n",
       "    </tr>\n",
       "    <tr>\n",
       "      <th>cluster</th>\n",
       "      <th></th>\n",
       "      <th></th>\n",
       "      <th></th>\n",
       "      <th></th>\n",
       "      <th></th>\n",
       "      <th></th>\n",
       "      <th></th>\n",
       "      <th></th>\n",
       "      <th></th>\n",
       "      <th></th>\n",
       "      <th></th>\n",
       "      <th></th>\n",
       "      <th></th>\n",
       "      <th></th>\n",
       "      <th></th>\n",
       "      <th></th>\n",
       "      <th></th>\n",
       "    </tr>\n",
       "  </thead>\n",
       "  <tbody>\n",
       "    <tr>\n",
       "      <th>1</th>\n",
       "      <td>796.6</td>\n",
       "      <td>0.9</td>\n",
       "      <td>458.9</td>\n",
       "      <td>218.4</td>\n",
       "      <td>240.8</td>\n",
       "      <td>416.1</td>\n",
       "      <td>0.4</td>\n",
       "      <td>0.1</td>\n",
       "      <td>0.3</td>\n",
       "      <td>0.1</td>\n",
       "      <td>2.0</td>\n",
       "      <td>8.9</td>\n",
       "      <td>2008.9</td>\n",
       "      <td>838.7</td>\n",
       "      <td>481.1</td>\n",
       "      <td>0.1</td>\n",
       "      <td>11.7</td>\n",
       "    </tr>\n",
       "    <tr>\n",
       "      <th>2</th>\n",
       "      <td>770.2</td>\n",
       "      <td>0.9</td>\n",
       "      <td>1334.9</td>\n",
       "      <td>814.9</td>\n",
       "      <td>520.5</td>\n",
       "      <td>195.7</td>\n",
       "      <td>0.6</td>\n",
       "      <td>0.3</td>\n",
       "      <td>0.5</td>\n",
       "      <td>0.0</td>\n",
       "      <td>0.8</td>\n",
       "      <td>19.1</td>\n",
       "      <td>5716.4</td>\n",
       "      <td>1524.2</td>\n",
       "      <td>321.4</td>\n",
       "      <td>0.3</td>\n",
       "      <td>11.9</td>\n",
       "    </tr>\n",
       "    <tr>\n",
       "      <th>3</th>\n",
       "      <td>3995.1</td>\n",
       "      <td>1.0</td>\n",
       "      <td>566.3</td>\n",
       "      <td>334.6</td>\n",
       "      <td>231.8</td>\n",
       "      <td>2851.8</td>\n",
       "      <td>0.3</td>\n",
       "      <td>0.1</td>\n",
       "      <td>0.2</td>\n",
       "      <td>0.3</td>\n",
       "      <td>7.3</td>\n",
       "      <td>9.1</td>\n",
       "      <td>6264.9</td>\n",
       "      <td>2545.5</td>\n",
       "      <td>1473.3</td>\n",
       "      <td>0.0</td>\n",
       "      <td>11.8</td>\n",
       "    </tr>\n",
       "    <tr>\n",
       "      <th>4</th>\n",
       "      <td>1960.2</td>\n",
       "      <td>0.9</td>\n",
       "      <td>1641.1</td>\n",
       "      <td>1113.9</td>\n",
       "      <td>527.3</td>\n",
       "      <td>539.9</td>\n",
       "      <td>0.6</td>\n",
       "      <td>0.4</td>\n",
       "      <td>0.4</td>\n",
       "      <td>0.1</td>\n",
       "      <td>1.3</td>\n",
       "      <td>21.0</td>\n",
       "      <td>10557.7</td>\n",
       "      <td>2179.7</td>\n",
       "      <td>609.1</td>\n",
       "      <td>0.2</td>\n",
       "      <td>11.9</td>\n",
       "    </tr>\n",
       "  </tbody>\n",
       "</table>\n",
       "</div>"
      ],
      "text/plain": [
       "         BALANCE  BALANCE_FREQUENCY  PURCHASES  ONEOFF_PURCHASES  \\\n",
       "cluster                                                            \n",
       "1          796.6                0.9      458.9             218.4   \n",
       "2          770.2                0.9     1334.9             814.9   \n",
       "3         3995.1                1.0      566.3             334.6   \n",
       "4         1960.2                0.9     1641.1            1113.9   \n",
       "\n",
       "         INSTALLMENTS_PURCHASES  CASH_ADVANCE  PURCHASES_FREQUENCY  \\\n",
       "cluster                                                              \n",
       "1                         240.8         416.1                  0.4   \n",
       "2                         520.5         195.7                  0.6   \n",
       "3                         231.8        2851.8                  0.3   \n",
       "4                         527.3         539.9                  0.6   \n",
       "\n",
       "         ONEOFF_PURCHASES_FREQUENCY  PURCHASES_INSTALLMENTS_FREQUENCY  \\\n",
       "cluster                                                                 \n",
       "1                               0.1                               0.3   \n",
       "2                               0.3                               0.5   \n",
       "3                               0.1                               0.2   \n",
       "4                               0.4                               0.4   \n",
       "\n",
       "         CASH_ADVANCE_FREQUENCY  CASH_ADVANCE_TRX  PURCHASES_TRX  \\\n",
       "cluster                                                            \n",
       "1                           0.1               2.0            8.9   \n",
       "2                           0.0               0.8           19.1   \n",
       "3                           0.3               7.3            9.1   \n",
       "4                           0.1               1.3           21.0   \n",
       "\n",
       "         CREDIT_LIMIT  PAYMENTS  MINIMUM_PAYMENTS  PRC_FULL_PAYMENT  TENURE  \n",
       "cluster                                                                      \n",
       "1              2008.9     838.7             481.1               0.1    11.7  \n",
       "2              5716.4    1524.2             321.4               0.3    11.9  \n",
       "3              6264.9    2545.5            1473.3               0.0    11.8  \n",
       "4             10557.7    2179.7             609.1               0.2    11.9  "
      ]
     },
     "execution_count": 51,
     "metadata": {},
     "output_type": "execute_result"
    }
   ],
   "source": [
    "# Fitting K-Means to the dataset\n",
    "kmeans = KMeans(n_clusters = 4, init = 'k-means++', random_state = 42)\n",
    "y_kmeans = kmeans.fit_predict(x)#beginning of  the cluster numbering with 1 instead of 0\n",
    "y_kmeans1=y_kmeans\n",
    "y_kmeans1=y_kmeans+1# New Dataframe called cluster\n",
    "cluster = pd.DataFrame(y_kmeans1)# Adding cluster to the Dataset1\n",
    "x['cluster'] = cluster#Mean of clusters\n",
    "kmeans_mean_cluster = pd.DataFrame(round(x.groupby('cluster').mean(),1))\n",
    "kmeans_mean_cluster"
   ]
  },
  {
   "cell_type": "code",
   "execution_count": 58,
   "metadata": {
    "pycharm": {
     "is_executing": false,
     "name": "#%% \n"
    }
   },
   "outputs": [
    {
     "data": {
      "text/html": [
       "<div>\n",
       "<style scoped>\n",
       "    .dataframe tbody tr th:only-of-type {\n",
       "        vertical-align: middle;\n",
       "    }\n",
       "\n",
       "    .dataframe tbody tr th {\n",
       "        vertical-align: top;\n",
       "    }\n",
       "\n",
       "    .dataframe thead th {\n",
       "        text-align: right;\n",
       "    }\n",
       "</style>\n",
       "<table border=\"1\" class=\"dataframe\">\n",
       "  <thead>\n",
       "    <tr style=\"text-align: right;\">\n",
       "      <th></th>\n",
       "      <th>BALANCE</th>\n",
       "      <th>BALANCE_FREQUENCY</th>\n",
       "      <th>PURCHASES</th>\n",
       "      <th>ONEOFF_PURCHASES</th>\n",
       "      <th>INSTALLMENTS_PURCHASES</th>\n",
       "      <th>CASH_ADVANCE</th>\n",
       "      <th>PURCHASES_FREQUENCY</th>\n",
       "      <th>ONEOFF_PURCHASES_FREQUENCY</th>\n",
       "      <th>PURCHASES_INSTALLMENTS_FREQUENCY</th>\n",
       "      <th>CASH_ADVANCE_FREQUENCY</th>\n",
       "      <th>CASH_ADVANCE_TRX</th>\n",
       "      <th>PURCHASES_TRX</th>\n",
       "      <th>CREDIT_LIMIT</th>\n",
       "      <th>PAYMENTS</th>\n",
       "      <th>MINIMUM_PAYMENTS</th>\n",
       "      <th>PRC_FULL_PAYMENT</th>\n",
       "      <th>TENURE</th>\n",
       "      <th>cluster</th>\n",
       "    </tr>\n",
       "  </thead>\n",
       "  <tbody>\n",
       "    <tr>\n",
       "      <th>0</th>\n",
       "      <td>40.900749</td>\n",
       "      <td>0.818182</td>\n",
       "      <td>95.40</td>\n",
       "      <td>0.00</td>\n",
       "      <td>95.4</td>\n",
       "      <td>0.000000</td>\n",
       "      <td>0.166667</td>\n",
       "      <td>0.000000</td>\n",
       "      <td>0.083333</td>\n",
       "      <td>0.000000</td>\n",
       "      <td>0.0</td>\n",
       "      <td>2.0</td>\n",
       "      <td>1000.0</td>\n",
       "      <td>201.802084</td>\n",
       "      <td>139.509787</td>\n",
       "      <td>0.000000</td>\n",
       "      <td>12.0</td>\n",
       "      <td>1.0</td>\n",
       "    </tr>\n",
       "    <tr>\n",
       "      <th>1</th>\n",
       "      <td>3202.467416</td>\n",
       "      <td>0.909091</td>\n",
       "      <td>0.00</td>\n",
       "      <td>0.00</td>\n",
       "      <td>0.0</td>\n",
       "      <td>6442.945483</td>\n",
       "      <td>0.000000</td>\n",
       "      <td>0.000000</td>\n",
       "      <td>0.000000</td>\n",
       "      <td>0.250000</td>\n",
       "      <td>4.0</td>\n",
       "      <td>0.0</td>\n",
       "      <td>7000.0</td>\n",
       "      <td>4103.032597</td>\n",
       "      <td>1072.340217</td>\n",
       "      <td>0.222222</td>\n",
       "      <td>12.0</td>\n",
       "      <td>3.0</td>\n",
       "    </tr>\n",
       "    <tr>\n",
       "      <th>2</th>\n",
       "      <td>2495.148862</td>\n",
       "      <td>1.000000</td>\n",
       "      <td>773.17</td>\n",
       "      <td>773.17</td>\n",
       "      <td>0.0</td>\n",
       "      <td>0.000000</td>\n",
       "      <td>1.000000</td>\n",
       "      <td>1.000000</td>\n",
       "      <td>0.000000</td>\n",
       "      <td>0.000000</td>\n",
       "      <td>0.0</td>\n",
       "      <td>12.0</td>\n",
       "      <td>7500.0</td>\n",
       "      <td>622.066742</td>\n",
       "      <td>627.284787</td>\n",
       "      <td>0.000000</td>\n",
       "      <td>12.0</td>\n",
       "      <td>2.0</td>\n",
       "    </tr>\n",
       "    <tr>\n",
       "      <th>3</th>\n",
       "      <td>1666.670542</td>\n",
       "      <td>0.636364</td>\n",
       "      <td>1499.00</td>\n",
       "      <td>1499.00</td>\n",
       "      <td>0.0</td>\n",
       "      <td>205.788017</td>\n",
       "      <td>0.083333</td>\n",
       "      <td>0.083333</td>\n",
       "      <td>0.000000</td>\n",
       "      <td>0.083333</td>\n",
       "      <td>1.0</td>\n",
       "      <td>1.0</td>\n",
       "      <td>7500.0</td>\n",
       "      <td>0.000000</td>\n",
       "      <td>312.343947</td>\n",
       "      <td>0.000000</td>\n",
       "      <td>12.0</td>\n",
       "      <td>2.0</td>\n",
       "    </tr>\n",
       "    <tr>\n",
       "      <th>4</th>\n",
       "      <td>817.714335</td>\n",
       "      <td>1.000000</td>\n",
       "      <td>16.00</td>\n",
       "      <td>16.00</td>\n",
       "      <td>0.0</td>\n",
       "      <td>0.000000</td>\n",
       "      <td>0.083333</td>\n",
       "      <td>0.083333</td>\n",
       "      <td>0.000000</td>\n",
       "      <td>0.000000</td>\n",
       "      <td>0.0</td>\n",
       "      <td>1.0</td>\n",
       "      <td>1200.0</td>\n",
       "      <td>678.334763</td>\n",
       "      <td>244.791237</td>\n",
       "      <td>0.000000</td>\n",
       "      <td>12.0</td>\n",
       "      <td>1.0</td>\n",
       "    </tr>\n",
       "  </tbody>\n",
       "</table>\n",
       "</div>"
      ],
      "text/plain": [
       "       BALANCE  BALANCE_FREQUENCY  PURCHASES  ONEOFF_PURCHASES  \\\n",
       "0    40.900749           0.818182      95.40              0.00   \n",
       "1  3202.467416           0.909091       0.00              0.00   \n",
       "2  2495.148862           1.000000     773.17            773.17   \n",
       "3  1666.670542           0.636364    1499.00           1499.00   \n",
       "4   817.714335           1.000000      16.00             16.00   \n",
       "\n",
       "   INSTALLMENTS_PURCHASES  CASH_ADVANCE  PURCHASES_FREQUENCY  \\\n",
       "0                    95.4      0.000000             0.166667   \n",
       "1                     0.0   6442.945483             0.000000   \n",
       "2                     0.0      0.000000             1.000000   \n",
       "3                     0.0    205.788017             0.083333   \n",
       "4                     0.0      0.000000             0.083333   \n",
       "\n",
       "   ONEOFF_PURCHASES_FREQUENCY  PURCHASES_INSTALLMENTS_FREQUENCY  \\\n",
       "0                    0.000000                          0.083333   \n",
       "1                    0.000000                          0.000000   \n",
       "2                    1.000000                          0.000000   \n",
       "3                    0.083333                          0.000000   \n",
       "4                    0.083333                          0.000000   \n",
       "\n",
       "   CASH_ADVANCE_FREQUENCY  CASH_ADVANCE_TRX  PURCHASES_TRX  CREDIT_LIMIT  \\\n",
       "0                0.000000               0.0            2.0        1000.0   \n",
       "1                0.250000               4.0            0.0        7000.0   \n",
       "2                0.000000               0.0           12.0        7500.0   \n",
       "3                0.083333               1.0            1.0        7500.0   \n",
       "4                0.000000               0.0            1.0        1200.0   \n",
       "\n",
       "      PAYMENTS  MINIMUM_PAYMENTS  PRC_FULL_PAYMENT  TENURE  cluster  \n",
       "0   201.802084        139.509787          0.000000    12.0      1.0  \n",
       "1  4103.032597       1072.340217          0.222222    12.0      3.0  \n",
       "2   622.066742        627.284787          0.000000    12.0      2.0  \n",
       "3     0.000000        312.343947          0.000000    12.0      2.0  \n",
       "4   678.334763        244.791237          0.000000    12.0      1.0  "
      ]
     },
     "execution_count": 58,
     "metadata": {},
     "output_type": "execute_result"
    }
   ],
   "source": [
    "x.head()"
   ]
  },
  {
   "cell_type": "code",
   "execution_count": 37,
   "metadata": {
    "pycharm": {
     "is_executing": false,
     "name": "#%%\n"
    }
   },
   "outputs": [
    {
     "name": "stdout",
     "output_type": "stream",
     "text": [
      "             pca1         pca2\n",
      "0    -3542.606058  -497.178150\n",
      "1     4504.498501  4493.068832\n",
      "2     3334.418898  -826.391656\n",
      "3     3147.134824 -1683.170224\n",
      "4    -3062.730942   121.615211\n",
      "...           ...          ...\n",
      "7429 -3916.437971  -298.243653\n",
      "7430 -3559.388167  -545.856781\n",
      "7431 -3002.187784   672.083043\n",
      "7432 -3473.917405  -515.250264\n",
      "7433 -3882.065335    74.406346\n",
      "\n",
      "[7434 rows x 2 columns]\n"
     ]
    },
    {
     "data": {
      "image/png": "[encoded data removed]",
      "text/plain": [
       "<Figure size 432x288 with 1 Axes>"
      ]
     },
     "metadata": {
      "needs_background": "light"
     },
     "output_type": "display_data"
    }
   ],
   "source": [
    "import pandas as pd\n",
    "import seaborn as sns\n",
    "import matplotlib.pyplot as plt\n",
    "from sklearn.decomposition import PCA\n",
    "from sklearn.cluster import KMeans\n",
    "\n",
    "### Run PCA on the data and reduce the dimensions in pca_num_components dimensions\n",
    "reduced_data = PCA(n_components=2).fit_transform(x)\n",
    "results = pd.DataFrame(reduced_data,columns=['pca1','pca2'])\n",
    "\n",
    "print(results)\n",
    "sns.scatterplot(x=\"pca1\", y=\"pca2\", hue=y_kmeans1, data=results)\n",
    "plt.title('K-means Clustering with 2 dimensions')\n",
    "plt.show()"
   ]
  },
  {
   "cell_type": "code",
   "execution_count": 82,
   "metadata": {
    "pycharm": {
     "is_executing": false,
     "name": "#%%\n"
    }
   },
   "outputs": [
    {
     "name": "stdout",
     "output_type": "stream",
     "text": [
      "4942\n"
     ]
    }
   ],
   "source": [
    "print(len(x[x['cluster'] == 1]))"
   ]
  },
  {
   "cell_type": "code",
   "execution_count": 77,
   "metadata": {
    "pycharm": {
     "is_executing": false,
     "name": "#%%\n"
    }
   },
   "outputs": [
    {
     "name": "stdout",
     "output_type": "stream",
     "text": [
      "             pca1         pca2\n",
      "0    -3542.606058  -497.178150\n",
      "1     4504.498501  4493.068832\n",
      "2     3334.418898  -826.391656\n",
      "3     3147.134824 -1683.170224\n",
      "4    -3062.730942   121.615211\n",
      "...           ...          ...\n",
      "7429 -3916.437971  -298.243653\n",
      "7430 -3559.388167  -545.856781\n",
      "7431 -3002.187784   672.083043\n",
      "7432 -3473.917405  -515.250264\n",
      "7433 -3882.065335    74.406346\n",
      "\n",
      "[7434 rows x 2 columns]\n"
     ]
    },
    {
     "data": {
      "image/png": "[encoded data removed]",
      "text/plain": [
       "<Figure size 1152x648 with 1 Axes>"
      ]
     },
     "metadata": {},
     "output_type": "display_data"
    }
   ],
   "source": [
    "import pandas as pd\n",
    "import seaborn as sns\n",
    "import matplotlib.pyplot as plt\n",
    "from sklearn.decomposition import PCA\n",
    "from sklearn.cluster import KMeans\n",
    "\n",
    "### Run PCA on the data and reduce the dimensions in pca_num_components dimensions\n",
    "reduced_data = PCA(n_components=2).fit_transform(x)\n",
    "results = pd.DataFrame(reduced_data,columns=['pca1','pca2'])\n",
    "\n",
    "print(results)\n",
    "sns.scatterplot(x=\"pca1\", y=\"pca2\", data=results)\n",
    "plt.title('K-means Clustering with 2 dimensions')\n",
    "plt.show()"
   ]
  },
  {
   "cell_type": "code",
   "execution_count": null,
   "metadata": {
    "pycharm": {
     "name": "#%%\n"
    }
   },
   "outputs": [],
   "source": [
    "##Fitting kmeans to the dataset with k=4\n",
    "from sklearn.cluster import KMeans\n",
    "km4 = KMeans(n_clusters=6,\n",
    "           init='k-means++',\n",
    "           max_iter=300,\n",
    "           n_init=10,\n",
    "           random_state=0)\n",
    "y_means = km4.fit_predict(x_new)"
   ]
  },
  {
   "cell_type": "code",
   "execution_count": 42,
   "metadata": {
    "pycharm": {
     "is_executing": false,
     "name": "#%% \n"
    }
   },
   "outputs": [
    {
     "name": "stdout",
     "output_type": "stream",
     "text": [
      "[0 2 3 ... 0 0 0]\n"
     ]
    }
   ],
   "source": [
    "print(y_means)"
   ]
  },
  {
   "cell_type": "code",
   "execution_count": 54,
   "metadata": {
    "pycharm": {
     "is_executing": false,
     "name": "#%% \n"
    }
   },
   "outputs": [],
   "source": [
    "lables = KMeans(3, random_state=0).fit_predict(x_new)"
   ]
  },
  {
   "cell_type": "code",
   "execution_count": 55,
   "metadata": {
    "pycharm": {
     "is_executing": false,
     "name": "#%% \n"
    }
   },
   "outputs": [
    {
     "data": {
      "text/plain": [
       "array([0, 2, 1, ..., 0, 0, 0], dtype=int32)"
      ]
     },
     "execution_count": 55,
     "metadata": {},
     "output_type": "execute_result"
    }
   ],
   "source": [
    "lables"
   ]
  },
  {
   "cell_type": "code",
   "execution_count": null,
   "metadata": {
    "pycharm": {
     "name": "#%% \n"
    }
   },
   "outputs": [],
   "source": [
    "# Get the cluster centroids\n",
    "print(lables.cluster_centers_)\n",
    "    \n",
    "# Get the cluster labels\n",
    "print(lables.labels_)"
   ]
  },
  {
   "cell_type": "code",
   "execution_count": 162,
   "metadata": {
    "pycharm": {
     "is_executing": false,
     "name": "#%% \n"
    }
   },
   "outputs": [
    {
     "data": {
      "image/png": "[encoded data removed]",
      "text/plain": [
       "<Figure size 1152x648 with 1 Axes>"
      ]
     },
     "metadata": {},
     "output_type": "display_data"
    }
   ],
   "source": [
    "plt.scatter(kmeans.cluster_centers_[:, 0], kmeans.cluster_centers_[:, 1], c='red', marker='x')\n",
    "    \n",
    "plt.title('Data points and cluster centroids')\n",
    "plt.show()"
   ]
  },
  {
   "cell_type": "code",
   "execution_count": null,
   "metadata": {
    "pycharm": {
     "is_executing": true,
     "name": "#%% \n"
    }
   },
   "outputs": [
    {
     "ename": "ValueError",
     "evalue": "x and y must be the same size",
     "output_type": "error",
     "traceback": [
      "\u001b[0;31m---------------------------------------------------------------------------\u001b[0m",
      "\u001b[0;31mValueError\u001b[0m                                Traceback (most recent call last)",
      "\u001b[0;32m<ipython-input-24-5bf0bc663d48>\u001b[0m in \u001b[0;36m<module>\u001b[0;34m\u001b[0m\n\u001b[1;32m      1\u001b[0m plt.scatter(y,x, c=y_means,\n\u001b[0;32m----> 2\u001b[0;31m             s=50, cmap='viridis');\n\u001b[0m\u001b[1;32m      3\u001b[0m \u001b[0;34m\u001b[0m\u001b[0m\n",
      "\u001b[0;32m/Library/Frameworks/Python.framework/Versions/3.7/lib/python3.7/site-packages/matplotlib/pyplot.py\u001b[0m in \u001b[0;36mscatter\u001b[0;34m(x, y, s, c, marker, cmap, norm, vmin, vmax, alpha, linewidths, verts, edgecolors, plotnonfinite, data, **kwargs)\u001b[0m\n\u001b[1;32m   2839\u001b[0m         \u001b[0mverts\u001b[0m\u001b[0;34m=\u001b[0m\u001b[0mverts\u001b[0m\u001b[0;34m,\u001b[0m \u001b[0medgecolors\u001b[0m\u001b[0;34m=\u001b[0m\u001b[0medgecolors\u001b[0m\u001b[0;34m,\u001b[0m\u001b[0;34m\u001b[0m\u001b[0;34m\u001b[0m\u001b[0m\n\u001b[1;32m   2840\u001b[0m         plotnonfinite=plotnonfinite, **({\"data\": data} if data is not\n\u001b[0;32m-> 2841\u001b[0;31m         None else {}), **kwargs)\n\u001b[0m\u001b[1;32m   2842\u001b[0m     \u001b[0msci\u001b[0m\u001b[0;34m(\u001b[0m\u001b[0m__ret\u001b[0m\u001b[0;34m)\u001b[0m\u001b[0;34m\u001b[0m\u001b[0;34m\u001b[0m\u001b[0m\n\u001b[1;32m   2843\u001b[0m     \u001b[0;32mreturn\u001b[0m \u001b[0m__ret\u001b[0m\u001b[0;34m\u001b[0m\u001b[0;34m\u001b[0m\u001b[0m\n",
      "\u001b[0;32m/Library/Frameworks/Python.framework/Versions/3.7/lib/python3.7/site-packages/matplotlib/__init__.py\u001b[0m in \u001b[0;36minner\u001b[0;34m(ax, data, *args, **kwargs)\u001b[0m\n\u001b[1;32m   1597\u001b[0m     \u001b[0;32mdef\u001b[0m \u001b[0minner\u001b[0m\u001b[0;34m(\u001b[0m\u001b[0max\u001b[0m\u001b[0;34m,\u001b[0m \u001b[0;34m*\u001b[0m\u001b[0margs\u001b[0m\u001b[0;34m,\u001b[0m \u001b[0mdata\u001b[0m\u001b[0;34m=\u001b[0m\u001b[0;32mNone\u001b[0m\u001b[0;34m,\u001b[0m \u001b[0;34m**\u001b[0m\u001b[0mkwargs\u001b[0m\u001b[0;34m)\u001b[0m\u001b[0;34m:\u001b[0m\u001b[0;34m\u001b[0m\u001b[0;34m\u001b[0m\u001b[0m\n\u001b[1;32m   1598\u001b[0m         \u001b[0;32mif\u001b[0m \u001b[0mdata\u001b[0m \u001b[0;32mis\u001b[0m \u001b[0;32mNone\u001b[0m\u001b[0;34m:\u001b[0m\u001b[0;34m\u001b[0m\u001b[0;34m\u001b[0m\u001b[0m\n\u001b[0;32m-> 1599\u001b[0;31m             \u001b[0;32mreturn\u001b[0m \u001b[0mfunc\u001b[0m\u001b[0;34m(\u001b[0m\u001b[0max\u001b[0m\u001b[0;34m,\u001b[0m \u001b[0;34m*\u001b[0m\u001b[0mmap\u001b[0m\u001b[0;34m(\u001b[0m\u001b[0msanitize_sequence\u001b[0m\u001b[0;34m,\u001b[0m \u001b[0margs\u001b[0m\u001b[0;34m)\u001b[0m\u001b[0;34m,\u001b[0m \u001b[0;34m**\u001b[0m\u001b[0mkwargs\u001b[0m\u001b[0;34m)\u001b[0m\u001b[0;34m\u001b[0m\u001b[0;34m\u001b[0m\u001b[0m\n\u001b[0m\u001b[1;32m   1600\u001b[0m \u001b[0;34m\u001b[0m\u001b[0m\n\u001b[1;32m   1601\u001b[0m         \u001b[0mbound\u001b[0m \u001b[0;34m=\u001b[0m \u001b[0mnew_sig\u001b[0m\u001b[0;34m.\u001b[0m\u001b[0mbind\u001b[0m\u001b[0;34m(\u001b[0m\u001b[0max\u001b[0m\u001b[0;34m,\u001b[0m \u001b[0;34m*\u001b[0m\u001b[0margs\u001b[0m\u001b[0;34m,\u001b[0m \u001b[0;34m**\u001b[0m\u001b[0mkwargs\u001b[0m\u001b[0;34m)\u001b[0m\u001b[0;34m\u001b[0m\u001b[0;34m\u001b[0m\u001b[0m\n",
      "\u001b[0;32m/Library/Frameworks/Python.framework/Versions/3.7/lib/python3.7/site-packages/matplotlib/axes/_axes.py\u001b[0m in \u001b[0;36mscatter\u001b[0;34m(self, x, y, s, c, marker, cmap, norm, vmin, vmax, alpha, linewidths, verts, edgecolors, plotnonfinite, **kwargs)\u001b[0m\n\u001b[1;32m   4441\u001b[0m         \u001b[0my\u001b[0m \u001b[0;34m=\u001b[0m \u001b[0mnp\u001b[0m\u001b[0;34m.\u001b[0m\u001b[0mma\u001b[0m\u001b[0;34m.\u001b[0m\u001b[0mravel\u001b[0m\u001b[0;34m(\u001b[0m\u001b[0my\u001b[0m\u001b[0;34m)\u001b[0m\u001b[0;34m\u001b[0m\u001b[0;34m\u001b[0m\u001b[0m\n\u001b[1;32m   4442\u001b[0m         \u001b[0;32mif\u001b[0m \u001b[0mx\u001b[0m\u001b[0;34m.\u001b[0m\u001b[0msize\u001b[0m \u001b[0;34m!=\u001b[0m \u001b[0my\u001b[0m\u001b[0;34m.\u001b[0m\u001b[0msize\u001b[0m\u001b[0;34m:\u001b[0m\u001b[0;34m\u001b[0m\u001b[0;34m\u001b[0m\u001b[0m\n\u001b[0;32m-> 4443\u001b[0;31m             \u001b[0;32mraise\u001b[0m \u001b[0mValueError\u001b[0m\u001b[0;34m(\u001b[0m\u001b[0;34m\"x and y must be the same size\"\u001b[0m\u001b[0;34m)\u001b[0m\u001b[0;34m\u001b[0m\u001b[0;34m\u001b[0m\u001b[0m\n\u001b[0m\u001b[1;32m   4444\u001b[0m \u001b[0;34m\u001b[0m\u001b[0m\n\u001b[1;32m   4445\u001b[0m         \u001b[0;32mif\u001b[0m \u001b[0ms\u001b[0m \u001b[0;32mis\u001b[0m \u001b[0;32mNone\u001b[0m\u001b[0;34m:\u001b[0m\u001b[0;34m\u001b[0m\u001b[0;34m\u001b[0m\u001b[0m\n",
      "\u001b[0;31mValueError\u001b[0m: x and y must be the same size"
     ]
    }
   ],
   "source": [
    "plt.scatter(x,y. c=y_means,\n",
    "            s=50, cmap='viridis');"
   ]
  },
  {
   "cell_type": "code",
   "execution_count": 34,
   "metadata": {
    "pycharm": {
     "is_executing": false,
     "name": "#%% \n"
    }
   },
   "outputs": [
    {
     "ename": "TypeError",
     "evalue": "'(array([False,  True,  True, ..., False, False, False]), 0)' is an invalid key",
     "output_type": "error",
     "traceback": [
      "\u001b[0;31m---------------------------------------------------------------------------\u001b[0m",
      "\u001b[0;31mTypeError\u001b[0m                                 Traceback (most recent call last)",
      "\u001b[0;32m<ipython-input-34-dfe3fb9f02d2>\u001b[0m in \u001b[0;36m<module>\u001b[0;34m\u001b[0m\n\u001b[1;32m      1\u001b[0m \u001b[0;31m#Visualizing the clusters for k=4\u001b[0m\u001b[0;34m\u001b[0m\u001b[0;34m\u001b[0m\u001b[0;34m\u001b[0m\u001b[0m\n\u001b[0;32m----> 2\u001b[0;31m plt.scatter(x[y_means==0,0],\n\u001b[0m\u001b[1;32m      3\u001b[0m             \u001b[0mx\u001b[0m\u001b[0;34m[\u001b[0m\u001b[0my_means\u001b[0m\u001b[0;34m==\u001b[0m\u001b[0;36m0\u001b[0m\u001b[0;34m,\u001b[0m\u001b[0;36m1\u001b[0m\u001b[0;34m]\u001b[0m\u001b[0;34m,\u001b[0m\u001b[0;34m\u001b[0m\u001b[0;34m\u001b[0m\u001b[0m\n\u001b[1;32m      4\u001b[0m             \u001b[0ms\u001b[0m\u001b[0;34m=\u001b[0m\u001b[0;36m50\u001b[0m\u001b[0;34m,\u001b[0m\u001b[0;34m\u001b[0m\u001b[0;34m\u001b[0m\u001b[0m\n\u001b[1;32m      5\u001b[0m             \u001b[0mc\u001b[0m\u001b[0;34m=\u001b[0m\u001b[0;34m'purple'\u001b[0m\u001b[0;34m,\u001b[0m\u001b[0;34m\u001b[0m\u001b[0;34m\u001b[0m\u001b[0m\n",
      "\u001b[0;32m/Library/Frameworks/Python.framework/Versions/3.7/lib/python3.7/site-packages/pandas/core/frame.py\u001b[0m in \u001b[0;36m__getitem__\u001b[0;34m(self, key)\u001b[0m\n\u001b[1;32m   2993\u001b[0m             \u001b[0;32mif\u001b[0m \u001b[0mself\u001b[0m\u001b[0;34m.\u001b[0m\u001b[0mcolumns\u001b[0m\u001b[0;34m.\u001b[0m\u001b[0mnlevels\u001b[0m \u001b[0;34m>\u001b[0m \u001b[0;36m1\u001b[0m\u001b[0;34m:\u001b[0m\u001b[0;34m\u001b[0m\u001b[0;34m\u001b[0m\u001b[0m\n\u001b[1;32m   2994\u001b[0m                 \u001b[0;32mreturn\u001b[0m \u001b[0mself\u001b[0m\u001b[0;34m.\u001b[0m\u001b[0m_getitem_multilevel\u001b[0m\u001b[0;34m(\u001b[0m\u001b[0mkey\u001b[0m\u001b[0;34m)\u001b[0m\u001b[0;34m\u001b[0m\u001b[0;34m\u001b[0m\u001b[0m\n\u001b[0;32m-> 2995\u001b[0;31m             \u001b[0mindexer\u001b[0m \u001b[0;34m=\u001b[0m \u001b[0mself\u001b[0m\u001b[0;34m.\u001b[0m\u001b[0mcolumns\u001b[0m\u001b[0;34m.\u001b[0m\u001b[0mget_loc\u001b[0m\u001b[0;34m(\u001b[0m\u001b[0mkey\u001b[0m\u001b[0;34m)\u001b[0m\u001b[0;34m\u001b[0m\u001b[0;34m\u001b[0m\u001b[0m\n\u001b[0m\u001b[1;32m   2996\u001b[0m             \u001b[0;32mif\u001b[0m \u001b[0mis_integer\u001b[0m\u001b[0;34m(\u001b[0m\u001b[0mindexer\u001b[0m\u001b[0;34m)\u001b[0m\u001b[0;34m:\u001b[0m\u001b[0;34m\u001b[0m\u001b[0;34m\u001b[0m\u001b[0m\n\u001b[1;32m   2997\u001b[0m                 \u001b[0mindexer\u001b[0m \u001b[0;34m=\u001b[0m \u001b[0;34m[\u001b[0m\u001b[0mindexer\u001b[0m\u001b[0;34m]\u001b[0m\u001b[0;34m\u001b[0m\u001b[0;34m\u001b[0m\u001b[0m\n",
      "\u001b[0;32m/Library/Frameworks/Python.framework/Versions/3.7/lib/python3.7/site-packages/pandas/core/indexes/base.py\u001b[0m in \u001b[0;36mget_loc\u001b[0;34m(self, key, method, tolerance)\u001b[0m\n\u001b[1;32m   2895\u001b[0m                 )\n\u001b[1;32m   2896\u001b[0m             \u001b[0;32mtry\u001b[0m\u001b[0;34m:\u001b[0m\u001b[0;34m\u001b[0m\u001b[0;34m\u001b[0m\u001b[0m\n\u001b[0;32m-> 2897\u001b[0;31m                 \u001b[0;32mreturn\u001b[0m \u001b[0mself\u001b[0m\u001b[0;34m.\u001b[0m\u001b[0m_engine\u001b[0m\u001b[0;34m.\u001b[0m\u001b[0mget_loc\u001b[0m\u001b[0;34m(\u001b[0m\u001b[0mkey\u001b[0m\u001b[0;34m)\u001b[0m\u001b[0;34m\u001b[0m\u001b[0;34m\u001b[0m\u001b[0m\n\u001b[0m\u001b[1;32m   2898\u001b[0m             \u001b[0;32mexcept\u001b[0m \u001b[0mKeyError\u001b[0m\u001b[0;34m:\u001b[0m\u001b[0;34m\u001b[0m\u001b[0;34m\u001b[0m\u001b[0m\n\u001b[1;32m   2899\u001b[0m                 \u001b[0;32mreturn\u001b[0m \u001b[0mself\u001b[0m\u001b[0;34m.\u001b[0m\u001b[0m_engine\u001b[0m\u001b[0;34m.\u001b[0m\u001b[0mget_loc\u001b[0m\u001b[0;34m(\u001b[0m\u001b[0mself\u001b[0m\u001b[0;34m.\u001b[0m\u001b[0m_maybe_cast_indexer\u001b[0m\u001b[0;34m(\u001b[0m\u001b[0mkey\u001b[0m\u001b[0;34m)\u001b[0m\u001b[0;34m)\u001b[0m\u001b[0;34m\u001b[0m\u001b[0;34m\u001b[0m\u001b[0m\n",
      "\u001b[0;32mpandas/_libs/index.pyx\u001b[0m in \u001b[0;36mpandas._libs.index.IndexEngine.get_loc\u001b[0;34m()\u001b[0m\n",
      "\u001b[0;32mpandas/_libs/index.pyx\u001b[0m in \u001b[0;36mpandas._libs.index.IndexEngine.get_loc\u001b[0;34m()\u001b[0m\n",
      "\u001b[0;31mTypeError\u001b[0m: '(array([False,  True,  True, ..., False, False, False]), 0)' is an invalid key"
     ]
    }
   ],
   "source": [
    "#Visualizing the clusters for k=4\n",
    "plt.scatter(x[y_means==0,0],\n",
    "            x[y_means==0,1],\n",
    "            s=50,\n",
    "            c='purple',\n",
    "            label='Cluster1')"
   ]
  },
  {
   "cell_type": "code",
   "execution_count": null,
   "metadata": {
    "pycharm": {
     "name": "#%% \n"
    }
   },
   "outputs": [],
   "source": [
    "plt.scatter(x[y_means==1,0],\n",
    "            x[y_means==1,1],\n",
    "            s=50,\n",
    "            c='blue',\n",
    "            label='Cluster2')\n",
    "plt.scatter(x[y_means==2,0],\n",
    "            x[y_means==2,1],\n",
    "            s=50,\n",
    "            c='green',\n",
    "            label='Cluster3')\n",
    "plt.scatter(x[y_means==3,0],\n",
    "            x[y_means==3,1],\n",
    "            s=50, c='cyan',\n",
    "            label='Cluster4')\n",
    "plt.scatter(km4.cluster_centers_[:,0], km4.cluster_centers_[:,1],s=200,marker='s', c='red', alpha=0.7, label='Centroids')\n",
    "plt.title('Customer segments')\n",
    "plt.xlabel('Annual income of customer')\n",
    "plt.ylabel('Annual spend from customer on site')\n",
    "plt.legend()\n",
    "plt.show()\n",
    "\n"
   ]
  },
  {
   "cell_type": "code",
   "execution_count": 30,
   "metadata": {
    "pycharm": {
     "is_executing": false,
     "name": "#%% \n"
    }
   },
   "outputs": [
    {
     "name": "stdout",
     "output_type": "stream",
     "text": [
      "[ 2.13635938  7.40962324  5.09961887  7.81491465  1.89254207  0.26165417\n",
      "  1.59701749  4.38117707  8.43209665  8.66043846  2.77780226  8.3538914\n",
      "  4.50399192  6.89479938 -0.029199    3.95647753  4.53068484  0.5070483\n",
      "  3.13165795  2.20451529  1.2908219   1.18655254  5.03725437  2.85164868\n",
      "  2.60516867  4.69595848  0.86612328  4.7096473   2.30437816  4.02683656\n",
      "  7.87437368  7.37851598  4.18069237  6.7665223   7.94095139  7.43952498\n",
      "  7.48420129  7.98635066  2.47947561  0.66309163  3.59540802  2.05520738\n",
      "  5.47425256  4.21078127  2.46098693  2.76820711  8.10269597  2.74574995\n",
      "  7.56915836  1.50976729  3.4838387   0.62123179  7.61714473  0.75491062\n",
      "  2.05538289  2.8221382   7.80870276  1.97550822  7.72830656  0.92896271\n",
      "  7.3020772   4.32288566  9.28293222  2.95323761  3.10677258  2.7842772\n",
      "  7.51178724  0.95071691  7.84766052  3.21418433  4.17880807  3.32858293\n",
      "  8.06300134  2.9742542   1.9238532   8.45312331  2.97449321  4.72773123\n",
      "  0.70606661  8.20559195  0.08963316  4.08614263  1.05789418  1.14729369\n",
      "  8.46424331  5.33179296  0.79473586  4.9739971   6.6542852   7.48669893\n",
      "  3.8079242   0.90815116  8.61631686  3.01190457  3.12767494  3.79132988\n",
      "  1.36638252  1.08799459  5.46996004  3.28167398  8.6142732  -0.43637823\n",
      "  7.67490317  0.55219088  4.54498095  1.26296996 -0.07250997  4.85711133\n",
      "  6.83904013  5.37530962  2.20755388  3.56452854  0.48393379  8.08585131\n",
      "  0.75403615  3.49513189  7.52691964  1.26389129  1.82347242  5.4498263\n",
      "  3.01641891  0.60904739  3.60254338  0.59357385  1.62435083  1.1251547\n",
      "  0.65930057  2.32200809  0.93562086  1.94799775  8.16733925  2.43329317\n",
      "  2.24107546 -0.06357093  7.18503804  2.33911505  3.39806103  7.48142543\n",
      "  3.26801777  7.45631776  8.07635945  2.96483837  3.38204112  4.27191636\n",
      "  5.44132083  2.22222995  7.28761248  4.17614316  7.30222786  7.58086944\n",
      "  7.94426307  4.56078645  6.29994922  4.77028154  0.01780906  2.92105785\n",
      "  8.09888579  2.24834407  0.95610376  4.88977075  8.30643453  4.04094275\n",
      "  4.12240568  1.81948989  4.78526116  2.63109786  1.27407596  4.88542535\n",
      "  1.30662037  3.64795042  4.06271877  8.29620146  0.69007459  5.18540259\n",
      "  4.1305084   7.89325283  1.6787714   1.30380848  4.08805543  3.12186125\n",
      "  0.9501944   4.19583243  2.73050691  3.03445802  4.56742235  4.37679234\n",
      "  5.17635143  4.39759671  1.31451315  7.16447286  3.45177657  2.84881778\n",
      "  4.48527047  4.2140066   2.03478126  2.38333321  2.99211541  3.65582842\n",
      "  2.18943582  7.9783219   3.64414685  3.26721702 -0.10793862  2.06773859\n",
      "  3.89290127  6.00777418  2.8534991   8.68285664  4.68480619  6.73761577\n",
      "  4.54826443  2.68097255  4.58145668  5.02521524  7.72611315  2.50421275\n",
      "  2.64585078  0.48955674 -0.34432736  4.33495456  7.625494    0.6178122\n",
      "  0.45484511  3.18844294  0.06764529  3.13117134  3.11530945  7.30600872\n",
      "  7.80509789  5.1920962   4.19147702  8.74641672  3.85531444  1.01093082\n",
      "  2.92014479  4.33748653  0.71898913  3.08533972  8.88106128  3.07982487\n",
      "  1.08782923  4.84428322  0.87230937  7.55307742  7.70542113  7.3595896\n",
      "  7.95339446  3.44598961  3.00311934  6.24208856  4.87047502  3.01443916\n",
      "  0.65163384  4.62733684  3.29009724  3.91361274  3.94963585  0.19680756\n",
      "  1.03697228  7.76953035  4.55014643  4.93645836  3.41003096  0.63497163\n",
      "  8.13306058  3.0840054   3.85848832  7.69493053  5.41334556  1.24743587\n",
      "  0.60167173  3.15025055  2.43008647  3.43116792  1.69958043  0.07269288\n",
      "  1.40428145  4.84741412  8.15166254  7.78874716  1.54543482  1.08890025\n",
      "  3.56289184  0.8280013   0.83877343  1.13171965  7.2481621   3.42941343\n",
      "  8.51530794  3.90570036 -0.76589199  1.11969719  7.11031582  8.61416749\n",
      "  7.96776461  1.57979848  1.39176615  4.53592883  7.79110522  2.74966896]\n"
     ]
    },
    {
     "data": {
      "image/png": "[encoded data removed]",
      "text/plain": [
       "<Figure size 1152x648 with 1 Axes>"
      ]
     },
     "metadata": {},
     "output_type": "display_data"
    }
   ],
   "source": [
    "from sklearn.datasets.samples_generator import make_blobs\n",
    "X, y_true = make_blobs(n_samples=300, centers=4,\n",
    "                       cluster_std=0.60, random_state=0)\n",
    "plt.scatter(X[:, 0], X[:, 1], s=50);\n",
    "\n",
    "print(X[:, 1])\n",
    "\n"
   ]
  },
  {
   "cell_type": "code",
   "execution_count": 77,
   "metadata": {
    "pycharm": {
     "is_executing": false,
     "name": "#%%\n"
    }
   },
   "outputs": [
    {
     "data": {
      "text/html": [
       "<div>\n",
       "<style scoped>\n",
       "    .dataframe tbody tr th:only-of-type {\n",
       "        vertical-align: middle;\n",
       "    }\n",
       "\n",
       "    .dataframe tbody tr th {\n",
       "        vertical-align: top;\n",
       "    }\n",
       "\n",
       "    .dataframe thead th {\n",
       "        text-align: right;\n",
       "    }\n",
       "</style>\n",
       "<table border=\"1\" class=\"dataframe\">\n",
       "  <thead>\n",
       "    <tr style=\"text-align: right;\">\n",
       "      <th></th>\n",
       "      <th>BALANCE</th>\n",
       "      <th>BALANCE_FREQUENCY</th>\n",
       "      <th>PURCHASES</th>\n",
       "      <th>ONEOFF_PURCHASES</th>\n",
       "      <th>INSTALLMENTS_PURCHASES</th>\n",
       "      <th>CASH_ADVANCE</th>\n",
       "      <th>PURCHASES_FREQUENCY</th>\n",
       "      <th>ONEOFF_PURCHASES_FREQUENCY</th>\n",
       "      <th>PURCHASES_INSTALLMENTS_FREQUENCY</th>\n",
       "      <th>CASH_ADVANCE_FREQUENCY</th>\n",
       "      <th>CASH_ADVANCE_TRX</th>\n",
       "      <th>PURCHASES_TRX</th>\n",
       "      <th>CREDIT_LIMIT</th>\n",
       "      <th>PAYMENTS</th>\n",
       "      <th>MINIMUM_PAYMENTS</th>\n",
       "      <th>PRC_FULL_PAYMENT</th>\n",
       "      <th>TENURE</th>\n",
       "    </tr>\n",
       "    <tr>\n",
       "      <th>cluster</th>\n",
       "      <th></th>\n",
       "      <th></th>\n",
       "      <th></th>\n",
       "      <th></th>\n",
       "      <th></th>\n",
       "      <th></th>\n",
       "      <th></th>\n",
       "      <th></th>\n",
       "      <th></th>\n",
       "      <th></th>\n",
       "      <th></th>\n",
       "      <th></th>\n",
       "      <th></th>\n",
       "      <th></th>\n",
       "      <th></th>\n",
       "      <th></th>\n",
       "      <th></th>\n",
       "    </tr>\n",
       "  </thead>\n",
       "  <tbody>\n",
       "    <tr>\n",
       "      <th>1.0</th>\n",
       "      <td>1602.6</td>\n",
       "      <td>0.9</td>\n",
       "      <td>988.8</td>\n",
       "      <td>582.1</td>\n",
       "      <td>406.9</td>\n",
       "      <td>943.8</td>\n",
       "      <td>0.5</td>\n",
       "      <td>0.2</td>\n",
       "      <td>0.4</td>\n",
       "      <td>0.1</td>\n",
       "      <td>3.3</td>\n",
       "      <td>15.1</td>\n",
       "      <td>4688.4</td>\n",
       "      <td>1723.7</td>\n",
       "      <td>891.8</td>\n",
       "      <td>0.1</td>\n",
       "      <td>11.6</td>\n",
       "    </tr>\n",
       "    <tr>\n",
       "      <th>2.0</th>\n",
       "      <td>1836.5</td>\n",
       "      <td>0.9</td>\n",
       "      <td>1167.6</td>\n",
       "      <td>756.3</td>\n",
       "      <td>411.4</td>\n",
       "      <td>1091.4</td>\n",
       "      <td>0.5</td>\n",
       "      <td>0.2</td>\n",
       "      <td>0.4</td>\n",
       "      <td>0.1</td>\n",
       "      <td>3.4</td>\n",
       "      <td>15.2</td>\n",
       "      <td>5161.7</td>\n",
       "      <td>2060.1</td>\n",
       "      <td>881.0</td>\n",
       "      <td>0.2</td>\n",
       "      <td>11.7</td>\n",
       "    </tr>\n",
       "    <tr>\n",
       "      <th>3.0</th>\n",
       "      <td>1705.3</td>\n",
       "      <td>0.9</td>\n",
       "      <td>1039.2</td>\n",
       "      <td>617.8</td>\n",
       "      <td>421.6</td>\n",
       "      <td>1022.4</td>\n",
       "      <td>0.5</td>\n",
       "      <td>0.2</td>\n",
       "      <td>0.4</td>\n",
       "      <td>0.1</td>\n",
       "      <td>3.1</td>\n",
       "      <td>15.2</td>\n",
       "      <td>4966.9</td>\n",
       "      <td>1762.4</td>\n",
       "      <td>835.1</td>\n",
       "      <td>0.1</td>\n",
       "      <td>11.7</td>\n",
       "    </tr>\n",
       "    <tr>\n",
       "      <th>4.0</th>\n",
       "      <td>1879.6</td>\n",
       "      <td>0.9</td>\n",
       "      <td>1152.4</td>\n",
       "      <td>769.5</td>\n",
       "      <td>382.9</td>\n",
       "      <td>1196.1</td>\n",
       "      <td>0.5</td>\n",
       "      <td>0.2</td>\n",
       "      <td>0.3</td>\n",
       "      <td>0.1</td>\n",
       "      <td>3.5</td>\n",
       "      <td>15.1</td>\n",
       "      <td>5016.1</td>\n",
       "      <td>2047.2</td>\n",
       "      <td>964.2</td>\n",
       "      <td>0.1</td>\n",
       "      <td>11.6</td>\n",
       "    </tr>\n",
       "    <tr>\n",
       "      <th>5.0</th>\n",
       "      <td>1931.6</td>\n",
       "      <td>0.9</td>\n",
       "      <td>1206.3</td>\n",
       "      <td>749.9</td>\n",
       "      <td>457.1</td>\n",
       "      <td>1080.7</td>\n",
       "      <td>0.5</td>\n",
       "      <td>0.2</td>\n",
       "      <td>0.3</td>\n",
       "      <td>0.1</td>\n",
       "      <td>3.5</td>\n",
       "      <td>15.0</td>\n",
       "      <td>5415.7</td>\n",
       "      <td>2161.0</td>\n",
       "      <td>979.9</td>\n",
       "      <td>0.1</td>\n",
       "      <td>11.7</td>\n",
       "    </tr>\n",
       "    <tr>\n",
       "      <th>6.0</th>\n",
       "      <td>1668.7</td>\n",
       "      <td>0.9</td>\n",
       "      <td>1188.8</td>\n",
       "      <td>722.6</td>\n",
       "      <td>466.7</td>\n",
       "      <td>1042.1</td>\n",
       "      <td>0.5</td>\n",
       "      <td>0.2</td>\n",
       "      <td>0.4</td>\n",
       "      <td>0.1</td>\n",
       "      <td>3.3</td>\n",
       "      <td>17.1</td>\n",
       "      <td>4761.1</td>\n",
       "      <td>1909.8</td>\n",
       "      <td>946.0</td>\n",
       "      <td>0.2</td>\n",
       "      <td>11.6</td>\n",
       "    </tr>\n",
       "    <tr>\n",
       "      <th>7.0</th>\n",
       "      <td>2092.0</td>\n",
       "      <td>0.9</td>\n",
       "      <td>1113.3</td>\n",
       "      <td>620.5</td>\n",
       "      <td>492.8</td>\n",
       "      <td>1115.5</td>\n",
       "      <td>0.5</td>\n",
       "      <td>0.2</td>\n",
       "      <td>0.4</td>\n",
       "      <td>0.1</td>\n",
       "      <td>3.4</td>\n",
       "      <td>16.7</td>\n",
       "      <td>5570.3</td>\n",
       "      <td>2081.4</td>\n",
       "      <td>890.3</td>\n",
       "      <td>0.1</td>\n",
       "      <td>11.7</td>\n",
       "    </tr>\n",
       "    <tr>\n",
       "      <th>8.0</th>\n",
       "      <td>1864.6</td>\n",
       "      <td>0.9</td>\n",
       "      <td>1088.6</td>\n",
       "      <td>620.4</td>\n",
       "      <td>468.3</td>\n",
       "      <td>1298.5</td>\n",
       "      <td>0.5</td>\n",
       "      <td>0.2</td>\n",
       "      <td>0.4</td>\n",
       "      <td>0.2</td>\n",
       "      <td>3.8</td>\n",
       "      <td>15.8</td>\n",
       "      <td>5389.3</td>\n",
       "      <td>2252.3</td>\n",
       "      <td>834.4</td>\n",
       "      <td>0.1</td>\n",
       "      <td>11.6</td>\n",
       "    </tr>\n",
       "  </tbody>\n",
       "</table>\n",
       "</div>"
      ],
      "text/plain": [
       "         BALANCE  BALANCE_FREQUENCY  PURCHASES  ONEOFF_PURCHASES  \\\n",
       "cluster                                                            \n",
       "1.0       1602.6                0.9      988.8             582.1   \n",
       "2.0       1836.5                0.9     1167.6             756.3   \n",
       "3.0       1705.3                0.9     1039.2             617.8   \n",
       "4.0       1879.6                0.9     1152.4             769.5   \n",
       "5.0       1931.6                0.9     1206.3             749.9   \n",
       "6.0       1668.7                0.9     1188.8             722.6   \n",
       "7.0       2092.0                0.9     1113.3             620.5   \n",
       "8.0       1864.6                0.9     1088.6             620.4   \n",
       "\n",
       "         INSTALLMENTS_PURCHASES  CASH_ADVANCE  PURCHASES_FREQUENCY  \\\n",
       "cluster                                                              \n",
       "1.0                       406.9         943.8                  0.5   \n",
       "2.0                       411.4        1091.4                  0.5   \n",
       "3.0                       421.6        1022.4                  0.5   \n",
       "4.0                       382.9        1196.1                  0.5   \n",
       "5.0                       457.1        1080.7                  0.5   \n",
       "6.0                       466.7        1042.1                  0.5   \n",
       "7.0                       492.8        1115.5                  0.5   \n",
       "8.0                       468.3        1298.5                  0.5   \n",
       "\n",
       "         ONEOFF_PURCHASES_FREQUENCY  PURCHASES_INSTALLMENTS_FREQUENCY  \\\n",
       "cluster                                                                 \n",
       "1.0                             0.2                               0.4   \n",
       "2.0                             0.2                               0.4   \n",
       "3.0                             0.2                               0.4   \n",
       "4.0                             0.2                               0.3   \n",
       "5.0                             0.2                               0.3   \n",
       "6.0                             0.2                               0.4   \n",
       "7.0                             0.2                               0.4   \n",
       "8.0                             0.2                               0.4   \n",
       "\n",
       "         CASH_ADVANCE_FREQUENCY  CASH_ADVANCE_TRX  PURCHASES_TRX  \\\n",
       "cluster                                                            \n",
       "1.0                         0.1               3.3           15.1   \n",
       "2.0                         0.1               3.4           15.2   \n",
       "3.0                         0.1               3.1           15.2   \n",
       "4.0                         0.1               3.5           15.1   \n",
       "5.0                         0.1               3.5           15.0   \n",
       "6.0                         0.1               3.3           17.1   \n",
       "7.0                         0.1               3.4           16.7   \n",
       "8.0                         0.2               3.8           15.8   \n",
       "\n",
       "         CREDIT_LIMIT  PAYMENTS  MINIMUM_PAYMENTS  PRC_FULL_PAYMENT  TENURE  \n",
       "cluster                                                                      \n",
       "1.0            4688.4    1723.7             891.8               0.1    11.6  \n",
       "2.0            5161.7    2060.1             881.0               0.2    11.7  \n",
       "3.0            4966.9    1762.4             835.1               0.1    11.7  \n",
       "4.0            5016.1    2047.2             964.2               0.1    11.6  \n",
       "5.0            5415.7    2161.0             979.9               0.1    11.7  \n",
       "6.0            4761.1    1909.8             946.0               0.2    11.6  \n",
       "7.0            5570.3    2081.4             890.3               0.1    11.7  \n",
       "8.0            5389.3    2252.3             834.4               0.1    11.6  "
      ]
     },
     "execution_count": 77,
     "metadata": {},
     "output_type": "execute_result"
    }
   ],
   "source": [
    "# Fitting K-Means to the dataset\n",
    "kmeans = KMeans(n_clusters = 8, init = 'k-means++', random_state = 42)\n",
    "y_kmeans = kmeans.fit_predict(x_new)#beginning of  the cluster numbering with 1 instead of 0\n",
    "y_kmeans1=y_kmeans\n",
    "y_kmeans1=y_kmeans+1# New Dataframe called cluster\n",
    "cluster = pd.DataFrame(y_kmeans1)# Adding cluster to the Dataset1\n",
    "x['cluster'] = cluster#Mean of clusters\n",
    "kmeans_mean_cluster = pd.DataFrame(round(x.groupby('cluster').mean(),1))\n",
    "kmeans_mean_cluster"
   ]
  },
  {
   "cell_type": "code",
   "execution_count": 68,
   "metadata": {
    "pycharm": {
     "is_executing": false,
     "name": "#%%\n"
    }
   },
   "outputs": [],
   "source": [
    "kmeans = KMeans(n_clusters = 4, init = 'k-means++', random_state = 42)"
   ]
  },
  {
   "cell_type": "code",
   "execution_count": 73,
   "metadata": {
    "pycharm": {
     "is_executing": false,
     "name": "#%% \n"
    }
   },
   "outputs": [
    {
     "name": "stdout",
     "output_type": "stream",
     "text": [
      "[[ 812.70789    0.87445  531.73975  266.21177  265.85153  431.33611\n",
      "     0.45672    0.13674    0.35092    0.0973     1.94516    9.79098\n",
      "  2262.34667  930.12473  477.52218    0.14848   11.6983 ]\n",
      " [ 894.28869    0.88843 1499.11755  966.55546  532.77951  194.9459\n",
      "     0.65832    0.38334    0.44577    0.03955    0.7207    20.07747\n",
      "  7640.90909 1744.77681  340.72876    0.25904   11.88932]\n",
      " [4236.29674    0.97015  698.97069  424.53517  274.47184 2682.24919\n",
      "     0.35852    0.17293    0.24966    0.28634    6.78452   10.89121\n",
      "  7129.76417 2478.50367 1474.55704    0.01821   11.79916]]\n",
      "[0 2 1 ... 0 0 0]\n"
     ]
    },
    {
     "ename": "TypeError",
     "evalue": "'(slice(None, None, None), 0)' is an invalid key",
     "output_type": "error",
     "traceback": [
      "\u001b[0;31m---------------------------------------------------------------------------\u001b[0m",
      "\u001b[0;31mTypeError\u001b[0m                                 Traceback (most recent call last)",
      "\u001b[0;32m<ipython-input-73-34a08ee14dc7>\u001b[0m in \u001b[0;36m<module>\u001b[0;34m\u001b[0m\n\u001b[1;32m      6\u001b[0m \u001b[0;34m\u001b[0m\u001b[0m\n\u001b[1;32m      7\u001b[0m \u001b[0;31m# Get the cluster labels\u001b[0m\u001b[0;34m\u001b[0m\u001b[0;34m\u001b[0m\u001b[0;34m\u001b[0m\u001b[0m\n\u001b[0;32m----> 8\u001b[0;31m \u001b[0mx_new\u001b[0m\u001b[0;34m[\u001b[0m\u001b[0;34m:\u001b[0m\u001b[0;34m,\u001b[0m \u001b[0;36m0\u001b[0m\u001b[0;34m]\u001b[0m\u001b[0;34m\u001b[0m\u001b[0;34m\u001b[0m\u001b[0m\n\u001b[0m",
      "\u001b[0;32m/Library/Frameworks/Python.framework/Versions/3.7/lib/python3.7/site-packages/pandas/core/frame.py\u001b[0m in \u001b[0;36m__getitem__\u001b[0;34m(self, key)\u001b[0m\n\u001b[1;32m   2993\u001b[0m             \u001b[0;32mif\u001b[0m \u001b[0mself\u001b[0m\u001b[0;34m.\u001b[0m\u001b[0mcolumns\u001b[0m\u001b[0;34m.\u001b[0m\u001b[0mnlevels\u001b[0m \u001b[0;34m>\u001b[0m \u001b[0;36m1\u001b[0m\u001b[0;34m:\u001b[0m\u001b[0;34m\u001b[0m\u001b[0;34m\u001b[0m\u001b[0m\n\u001b[1;32m   2994\u001b[0m                 \u001b[0;32mreturn\u001b[0m \u001b[0mself\u001b[0m\u001b[0;34m.\u001b[0m\u001b[0m_getitem_multilevel\u001b[0m\u001b[0;34m(\u001b[0m\u001b[0mkey\u001b[0m\u001b[0;34m)\u001b[0m\u001b[0;34m\u001b[0m\u001b[0;34m\u001b[0m\u001b[0m\n\u001b[0;32m-> 2995\u001b[0;31m             \u001b[0mindexer\u001b[0m \u001b[0;34m=\u001b[0m \u001b[0mself\u001b[0m\u001b[0;34m.\u001b[0m\u001b[0mcolumns\u001b[0m\u001b[0;34m.\u001b[0m\u001b[0mget_loc\u001b[0m\u001b[0;34m(\u001b[0m\u001b[0mkey\u001b[0m\u001b[0;34m)\u001b[0m\u001b[0;34m\u001b[0m\u001b[0;34m\u001b[0m\u001b[0m\n\u001b[0m\u001b[1;32m   2996\u001b[0m             \u001b[0;32mif\u001b[0m \u001b[0mis_integer\u001b[0m\u001b[0;34m(\u001b[0m\u001b[0mindexer\u001b[0m\u001b[0;34m)\u001b[0m\u001b[0;34m:\u001b[0m\u001b[0;34m\u001b[0m\u001b[0;34m\u001b[0m\u001b[0m\n\u001b[1;32m   2997\u001b[0m                 \u001b[0mindexer\u001b[0m \u001b[0;34m=\u001b[0m \u001b[0;34m[\u001b[0m\u001b[0mindexer\u001b[0m\u001b[0;34m]\u001b[0m\u001b[0;34m\u001b[0m\u001b[0;34m\u001b[0m\u001b[0m\n",
      "\u001b[0;32m/Library/Frameworks/Python.framework/Versions/3.7/lib/python3.7/site-packages/pandas/core/indexes/base.py\u001b[0m in \u001b[0;36mget_loc\u001b[0;34m(self, key, method, tolerance)\u001b[0m\n\u001b[1;32m   2895\u001b[0m                 )\n\u001b[1;32m   2896\u001b[0m             \u001b[0;32mtry\u001b[0m\u001b[0;34m:\u001b[0m\u001b[0;34m\u001b[0m\u001b[0;34m\u001b[0m\u001b[0m\n\u001b[0;32m-> 2897\u001b[0;31m                 \u001b[0;32mreturn\u001b[0m \u001b[0mself\u001b[0m\u001b[0;34m.\u001b[0m\u001b[0m_engine\u001b[0m\u001b[0;34m.\u001b[0m\u001b[0mget_loc\u001b[0m\u001b[0;34m(\u001b[0m\u001b[0mkey\u001b[0m\u001b[0;34m)\u001b[0m\u001b[0;34m\u001b[0m\u001b[0;34m\u001b[0m\u001b[0m\n\u001b[0m\u001b[1;32m   2898\u001b[0m             \u001b[0;32mexcept\u001b[0m \u001b[0mKeyError\u001b[0m\u001b[0;34m:\u001b[0m\u001b[0;34m\u001b[0m\u001b[0;34m\u001b[0m\u001b[0m\n\u001b[1;32m   2899\u001b[0m                 \u001b[0;32mreturn\u001b[0m \u001b[0mself\u001b[0m\u001b[0;34m.\u001b[0m\u001b[0m_engine\u001b[0m\u001b[0;34m.\u001b[0m\u001b[0mget_loc\u001b[0m\u001b[0;34m(\u001b[0m\u001b[0mself\u001b[0m\u001b[0;34m.\u001b[0m\u001b[0m_maybe_cast_indexer\u001b[0m\u001b[0;34m(\u001b[0m\u001b[0mkey\u001b[0m\u001b[0;34m)\u001b[0m\u001b[0;34m)\u001b[0m\u001b[0;34m\u001b[0m\u001b[0;34m\u001b[0m\u001b[0m\n",
      "\u001b[0;32mpandas/_libs/index.pyx\u001b[0m in \u001b[0;36mpandas._libs.index.IndexEngine.get_loc\u001b[0;34m()\u001b[0m\n",
      "\u001b[0;32mpandas/_libs/index.pyx\u001b[0m in \u001b[0;36mpandas._libs.index.IndexEngine.get_loc\u001b[0;34m()\u001b[0m\n",
      "\u001b[0;31mTypeError\u001b[0m: '(slice(None, None, None), 0)' is an invalid key"
     ]
    }
   ],
   "source": [
    "# Get the cluster centroids\n",
    "print(kmeans.cluster_centers_)\n",
    "    \n",
    "# Get the cluster labels\n",
    "print(kmeans.labels_)\n",
    "\n",
    "# Get the cluster labels\n",
    "x_new[:, 0]"
   ]
  },
  {
   "cell_type": "code",
   "execution_count": 78,
   "metadata": {
    "pycharm": {
     "is_executing": false,
     "name": "#%% \n"
    }
   },
   "outputs": [
    {
     "data": {
      "image/png": "[encoded data removed]",
      "text/plain": [
       "<Figure size 432x288 with 1 Axes>"
      ]
     },
     "metadata": {
      "needs_background": "light"
     },
     "output_type": "display_data"
    }
   ],
   "source": [
    "# Plotting the cluster centers and the data points on a 2D plane\n",
    "#plt.scatter(X[:, 0], X[:, -1])\n",
    "    \n",
    "plt.scatter(kmeans.cluster_centers_[:, 0], kmeans.cluster_centers_[:, 1], c='red', marker='x')\n",
    "    \n",
    "plt.title('Data points and cluster centroids')\n",
    "plt.show()"
   ]
  },
  {
   "cell_type": "code",
   "execution_count": null,
   "metadata": {
    "pycharm": {
     "name": "#%%\n"
    }
   },
   "outputs": [],
   "source": [
    "import pandas as pd\n",
    "import seaborn as ssns\n",
    "import matplotlib.pyplot as plt\n",
    "from sklearn.decomposition import PCA\n",
    "from sklearn.cluster import KMeans\n",
    "\n",
    "### Run PCA on the data and reduce the dimensions in pca_num_components dimensions\n",
    "reduced_data = PCA(n_components=2).fit_transform(x)\n",
    "results = pd.DataFrame(reduced_data,columns=['pca1','pca2'])\n",
    "\n",
    "print(results)\n",
    "sns.scatterplot(x=\"pca1\", y=\"pca2\", data=results)\n",
    "plt.title('K-means Clustering with 2 dimensions')\n",
    "plt.show()"
   ]
  },
  {
   "cell_type": "code",
   "execution_count": 50,
   "metadata": {
    "pycharm": {
     "is_executing": false,
     "name": "#%%\n"
    }
   },
   "outputs": [
    {
     "data": {
      "image/png": "[encoded data removed]",
      "text/plain": [
       "<Figure size 432x288 with 1 Axes>"
      ]
     },
     "metadata": {
      "needs_background": "light"
     },
     "output_type": "display_data"
    }
   ],
   "source": [
    "# Hierarchical clustering for the same dataset\n",
    "# creating a dataset for hierarchical clustering\n",
    "\n",
    "from matplotlib import pyplot as plt\n",
    "from scipy.cluster.hierarchy import dendrogram, linkage\n",
    "import numpy as np# some setting for this notebook to actually show the graphs inline\n",
    "# you probably won't need this\n",
    "%matplotlib inline\n",
    "np.set_printoptions(precision=3, suppress=True)  # suppress scientific float notation#creating the linkage matrix\n",
    "H_cluster = linkage(x,'average')\n",
    "plt.title('Hierarchical Clustering Dendrogram (truncated)')\n",
    "plt.xlabel('sample index or (cluster size)')\n",
    "plt.ylabel('distance')\n",
    "dendrogram(\n",
    "    H_cluster,\n",
    "    truncate_mode='lastp',  # show only the last p merged clusters\n",
    "    p=4,  # show only the last p merged clusters\n",
    "    leaf_rotation=90.,\n",
    "    leaf_font_size=12.,\n",
    "    show_contracted=True,  # to get a distribution impression in truncated branches\n",
    ")\n",
    "plt.show()"
   ]
  },
  {
   "cell_type": "code",
   "execution_count": null,
   "metadata": {},
   "outputs": [],
   "source": [
    "y_kmeans1=y_kmeans+1# New Dataframe called cluster\n",
    "cluster = pd.DataFrame(y_kmeans1)# Adding cluster to the Dataset1\n",
    "x['cluster'] = cluster#Mean of clusters\n",
    "kmeans_mean_cluster = pd.DataFrame(round(x.groupby('cluster').mean(),1))\n",
    "kmeans_mean_cluster"
   ]
  },
  {
   "cell_type": "code",
   "execution_count": 46,
   "metadata": {},
   "outputs": [
    {
     "data": {
      "text/plain": [
       "array([[  4299.  ,   7065.  ,      4.85,      2.  ],\n",
       "       [  3428.  ,   6149.  ,     11.31,      2.  ],\n",
       "       [  7201.  ,   7233.  ,     12.51,      2.  ],\n",
       "       ...,\n",
       "       [ 14858.  ,  14863.  , 127216.14,   2005.  ],\n",
       "       [ 14862.  ,  14864.  , 130007.28,   2757.  ],\n",
       "       [ 14861.  ,  14865.  , 311318.25,   7434.  ]])"
      ]
     },
     "execution_count": 46,
     "metadata": {},
     "output_type": "execute_result"
    }
   ],
   "source": [
    "H_cluster"
   ]
  },
  {
   "cell_type": "code",
   "execution_count": 47,
   "metadata": {},
   "outputs": [
    {
     "data": {
      "text/plain": [
       "{'icoord': [[25.0, 25.0, 35.0, 35.0],\n",
       "  [15.0, 15.0, 30.0, 30.0],\n",
       "  [5.0, 5.0, 22.5, 22.5]],\n",
       " 'dcoord': [[0.0, 127216.14172744579, 127216.14172744579, 0.0],\n",
       "  [0.0, 130007.27696021684, 130007.27696021684, 127216.14172744579],\n",
       "  [0.0, 311318.2460942234, 311318.2460942234, 130007.27696021684]],\n",
       " 'ivl': ['(4677)', '(752)', '(638)', '(1367)'],\n",
       " 'leaves': [14861, 14862, 14858, 14863],\n",
       " 'color_list': ['g', 'g', 'b']}"
      ]
     },
     "execution_count": 47,
     "metadata": {},
     "output_type": "execute_result"
    },
    {
     "data": {
      "image/png": "[encoded data removed]",
      "text/plain": [
       "<Figure size 432x288 with 1 Axes>"
      ]
     },
     "metadata": {
      "needs_background": "light"
     },
     "output_type": "display_data"
    }
   ],
   "source": [
    "dendrogram(\n",
    "    H_cluster,\n",
    "    truncate_mode='lastp',  # show only the last p merged clusters\n",
    "    p=4,  # show only the last p merged clusters\n",
    "    leaf_rotation=90.,\n",
    "    leaf_font_size=12.,\n",
    "    show_contracted=True,  # to get a distribution impression in truncated branches\n",
    ")"
   ]
  },
  {
   "cell_type": "code",
   "execution_count": 4,
   "metadata": {
    "pycharm": {
     "is_executing": false
    }
   },
   "outputs": [
    {
     "name": "stdout",
     "text": [
      "0.3989422804014327\n",
      "0.3989422804014327\n",
      "0.3989422804014327\n"
     ],
     "output_type": "stream"
    }
   ],
   "source": [
    "import numpy as np\n",
    "constant = 1.0 / np.sqrt(2*np.pi)\n",
    "print(constant)"
   ]
  },
  {
   "cell_type": "code",
   "execution_count": 8,
   "outputs": [
    {
     "data": {
      "text/plain": "1.0111709645713853"
     },
     "metadata": {},
     "output_type": "execute_result",
     "execution_count": 8
    }
   ],
   "source": [
    "x = 8\n",
    "mean = 5\n",
    "std = 1\n",
    "np.exp(2.71828**((-(x-mean)**2) / (2 * std **2)))\n",
    "\n"
   ],
   "metadata": {
    "collapsed": false,
    "pycharm": {
     "name": "#%%\n",
     "is_executing": false
    }
   }
  },
  {
   "cell_type": "code",
   "execution_count": null,
   "outputs": [],
   "source": [],
   "metadata": {
    "collapsed": false,
    "pycharm": {
     "name": "#%%\n"
    }
   }
  }
 ],
 "metadata": {
  "kernelspec": {
   "display_name": "Python 3",
   "language": "python",
   "name": "python3"
  },
  "language_info": {
   "codemirror_mode": {
    "name": "ipython",
    "version": 3
   },
   "file_extension": ".py",
   "mimetype": "text/x-python",
   "name": "python",
   "nbconvert_exporter": "python",
   "pygments_lexer": "ipython3",
   "version": "3.7.5"
  },
  "pycharm": {
   "stem_cell": {
    "cell_type": "raw",
    "source": [],
    "metadata": {
     "collapsed": false
    }
   }
  }
 },
 "nbformat": 4,
 "nbformat_minor": 1
}