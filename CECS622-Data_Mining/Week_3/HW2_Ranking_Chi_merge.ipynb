{
 "cells": [
  {
   "cell_type": "markdown",
   "metadata": {},
   "source": [
    "# Homework 2\n",
    "## Feature - ranking algorithm\n",
    "One  possible  technique  for  feature selection is based on comparison of  means  and  variances \n",
    "\n",
    "| X | Y | C |\n",
    "| --- | --- | --- |\n",
    "| 0.3 | 0.7 | A |\n",
    "| 0.2 | 0.9 | B |\n",
    "| 0.6 | 0.6\t| A |\n",
    "| 0.5 |\t0.5\t| A |\n",
    "| 0.7 |\t0.7 | B |\n",
    "| 0.4 |\t0.9 | B |\n",
    "\n",
    "First, note that you analyze one feature at a time.\n",
    "\n",
    "Second, you split each feature based on the class value. So for feature X, it is split into two groups\n",
    "\n",
    "XA = \"Feature X with class A\" = {0.3, 0.6, 0.5}. XB = \"Feature X with class B\" = {0.2, 0.7, 0.4}\n",
    "\n",
    "Third, You then calculate mean and variance of XA and XB:\n",
    "\n",
    "mean(XA) = 0.4667\n",
    "\n",
    "mean(XB) = 0.4333\n",
    "\n",
    "var(XA) = 0.0233\n",
    "\n",
    "var(XB) = 0.06333\n",
    "\n",
    "Forth, calculate SE(XA - XB) = \"Square root of ( var(XA) / 'number of values in XA' + var(XB)/'number of values in XB'  )\" = 0.1699\n",
    "\n",
    "Fifth, do the test |mean(XA)-mean(XB)|/SE(XA-XB)   = 0.1961. This is smaller than an arbitrary threshold 0.5, so feature X is candidate for reduction.\n",
    "\n",
    "\n",
    "Do the same for Y and Y is good. "
   ]
  },
  {
   "cell_type": "markdown",
   "metadata": {},
   "source": [
    "### 6. Given the data set X with three input features and one output feature representing the classification of samples, X\n",
    "\n",
    "\n",
    "| I1 | I2 | I3 | O |\n",
    "| --- | --- | --- | --- |\n",
    "| 2.5 | 1.6 | 5.9 | 0 |\n",
    "| 7.2 | 4.3 | 2.1 | 1 |\n",
    "| 3.4 | 5.8\t| 1.6 | 1 |\n",
    "| 5.6 |\t3.6\t| 6.8 | 0 |\n",
    "| 4.8 |\t7.2 | 3.1 | 1 |\n",
    "| 8.1 |\t4.9 | 8.3 | 0 |\n",
    "| 6.3 |\t4.8 | 2.4 | 1 |"
   ]
  },
  {
   "cell_type": "code",
   "execution_count": 4,
   "metadata": {},
   "outputs": [
    {
     "name": "stdout",
     "output_type": "stream",
     "text": [
      "Feature I1: -0.013712360522077837\n",
      "Feature I2: -1.871463493353403\n",
      "Feature I3: 6.1275396538604054\n"
     ]
    }
   ],
   "source": [
    "import math\n",
    "import pandas as pd\n",
    "import numpy as np\n",
    "\n",
    "# Create multi-dimentinal list\n",
    "data = [[2.5, 1.6, 5.9, 0],\n",
    "        [7.2, 4.3, 2.1, 1],\n",
    "        [3.4, 5.8, 1.6, 1],\n",
    "        [5.6, 3.6, 6.8, 0],\n",
    "        [4.8, 7.2, 3.1, 1],\n",
    "        [ 8.1, 4.9, 8.3, 0],\n",
    "        [ 6.3, 4.8, 2.4, 1]]\n",
    "\n",
    "# Columns name\n",
    "names = ['I1', 'I2', 'I3', 'O']\n",
    "\n",
    "# Create DataFrame\n",
    "df = pd.DataFrame(data, columns=names)\n",
    "\n",
    "# Sort values\n",
    "df.sort_values(by=['O'])\n",
    "\n",
    "I10 = df.loc[df['O'] == 0, ['I1']]\n",
    "I11 = df.loc[df['O'] == 1, ['I1']]\n",
    "I20 = df.loc[df['O'] == 0, ['I2']]\n",
    "I21 = df.loc[df['O'] == 1, ['I2']]\n",
    "I30 = df.loc[df['O'] == 0, ['I3']]\n",
    "I31 = df.loc[df['O'] == 1, ['I3']]\n",
    "\n",
    "\n",
    "SE_I1 = math.sqrt(I10.var()/I10.count() + I11.var()/I11.count())\n",
    "result_I1 = float((I10.mean() - I11.mean())/SE_I1)\n",
    "\n",
    "SE_I2 = math.sqrt(I20.var()/I20.count() + I21.var()/I21.count())\n",
    "result_I2 = float((I20.mean() - I21.mean())/SE_I2)\n",
    "\n",
    "SE_I3 = math.sqrt(I30.var()/I30.count() + I31.var()/I31.count())\n",
    "result_I3 = float((I30.mean() - I31.mean())/SE_I3)\n",
    "\n",
    "print(f'Feature I1: {result_I1}\\nFeature I2: {result_I2}\\nFeature I3: {result_I3}')"
   ]
  },
  {
   "cell_type": "markdown",
   "metadata": {},
   "source": [
    "### Summary:\n",
    "This analysis shows that I1, I2 are candidates for reduction because its mean values are less than 0.5. On the other hand, the test for feature I3 is significantly above the threshold value; this feature is not a candidate for reduction because it has the potential to be a distinguishing feature between two classes.\n"
   ]
  },
  {
   "cell_type": "markdown",
   "metadata": {},
   "source": [
    "### 6. 8.\tApply the ChiMerge technique to reduce the number of values for numeric attributes in problem 3. Reduce the number of numeric values for feature I 1 and find the final, reduced number of intervals. Discuss the results and benefits of dimensionality reduction obtained in (a). \n",
    "\n",
    "| I1 | I2 | I3 | O |\n",
    "| --- | --- | --- | --- |\n",
    "| 2.5 | 1.6 | 5.9 | 0 |\n",
    "| 7.2 | 4.3 | 2.1 | 1 |\n",
    "| 3.4 | 5.8\t| 1.6 |\t1 |\n",
    "| 5.6 |\t3.6\t| 6.8 |\t0 |\n",
    "| 4.8 |\t7.2 | 3.1 |\t1 |\n",
    "| 8.1 |\t4.9 | 8.3 | 0 |\n",
    "| 6.3 |\t4.8 | 2.4 |\t1 |"
   ]
  },
  {
   "cell_type": "code",
   "execution_count": 7,
   "metadata": {},
   "outputs": [
    {
     "data": {
      "text/html": [
       "<div>\n",
       "<style scoped>\n",
       "    .dataframe tbody tr th:only-of-type {\n",
       "        vertical-align: middle;\n",
       "    }\n",
       "\n",
       "    .dataframe tbody tr th {\n",
       "        vertical-align: top;\n",
       "    }\n",
       "\n",
       "    .dataframe thead th {\n",
       "        text-align: right;\n",
       "    }\n",
       "</style>\n",
       "<table border=\"1\" class=\"dataframe\">\n",
       "  <thead>\n",
       "    <tr style=\"text-align: right;\">\n",
       "      <th></th>\n",
       "      <th>I1</th>\n",
       "      <th>O</th>\n",
       "    </tr>\n",
       "  </thead>\n",
       "  <tbody>\n",
       "    <tr>\n",
       "      <th>0</th>\n",
       "      <td>2.5</td>\n",
       "      <td>0</td>\n",
       "    </tr>\n",
       "    <tr>\n",
       "      <th>2</th>\n",
       "      <td>3.4</td>\n",
       "      <td>1</td>\n",
       "    </tr>\n",
       "    <tr>\n",
       "      <th>4</th>\n",
       "      <td>4.8</td>\n",
       "      <td>1</td>\n",
       "    </tr>\n",
       "    <tr>\n",
       "      <th>3</th>\n",
       "      <td>5.6</td>\n",
       "      <td>0</td>\n",
       "    </tr>\n",
       "    <tr>\n",
       "      <th>6</th>\n",
       "      <td>6.3</td>\n",
       "      <td>1</td>\n",
       "    </tr>\n",
       "    <tr>\n",
       "      <th>1</th>\n",
       "      <td>7.2</td>\n",
       "      <td>1</td>\n",
       "    </tr>\n",
       "    <tr>\n",
       "      <th>5</th>\n",
       "      <td>8.1</td>\n",
       "      <td>0</td>\n",
       "    </tr>\n",
       "  </tbody>\n",
       "</table>\n",
       "</div>"
      ],
      "text/plain": [
       "    I1  O\n",
       "0  2.5  0\n",
       "2  3.4  1\n",
       "4  4.8  1\n",
       "3  5.6  0\n",
       "6  6.3  1\n",
       "1  7.2  1\n",
       "5  8.1  0"
      ]
     },
     "execution_count": 7,
     "metadata": {},
     "output_type": "execute_result"
    }
   ],
   "source": [
    "# Choose I1 feature and sort it in ascending order\n",
    "data = df[['I1','O']].sort_values(by='I1', ascending=True)\n",
    "data"
   ]
  },
  {
   "cell_type": "code",
   "execution_count": 8,
   "metadata": {},
   "outputs": [
    {
     "data": {
      "text/plain": [
       "(6.999999999999999, 0.3208471988621342, 6, array([[0.42857143, 0.57142857],\n",
       "        [0.42857143, 0.57142857],\n",
       "        [0.42857143, 0.57142857],\n",
       "        [0.42857143, 0.57142857],\n",
       "        [0.42857143, 0.57142857],\n",
       "        [0.42857143, 0.57142857],\n",
       "        [0.42857143, 0.57142857]]))"
      ]
     },
     "execution_count": 8,
     "metadata": {},
     "output_type": "execute_result"
    }
   ],
   "source": [
    "from scipy.stats import chi2_contingency\n",
    "chi2_contingency(pd.crosstab(data['I1'], data['O']))"
   ]
  }
 ],
 "metadata": {
  "kernelspec": {
   "display_name": "Python 3",
   "language": "python",
   "name": "python3"
  },
  "language_info": {
   "codemirror_mode": {
    "name": "ipython",
    "version": 3
   },
   "file_extension": ".py",
   "mimetype": "text/x-python",
   "name": "python",
   "nbconvert_exporter": "python",
   "pygments_lexer": "ipython3",
   "version": "3.6.5"
  }
 },
 "nbformat": 4,
 "nbformat_minor": 2
}
