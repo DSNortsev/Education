{
 "cells": [
  {
   "cell_type": "code",
   "execution_count": 2,
   "metadata": {},
   "outputs": [
    {
     "name": "stdout",
     "output_type": "stream",
     "text": [
      "Mean: 9.5\n",
      "Sorted list: [3, 4, 5, 5, 5, 6, 7, 7, 7, 8, 9, 12, 12, 12, 12, 13, 13, 13, 18, 19]\n",
      "Mean: 8.5\n",
      "Standard deviation: 4.42\n",
      "Sorted list in increasing order : [3, 4, 5, 5, 5, 6, 7, 7, 7, 8, 9, 12, 12, 12, 12, 13, 13, 13, 18, 19]\n",
      "First quartile: 5.75\n",
      "Third quartile: 12.25\n",
      "IQR: 6.5\n",
      "Lower bound: -4.0\n",
      "Upper bound: 22.0\n"
     ]
    }
   ],
   "source": [
    "import numpy as np\n",
    "import pandas as pd\n",
    "from matplotlib import pyplot as plt\n",
    "\n",
    "## TASK1\n",
    "X = [7, 12, 5, 18, 5, 9, 13, 12, 19, 7, 12, 12, 13, 3, 4, 5, 13, 8, 7, 6] \n",
    "X = sorted(X)\n",
    "\n",
    "print(f'Mean: {np.mean(X)}')\n",
    "print(f'Sorted list: {X}')\n",
    "print(f'Mean: {np.median(X)}')\n",
    "print(f'Standard deviation: {round(np.std(X), 2)}')\n",
    "\n",
    "# Convert to pandas DataFrame\n",
    "df = pd.DataFrame(X, columns=['X'])\n",
    "boxplot = df.boxplot(column=['X'])\n",
    "\n",
    "\n",
    "# Find outliers by using IQR\n",
    "# IQR tells how spread the middle values are.\n",
    "# It can be used to tell when a value is too far from the middle.\n",
    "\n",
    "# An outlier is a point which falls more than 1.5 times the interquartile range above the third quartile \n",
    "# or below the first quartile.\n",
    "\n",
    "# Steps:\n",
    "# Arrange the data in increasing order\n",
    "print(f'Sorted list in increasing order : {X}')\n",
    "# Calculate first(q1) and third quartile(q3)\n",
    "q1, q3 = np.percentile(X,[25,75])\n",
    "print(f'First quartile: {q1}\\nThird quartile: {q3}')\n",
    "# Find interquartile range (q3-q1)\n",
    "iqr = q3 - q1\n",
    "print(f'IQR: {iqr}')\n",
    "# Find lower bound q1*1.5\n",
    "lower_bound = q1 -(1.5 * iqr) \n",
    "# Find upper bound q3*1.5\n",
    "upper_bound = q3 +(1.5 * iqr) \n",
    "print(f'Lower bound: {lower_bound}\\nUpper bound: {upper_bound}')\n",
    "# Anything that lies outside of lower and upper bound is an outlier"
   ]
  },
  {
   "cell_type": "code",
   "execution_count": 6,
   "metadata": {},
   "outputs": [
    {
     "name": "stdout",
     "output_type": "stream",
     "text": [
      "   X     y\n",
      "0  1  5.00\n",
      "1  4  2.75\n",
      "2  3  3.00\n",
      "3  5  2.50 \n",
      "\n",
      "The mean of X: 3.25\n",
      "The mean of y: 3.3125\n",
      "alpha = 5.39\n",
      "beta = -0.64\n",
      "[4.75, 2.8299999999999996, 3.4699999999999998, 2.1899999999999995]\n"
     ]
    }
   ],
   "source": [
    "X = [1, 4, 3, 5]\n",
    "y = [5,2.75, 3, 2.5]\n",
    "\n",
    "df = pd.DataFrame(\n",
    "    {'X': X,\n",
    "     'y': y}\n",
    ")\n",
    "\n",
    "print(df,'\\n')\n",
    "\n",
    "# Calculate the mean of X and y\n",
    "xmean = np.mean(X)\n",
    "ymean = np.mean(y)\n",
    "\n",
    "print(f'The mean of X: {xmean}')\n",
    "print(f'The mean of y: {ymean}')\n",
    "\n",
    "# Calculate the terms needed for the numator and denominator of beta\n",
    "df['xycov'] = (df['X'] - xmean) * (df['y'] - ymean)\n",
    "df['xvar'] = (df['X'] - xmean)**2\n",
    "df['yvar'] = (df['y'] - ymean)**2\n",
    "\n",
    "\n",
    "# Calculate beta and alpha\n",
    "beta = round(df['xycov'].sum() / df['xvar'].sum(), 2)\n",
    "alpha = round(ymean - (beta * xmean), 2)\n",
    "print(f'alpha = {alpha}')\n",
    "print(f'beta = {beta}')\n",
    "\n",
    "ypred = alpha + beta * df['X']\n",
    "print(list(ypred))"
   ]
  },
  {
   "cell_type": "code",
   "execution_count": 29,
   "metadata": {},
   "outputs": [
    {
     "name": "stdout",
     "output_type": "stream",
     "text": [
      " Correlation coefficient r: -0.95\n"
     ]
    }
   ],
   "source": [
    "\n",
    "r = round(df['xycov'].sum() /  np.sqrt(df['xvar'].sum()* df['yvar'].sum()), 2)\n",
    "print(f' Correlation coefficient r: {r}')"
   ]
  },
  {
   "cell_type": "code",
   "execution_count": 15,
   "metadata": {},
   "outputs": [
    {
     "name": "stdout",
     "output_type": "stream",
     "text": [
      "   X     y     xycov      xvar      yvar     sqrtx\n",
      "0  1  5.00 -1.252175  0.550608  2.847656  1.000000\n",
      "1  4  2.75 -0.145108  0.066549  0.316406  2.000000\n",
      "2  3  3.00  0.003118  0.000100  0.097656  1.732051\n",
      "3  5  2.50 -0.401406  0.244074  0.660156  2.236068 \n",
      "\n",
      "The mean of X: 1.7420296962671666\n",
      "The mean of y: 3.3125\n",
      "alpha = 6.94\n",
      "beta = -2.08\n",
      "Correlation coefficient r: -0.98\n"
     ]
    }
   ],
   "source": [
    "# Non Linear regression: Square root curve\n",
    "df['sqrtx'] = np.sqrt(df['X'])\n",
    "print(df,'\\n')\n",
    "xmean = np.mean(df['sqrtx'])\n",
    "ymean = np.mean(y)\n",
    "\n",
    "print(f'The mean of X: {xmean}')\n",
    "print(f'The mean of y: {ymean}')\n",
    "\n",
    "\n",
    "df['xycov'] = (df['sqrtx'] - xmean) * (df['y'] - ymean)\n",
    "df['xvar'] = (df['sqrtx'] - xmean)**2\n",
    "df['yvar'] = (df['y'] - ymean)**2\n",
    "\n",
    "\n",
    "# Calculate beta and alpha\n",
    "beta = round(df['xycov'].sum() / df['xvar'].sum(), 2)\n",
    "alpha = round(ymean - (beta * xmean), 2)\n",
    "print(f'alpha = {alpha}')\n",
    "print(f'beta = {beta}')\n",
    "\n",
    "r = round(df['xycov'].sum() /  np.sqrt(df['xvar'].sum()* df['yvar'].sum()), 2)\n",
    "print(f'Correlation coefficient r: {r}')"
   ]
  }
 ],
 "metadata": {
  "kernelspec": {
   "display_name": "Python 3",
   "language": "python",
   "name": "python3"
  },
  "language_info": {
   "codemirror_mode": {
    "name": "ipython",
    "version": 3
   },
   "file_extension": ".py",
   "mimetype": "text/x-python",
   "name": "python",
   "nbconvert_exporter": "python",
   "pygments_lexer": "ipython3",
   "version": "3.6.5"
  }
 },
 "nbformat": 4,
 "nbformat_minor": 2
}
