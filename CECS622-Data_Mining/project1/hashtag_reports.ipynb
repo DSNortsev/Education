{
 "cells": [
  {
   "cell_type": "code",
   "execution_count": 1,
   "metadata": {},
   "outputs": [
    {
     "data": {
      "text/html": [
       "<div>\n",
       "<style scoped>\n",
       "    .dataframe tbody tr th:only-of-type {\n",
       "        vertical-align: middle;\n",
       "    }\n",
       "\n",
       "    .dataframe tbody tr th {\n",
       "        vertical-align: top;\n",
       "    }\n",
       "\n",
       "    .dataframe thead th {\n",
       "        text-align: right;\n",
       "    }\n",
       "</style>\n",
       "<table border=\"1\" class=\"dataframe\">\n",
       "  <thead>\n",
       "    <tr style=\"text-align: right;\">\n",
       "      <th></th>\n",
       "      <th>Counts</th>\n",
       "      <th>Hashtags</th>\n",
       "      <th>Topic</th>\n",
       "    </tr>\n",
       "  </thead>\n",
       "  <tbody>\n",
       "    <tr>\n",
       "      <th>0</th>\n",
       "      <td>10</td>\n",
       "      <td>globalism</td>\n",
       "      <td>pro-security</td>\n",
       "    </tr>\n",
       "    <tr>\n",
       "      <th>1</th>\n",
       "      <td>31</td>\n",
       "      <td>Crowdstike</td>\n",
       "      <td>pro-security</td>\n",
       "    </tr>\n",
       "    <tr>\n",
       "      <th>2</th>\n",
       "      <td>20</td>\n",
       "      <td>FlashbackFriday</td>\n",
       "      <td>pro-security</td>\n",
       "    </tr>\n",
       "    <tr>\n",
       "      <th>3</th>\n",
       "      <td>24</td>\n",
       "      <td>KAG2020</td>\n",
       "      <td>pro-security</td>\n",
       "    </tr>\n",
       "    <tr>\n",
       "      <th>4</th>\n",
       "      <td>235</td>\n",
       "      <td>UkraineTranscript</td>\n",
       "      <td>pro-security</td>\n",
       "    </tr>\n",
       "  </tbody>\n",
       "</table>\n",
       "</div>"
      ],
      "text/plain": [
       "   Counts           Hashtags         Topic\n",
       "0      10          globalism  pro-security\n",
       "1      31         Crowdstike  pro-security\n",
       "2      20    FlashbackFriday  pro-security\n",
       "3      24            KAG2020  pro-security\n",
       "4     235  UkraineTranscript  pro-security"
      ]
     },
     "execution_count": 1,
     "metadata": {},
     "output_type": "execute_result"
    }
   ],
   "source": [
    "import pandas as pd\n",
    "\n",
    "df = pd.read_excel('hashtags.xlsx')\n",
    "df.head()  "
   ]
  },
  {
   "cell_type": "code",
   "execution_count": 75,
   "metadata": {},
   "outputs": [],
   "source": [
    "from bokeh.io import show, output_file\n",
    "from bokeh.plotting import figure\n",
    "\n",
    "output_file(\"hashtag_pro_security.html\", mode=\"inline\")\n",
    "\n",
    "hashtags = list(df[df['Topic'] == 'pro-security']['Hashtags'])\n",
    "counts = list(df[df['Topic'] == 'pro-security']['Counts'])\n",
    "\n",
    "sorted_hashtags = sorted(hashtags, key=lambda x: counts[hashtags.index(x)])\n",
    "\n",
    "p = figure(x_range=sorted_hashtags, plot_height=250, plot_width=1050, title=\"Pro-security hashtags\",\n",
    "           toolbar_location=None, tools=\"\")\n",
    "\n",
    "p.vbar(x=hashtags, top=counts, width=0.9)\n",
    "p.xgrid.grid_line_color = None\n",
    "p.y_range.start = 0\n",
    "show(p)"
   ]
  },
  {
   "cell_type": "code",
   "execution_count": 76,
   "metadata": {},
   "outputs": [],
   "source": [
    "from bokeh.io import show, output_file\n",
    "from bokeh.plotting import figure\n",
    "\n",
    "output_file(\"hashtag_pro_privacy.html\")\n",
    "\n",
    "hashtags = list(df[df['Topic'] == 'pro-privacy']['Hashtags'])\n",
    "counts = list(df[df['Topic'] == 'pro-privacy']['Counts'])\n",
    "\n",
    "sorted_hashtags = sorted(hashtags, key=lambda x: counts[hashtags.index(x)])\n",
    "\n",
    "\n",
    "p = figure(x_range=sorted_hashtags, plot_height=250, plot_width=1050, title=\"Pro-privacy hashtags\",\n",
    "           toolbar_location=None, tools=\"\")\n",
    "\n",
    "p.vbar(x=hashtags, top=counts, width=0.9)\n",
    "p.xgrid.grid_line_color = None\n",
    "p.y_range.start = 0\n",
    "show(p)"
   ]
  }
 ],
 "metadata": {
  "kernelspec": {
   "display_name": "Python 3",
   "language": "python",
   "name": "python3"
  },
  "language_info": {
   "codemirror_mode": {
    "name": "ipython",
    "version": 3
   },
   "file_extension": ".py",
   "mimetype": "text/x-python",
   "name": "python",
   "nbconvert_exporter": "python",
   "pygments_lexer": "ipython3",
   "version": "3.6.5"
  }
 },
 "nbformat": 4,
 "nbformat_minor": 2
}
