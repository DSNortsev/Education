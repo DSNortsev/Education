{
 "cells": [
  {
   "cell_type": "code",
   "execution_count": 1,
   "metadata": {},
   "outputs": [
    {
     "name": "stdout",
     "output_type": "stream",
     "text": [
      "[['2019-09-24', 'pro-privacy', 1954], ['2019-09-24', 'pro-security', 2287], ['2019-09-23', 'pro-privacy', 1500], ['2019-09-23', 'pro-security', 2700], ['2019-09-22', 'pro-privacy', 1300], ['2019-09-22', 'pro-security', 3000], ['2019-09-21', 'pro-privacy', 1256], ['2019-09-21', 'pro-security', 3231]]\n"
     ]
    }
   ],
   "source": [
    "# Bokeh libraries\n",
    "\n",
    "import pandas as pd\n",
    "from bokeh.plotting import figure, show\n",
    "from bokeh.io import output_file\n",
    "from bokeh.models import ColumnDataSource\n",
    "\n",
    "\n",
    "data = [['2019-09-24', 'pro-privacy', 1954],\n",
    "        ['2019-09-24', 'pro-security', 2287],\n",
    "        ['2019-09-23', 'pro-privacy', 1500],\n",
    "        ['2019-09-23', 'pro-security', 2700],\n",
    "        ['2019-09-22', 'pro-privacy', 1300],\n",
    "        ['2019-09-22', 'pro-security', 3000],\n",
    "        ['2019-09-21', 'pro-privacy', 1256],\n",
    "        ['2019-09-21', 'pro-security', 3231]]\n",
    "\n",
    "names = ['Dates', 'Topic', 'Count_tweets']\n",
    "\n",
    "df = pd.DataFrame(data, columns=names) \n",
    "df['Dates'] = pd.to_datetime(df['Dates'])\n",
    "print(data)\n",
    "# # Output to file\n",
    "output_file('west-top-2-standings-race.html', \n",
    "            title='Western Conference Top 2 Teams Wins Race')\n",
    "\n",
    "# # Isolate the data for the Rockets and Warriors\n",
    "privacy_data = df[df['Topic'] == 'pro-privacy']\n",
    "security_data = df[df['Topic'] == 'pro-security']\n",
    "\n",
    "\n",
    "# # Create a ColumnDataSource object for each team\n",
    "privacy_cds = ColumnDataSource(privacy_data)\n",
    "security_cds = ColumnDataSource(security_data)\n",
    "\n",
    "# # Create and configure the figure\n",
    "fig = figure(x_axis_type='datetime',\n",
    "             plot_height=300, plot_width=600,\n",
    "             title='Amount of tweets per day',\n",
    "             x_axis_label='Date', y_axis_label='Tweets',\n",
    "             toolbar_location=None)\n",
    "\n",
    "# # Render the race as step lines\n",
    "fig.step('Dates', 'Count_tweets', \n",
    "         color='#CE1141', legend='Privace Rights Advocates', \n",
    "         source=privacy_data)\n",
    "fig.step('Dates', 'Count_tweets', \n",
    "         color='#006BB6', legend='Public Safety Advocates', \n",
    "         source=security_data)\n",
    "\n",
    "# # Move the legend to the upper left corner\n",
    "fig.legend.location = 'top_left'\n",
    "\n",
    "# # Show the plot\n",
    "show(fig)"
   ]
  },
  {
   "cell_type": "code",
   "execution_count": null,
   "metadata": {},
   "outputs": [],
   "source": []
  }
 ],
 "metadata": {
  "kernelspec": {
   "display_name": "Python 3",
   "language": "python",
   "name": "python3"
  },
  "language_info": {
   "codemirror_mode": {
    "name": "ipython",
    "version": 3
   },
   "file_extension": ".py",
   "mimetype": "text/x-python",
   "name": "python",
   "nbconvert_exporter": "python",
   "pygments_lexer": "ipython3",
   "version": "3.6.5"
  }
 },
 "nbformat": 4,
 "nbformat_minor": 2
}
