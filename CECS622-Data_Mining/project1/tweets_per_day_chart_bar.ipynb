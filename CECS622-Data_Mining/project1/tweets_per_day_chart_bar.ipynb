{
 "cells": [
  {
   "cell_type": "code",
   "execution_count": 8,
   "metadata": {},
   "outputs": [],
   "source": [
    "from bokeh.core.properties import value\n",
    "from bokeh.io import show, output_file\n",
    "from bokeh.plotting import figure\n",
    "from bokeh.models import Legend\n",
    "%matplotlib inline\n",
    "\n",
    "output_file(\"stacked.html\")\n",
    "dates = ['2019-09-21', '2019-09-22', '2019-09-23', '2019-09-24','2019-09-25']\n",
    "groups = ['Rights Advocates', 'Safety Advocates']\n",
    "colors = [\"#c9d9d3\", \"#718dbf\"]\n",
    "\n",
    "data = {'dates' : dates,\n",
    "        'Rights Advocates' : [1123, 985, 1078, 979, 636],          \n",
    "        'Safety Advocates' : [2587, 2700, 2954, 3231, 3644]}              \n",
    "\n",
    "p = figure(x_range=dates, plot_height=250, title=\"Tweets per day\",\n",
    "           toolbar_location=None, tools=\"hover\", tooltips=\"$name @dates: @$name\")\n",
    "\n",
    "p.vbar_stack(groups, x='dates', width=0.9, color=colors, source=data,\n",
    "             legend=[value(x) for x in groups])\n",
    "\n",
    "p.y_range.start = 0\n",
    "p.x_range.range_padding = 0.1\n",
    "p.xgrid.grid_line_color = None\n",
    "p.axis.minor_tick_line_color = None\n",
    "p.outline_line_color = None\n",
    "p.legend.location = \"top_left\"\n",
    "p.legend.orientation = \"vertical\"\n",
    "\n",
    "show(p)\n"
   ]
  }
 ],
 "metadata": {
  "kernelspec": {
   "display_name": "Python 3",
   "language": "python",
   "name": "python3"
  },
  "language_info": {
   "codemirror_mode": {
    "name": "ipython",
    "version": 3
   },
   "file_extension": ".py",
   "mimetype": "text/x-python",
   "name": "python",
   "nbconvert_exporter": "python",
   "pygments_lexer": "ipython3",
   "version": "3.6.5"
  }
 },
 "nbformat": 4,
 "nbformat_minor": 2
}
