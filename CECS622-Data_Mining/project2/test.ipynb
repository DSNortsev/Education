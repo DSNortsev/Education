{
 "cells": [
  {
   "cell_type": "code",
   "execution_count": null,
   "outputs": [],
   "source": [],
   "metadata": {
    "collapsed": false,
    "pycharm": {
     "name": "#%%\n"
    }
   }
  },
  {
   "cell_type": "code",
   "execution_count": 1,
   "outputs": [],
   "source": [
    "import numpy as np # used for handling numbers\n",
    "import pandas as pd # used for handling the dataset\n",
    "from sklearn.impute import SimpleImputer # used for handling missing data\n",
    "from sklearn.preprocessing import LabelEncoder, OneHotEncoder # used for encoding categorical data\n",
    "from sklearn.model_selection import train_test_split # used for splitting training and testing data\n",
    "from sklearn.preprocessing import StandardScaler # used for feature scaling"
   ],
   "metadata": {
    "collapsed": false,
    "pycharm": {
     "name": "#%%\n",
     "is_executing": false
    }
   }
  },
  {
   "cell_type": "code",
   "execution_count": 2,
   "outputs": [
    {
     "name": "stdout",
     "text": [
      "   2987000  86400  68.5  W  13926  Unnamed: 5    150    discover    142  \\\n0  2987001  86401  29.0  W   2755       404.0  150.0  mastercard  102.0   \n1  2987002  86469  59.0  W   4663       490.0  150.0        visa  166.0   \n2  2987003  86499  50.0  W  18132       567.0  150.0  mastercard  117.0   \n3  2987004  86506  50.0  H   4497       514.0  150.0  mastercard  102.0   \n4  2987005  86510  49.0  W   5937       555.0  150.0        visa  226.0   \n\n   credit  ...         Unnamed: 423  Unnamed: 424  Unnamed: 425  \\\n0  credit  ...                  NaN           NaN           NaN   \n1   debit  ...                  NaN           NaN           NaN   \n2   debit  ...                  NaN           NaN           NaN   \n3  credit  ...  samsung browser 6.2          32.0     2220x1080   \n4   debit  ...                  NaN           NaN           NaN   \n\n     Unnamed: 426 Unnamed: 427 Unnamed: 428  Unnamed: 429  Unnamed: 430  \\\n0             NaN          NaN          NaN           NaN           NaN   \n1             NaN          NaN          NaN           NaN           NaN   \n2             NaN          NaN          NaN           NaN           NaN   \n3  match_status:2            T            F             T             T   \n4             NaN          NaN          NaN           NaN           NaN   \n\n   Unnamed: 431                   Unnamed: 432  \n0           NaN                            NaN  \n1           NaN                            NaN  \n2           NaN                            NaN  \n3        mobile  SAMSUNG SM-G892A Build/NRD90M  \n4           NaN                            NaN  \n\n[5 rows x 433 columns]\n"
     ],
     "output_type": "stream"
    }
   ],
   "source": [
    "df = pd.read_csv('test_2.csv') # to import the dataset into a variable\n",
    "print(df.head())\n"
   ],
   "metadata": {
    "collapsed": false,
    "pycharm": {
     "name": "#%%\n",
     "is_executing": false
    }
   }
  },
  {
   "cell_type": "code",
   "execution_count": 3,
   "outputs": [
    {
     "name": "stdout",
     "text": [
      "   68.5  W  13926  Unnamed: 5    150    discover    142  credit    315\n0  29.0  W   2755       404.0  150.0  mastercard  102.0  credit  325.0\n1  59.0  W   4663       490.0  150.0        visa  166.0   debit  330.0\n2  50.0  W  18132       567.0  150.0  mastercard  117.0   debit  476.0\n3  50.0  H   4497       514.0  150.0  mastercard  102.0  credit  420.0\n4  49.0  W   5937       555.0  150.0        visa  226.0   debit  272.0\n"
     ],
     "output_type": "stream"
    }
   ],
   "source": [
    "###y = df['isFraud']\n",
    "x = df.iloc[:, 2:11]\n",
    "print(x.head())\n",
    "###print(y.head())"
   ],
   "metadata": {
    "collapsed": false,
    "pycharm": {
     "name": "#%%\n",
     "is_executing": false
    }
   }
  },
  {
   "cell_type": "code",
   "execution_count": 4,
   "outputs": [
    {
     "name": "stdout",
     "text": [
      "0        W\n1        W\n2        W\n3        H\n4        W\n        ..\n50051    W\n50052    W\n50053    W\n50054    R\n50055    W\nName: W, Length: 50056, dtype: object\n"
     ],
     "output_type": "stream"
    }
   ],
   "source": [
    "print(x[x.columns[1]])"
   ],
   "metadata": {
    "collapsed": false,
    "pycharm": {
     "name": "#%%\n",
     "is_executing": false
    }
   }
  },
  {
   "cell_type": "code",
   "execution_count": null,
   "outputs": [],
   "source": [
    "print(df.shape) # Returns number of columns and rows\n",
    "print(df.head)\n",
    "df.isnull().any().sum()  # Return number of nulls \n"
   ],
   "metadata": {
    "collapsed": false,
    "pycharm": {
     "name": "#%%\n"
    }
   }
  },
  {
   "cell_type": "code",
   "execution_count": 7,
   "outputs": [
    {
     "name": "stdout",
     "text": [
      "TransactionAmt: 0\nProductCD: 0\ncard1: 0\ncard2: 8235\ncard3: 1562\ncard4: 1571\ncard5: 4024\ncard6: 1568\naddr1: 63115\n"
     ],
     "output_type": "stream"
    }
   ],
   "source": [
    "# Check all null values\n",
    "for col in x:\n",
    "    print(f'{col}: {df[col].isnull().sum()}')\n",
    "\n",
    "#print(pd.isnull(df).sum())"
   ],
   "metadata": {
    "collapsed": false,
    "pycharm": {
     "name": "#%%\n",
     "is_executing": false
    }
   }
  },
  {
   "cell_type": "code",
   "execution_count": 65,
   "outputs": [
    {
     "name": "stdout",
     "text": [
      "Show columns type:\n68.5: float64\nW: object\n13926: int64\nUnnamed: 5: float64\n150: float64\ndiscover: object\n142: float64\ncredit: object\n315: float64\n"
     ],
     "output_type": "stream"
    }
   ],
   "source": [
    "print('Show columns type:')\n",
    "for column in x:\n",
    "    print(f'{column}: {df[column].dtype}')\n",
    "\n",
    "\n"
   ],
   "metadata": {
    "collapsed": false,
    "pycharm": {
     "name": "#%%\n",
     "is_executing": false
    }
   }
  },
  {
   "cell_type": "code",
   "execution_count": null,
   "outputs": [],
   "source": [
    "\n",
    "# Check what categorical colums needs to be converted:\n",
    "# ProductCD, card4, card6, P_emaildomain:\n",
    "print('Show columns type:')\n",
    "for column in x:\n",
    "    print(f'{column}: {x[column].dtype}')  "
   ],
   "metadata": {
    "collapsed": false,
    "pycharm": {
     "name": "#%%\n"
    }
   }
  },
  {
   "cell_type": "code",
   "execution_count": null,
   "outputs": [],
   "source": [],
   "metadata": {
    "collapsed": false,
    "pycharm": {
     "name": "#%%\n"
    }
   }
  },
  {
   "cell_type": "code",
   "execution_count": 12,
   "outputs": [
    {
     "name": "stdout",
     "text": [
      "['visa' 'mastercard' 'american express' 'discover' 'unknown']\n['debit' 'credit' 'debit or credit' 'unknown' 'charge card']\n['H' 'R' 'W' 'C' 'S']\n0\n0\n0\n"
     ],
     "output_type": "stream"
    }
   ],
   "source": [
    "# It has 3 countries listed. In a larger dataset, these may be large groups of data.\n",
    "# Since countries don’t have a mathematical relation between them unless we \n",
    "# are considering some known factors such as size or population etc ,\n",
    "# coding them in numbers will not work, as a number may be less than or\n",
    "# greater than another number. Dummy variables are the solution. \n",
    "# Using one hot encoding we will create a dummy variable for each of the category \n",
    "# in the column. And uses binary encoding for each dummy variable. We do not need \n",
    "# to create dummy variables for the feature purchased_item as it has only \n",
    "# 2 categories either yes or no.\n",
    "\n",
    "# Add dummy entry \n",
    "#x['card4'] = x['card4'].fillna('unknown') # Change nan to unknown\n",
    "#x['card6'] = x['card6'].fillna('unknown')\n",
    "#x['P_emaildomain'] = x['P_emaildomain'].fillna('unknown')\n",
    "print(x['card4'].unique())\n",
    "print(x['card6'].unique())\n",
    "print(x['ProductCD'].unique())\n",
    "print(x['card4'].isnull().sum())\n",
    "print(x['card6'].isnull().sum())\n",
    "print(x['ProductCD'].isnull().sum())\n"
   ],
   "metadata": {
    "collapsed": false,
    "pycharm": {
     "name": "#%%\n",
     "is_executing": false
    }
   }
  },
  {
   "cell_type": "code",
   "execution_count": null,
   "outputs": [],
   "source": [
    "x[x.columns[1]]"
   ],
   "metadata": {
    "collapsed": false,
    "pycharm": {
     "name": "#%%\n"
    }
   }
  },
  {
   "cell_type": "code",
   "execution_count": null,
   "outputs": [],
   "source": [
    "for i in ('card4','card6'):\n",
    "    x[i] = x[i].fillna('unknown')"
   ],
   "metadata": {
    "collapsed": false,
    "pycharm": {
     "name": "#%%\n"
    }
   }
  },
  {
   "cell_type": "code",
   "execution_count": 5,
   "outputs": [],
   "source": [
    "for i in (1,5,7):\n",
    "    x[x.columns[i]] = x[x.columns[i]].fillna('unknown')"
   ],
   "metadata": {
    "collapsed": false,
    "pycharm": {
     "name": "#%%\n",
     "is_executing": false
    }
   }
  },
  {
   "cell_type": "code",
   "execution_count": null,
   "outputs": [],
   "source": [
    "from sklearn.preprocessing import LabelEncoder\n",
    "\n",
    "lb = LabelEncoder()\n",
    "# Convert categorical data by using Lable encoding technic \n",
    "# https://pbpython.com/categorical-encoding.html\n",
    "for column in ('card4', 'card6', 'ProductCD'):\n",
    "    x[f'{column}'] = lb.fit_transform(x[column])"
   ],
   "metadata": {
    "collapsed": false,
    "pycharm": {
     "name": "#%%\n"
    }
   }
  },
  {
   "cell_type": "code",
   "execution_count": 6,
   "outputs": [],
   "source": [
    "from sklearn.preprocessing import LabelEncoder\n",
    "\n",
    "lb = LabelEncoder()\n",
    "# Convert categorical data by using Lable encoding technic \n",
    "# https://pbpython.com/categorical-encoding.html\n",
    "for i in (1, 5,7):\n",
    "    x[x.columns[i]] = lb.fit_transform(x[x.columns[i]])"
   ],
   "metadata": {
    "collapsed": false,
    "pycharm": {
     "name": "#%%\n",
     "is_executing": false
    }
   }
  },
  {
   "cell_type": "code",
   "execution_count": 19,
   "outputs": [
    {
     "data": {
      "text/plain": "    card4  card6  ProductCD\n0       4      2          1\n1       2      2          2\n2       4      1          1\n3       4      2          4\n4       4      2          4\n5       4      1          1\n6       4      2          4\n7       4      1          2\n8       2      2          4\n9       4      2          4\n10      0      1          2\n11      4      2          4\n12      2      2          4\n13      2      2          0\n14      4      1          2\n15      4      2          4\n16      4      2          4\n17      4      2          4\n18      4      2          1\n19      4      1          1\n20      4      2          4\n21      4      1          3\n22      4      1          3\n23      4      2          4\n24      2      2          4\n25      4      2          4\n26      4      2          4\n27      4      2          4\n28      2      1          4\n29      4      2          4\n30      2      2          4\n31      4      2          4\n32      2      2          4\n33      1      1          1\n34      2      1          1\n35      4      1          4\n36      4      2          4\n37      4      2          1\n38      2      2          1\n39      4      2          4\n40      2      2          1\n41      2      2          4\n42      2      2          1\n43      4      2          2\n44      0      1          2\n45      4      2          4\n46      2      1          4\n47      2      2          0\n48      4      2          1\n49      4      1          4",
      "text/html": "<div>\n<style scoped>\n    .dataframe tbody tr th:only-of-type {\n        vertical-align: middle;\n    }\n\n    .dataframe tbody tr th {\n        vertical-align: top;\n    }\n\n    .dataframe thead th {\n        text-align: right;\n    }\n</style>\n<table border=\"1\" class=\"dataframe\">\n  <thead>\n    <tr style=\"text-align: right;\">\n      <th></th>\n      <th>card4</th>\n      <th>card6</th>\n      <th>ProductCD</th>\n    </tr>\n  </thead>\n  <tbody>\n    <tr>\n      <th>0</th>\n      <td>4</td>\n      <td>2</td>\n      <td>1</td>\n    </tr>\n    <tr>\n      <th>1</th>\n      <td>2</td>\n      <td>2</td>\n      <td>2</td>\n    </tr>\n    <tr>\n      <th>2</th>\n      <td>4</td>\n      <td>1</td>\n      <td>1</td>\n    </tr>\n    <tr>\n      <th>3</th>\n      <td>4</td>\n      <td>2</td>\n      <td>4</td>\n    </tr>\n    <tr>\n      <th>4</th>\n      <td>4</td>\n      <td>2</td>\n      <td>4</td>\n    </tr>\n    <tr>\n      <th>5</th>\n      <td>4</td>\n      <td>1</td>\n      <td>1</td>\n    </tr>\n    <tr>\n      <th>6</th>\n      <td>4</td>\n      <td>2</td>\n      <td>4</td>\n    </tr>\n    <tr>\n      <th>7</th>\n      <td>4</td>\n      <td>1</td>\n      <td>2</td>\n    </tr>\n    <tr>\n      <th>8</th>\n      <td>2</td>\n      <td>2</td>\n      <td>4</td>\n    </tr>\n    <tr>\n      <th>9</th>\n      <td>4</td>\n      <td>2</td>\n      <td>4</td>\n    </tr>\n    <tr>\n      <th>10</th>\n      <td>0</td>\n      <td>1</td>\n      <td>2</td>\n    </tr>\n    <tr>\n      <th>11</th>\n      <td>4</td>\n      <td>2</td>\n      <td>4</td>\n    </tr>\n    <tr>\n      <th>12</th>\n      <td>2</td>\n      <td>2</td>\n      <td>4</td>\n    </tr>\n    <tr>\n      <th>13</th>\n      <td>2</td>\n      <td>2</td>\n      <td>0</td>\n    </tr>\n    <tr>\n      <th>14</th>\n      <td>4</td>\n      <td>1</td>\n      <td>2</td>\n    </tr>\n    <tr>\n      <th>15</th>\n      <td>4</td>\n      <td>2</td>\n      <td>4</td>\n    </tr>\n    <tr>\n      <th>16</th>\n      <td>4</td>\n      <td>2</td>\n      <td>4</td>\n    </tr>\n    <tr>\n      <th>17</th>\n      <td>4</td>\n      <td>2</td>\n      <td>4</td>\n    </tr>\n    <tr>\n      <th>18</th>\n      <td>4</td>\n      <td>2</td>\n      <td>1</td>\n    </tr>\n    <tr>\n      <th>19</th>\n      <td>4</td>\n      <td>1</td>\n      <td>1</td>\n    </tr>\n    <tr>\n      <th>20</th>\n      <td>4</td>\n      <td>2</td>\n      <td>4</td>\n    </tr>\n    <tr>\n      <th>21</th>\n      <td>4</td>\n      <td>1</td>\n      <td>3</td>\n    </tr>\n    <tr>\n      <th>22</th>\n      <td>4</td>\n      <td>1</td>\n      <td>3</td>\n    </tr>\n    <tr>\n      <th>23</th>\n      <td>4</td>\n      <td>2</td>\n      <td>4</td>\n    </tr>\n    <tr>\n      <th>24</th>\n      <td>2</td>\n      <td>2</td>\n      <td>4</td>\n    </tr>\n    <tr>\n      <th>25</th>\n      <td>4</td>\n      <td>2</td>\n      <td>4</td>\n    </tr>\n    <tr>\n      <th>26</th>\n      <td>4</td>\n      <td>2</td>\n      <td>4</td>\n    </tr>\n    <tr>\n      <th>27</th>\n      <td>4</td>\n      <td>2</td>\n      <td>4</td>\n    </tr>\n    <tr>\n      <th>28</th>\n      <td>2</td>\n      <td>1</td>\n      <td>4</td>\n    </tr>\n    <tr>\n      <th>29</th>\n      <td>4</td>\n      <td>2</td>\n      <td>4</td>\n    </tr>\n    <tr>\n      <th>30</th>\n      <td>2</td>\n      <td>2</td>\n      <td>4</td>\n    </tr>\n    <tr>\n      <th>31</th>\n      <td>4</td>\n      <td>2</td>\n      <td>4</td>\n    </tr>\n    <tr>\n      <th>32</th>\n      <td>2</td>\n      <td>2</td>\n      <td>4</td>\n    </tr>\n    <tr>\n      <th>33</th>\n      <td>1</td>\n      <td>1</td>\n      <td>1</td>\n    </tr>\n    <tr>\n      <th>34</th>\n      <td>2</td>\n      <td>1</td>\n      <td>1</td>\n    </tr>\n    <tr>\n      <th>35</th>\n      <td>4</td>\n      <td>1</td>\n      <td>4</td>\n    </tr>\n    <tr>\n      <th>36</th>\n      <td>4</td>\n      <td>2</td>\n      <td>4</td>\n    </tr>\n    <tr>\n      <th>37</th>\n      <td>4</td>\n      <td>2</td>\n      <td>1</td>\n    </tr>\n    <tr>\n      <th>38</th>\n      <td>2</td>\n      <td>2</td>\n      <td>1</td>\n    </tr>\n    <tr>\n      <th>39</th>\n      <td>4</td>\n      <td>2</td>\n      <td>4</td>\n    </tr>\n    <tr>\n      <th>40</th>\n      <td>2</td>\n      <td>2</td>\n      <td>1</td>\n    </tr>\n    <tr>\n      <th>41</th>\n      <td>2</td>\n      <td>2</td>\n      <td>4</td>\n    </tr>\n    <tr>\n      <th>42</th>\n      <td>2</td>\n      <td>2</td>\n      <td>1</td>\n    </tr>\n    <tr>\n      <th>43</th>\n      <td>4</td>\n      <td>2</td>\n      <td>2</td>\n    </tr>\n    <tr>\n      <th>44</th>\n      <td>0</td>\n      <td>1</td>\n      <td>2</td>\n    </tr>\n    <tr>\n      <th>45</th>\n      <td>4</td>\n      <td>2</td>\n      <td>4</td>\n    </tr>\n    <tr>\n      <th>46</th>\n      <td>2</td>\n      <td>1</td>\n      <td>4</td>\n    </tr>\n    <tr>\n      <th>47</th>\n      <td>2</td>\n      <td>2</td>\n      <td>0</td>\n    </tr>\n    <tr>\n      <th>48</th>\n      <td>4</td>\n      <td>2</td>\n      <td>1</td>\n    </tr>\n    <tr>\n      <th>49</th>\n      <td>4</td>\n      <td>1</td>\n      <td>4</td>\n    </tr>\n  </tbody>\n</table>\n</div>"
     },
     "metadata": {},
     "output_type": "execute_result",
     "execution_count": 19
    }
   ],
   "source": [
    "x[['card4',\n",
    "    'card6',\n",
    "   'ProductCD']].head(50) "
   ],
   "metadata": {
    "collapsed": false,
    "pycharm": {
     "name": "#%%\n",
     "is_executing": false
    }
   }
  },
  {
   "cell_type": "code",
   "execution_count": 7,
   "outputs": [
    {
     "data": {
      "text/plain": "    W  discover  credit\n0   4         2       1\n1   4         4       2\n2   4         2       2\n3   1         2       1\n4   4         4       2\n5   4         4       2\n6   4         4       2\n7   1         4       2\n8   4         2       2\n9   0         2       1\n10  0         2       2\n11  4         4       2\n12  4         4       2\n13  4         4       2\n14  4         4       2\n15  1         4       2\n16  1         2       1\n17  4         4       2\n18  4         4       2\n19  4         2       2\n20  4         2       2\n21  1         4       1\n22  4         2       2\n23  4         4       2\n24  4         2       2\n25  4         4       2\n26  4         4       2\n27  4         2       2\n28  4         4       2\n29  4         4       2\n30  4         4       1\n31  4         4       2\n32  4         2       2\n33  4         4       2\n34  4         4       2\n35  4         4       2\n36  4         4       2\n37  3         0       1\n38  4         4       2\n39  0         4       1\n40  4         4       2\n41  4         4       2\n42  4         4       2\n43  4         4       2\n44  4         4       2\n45  4         4       2\n46  4         4       2\n47  0         4       2\n48  0         2       1\n49  4         4       2",
      "text/html": "<div>\n<style scoped>\n    .dataframe tbody tr th:only-of-type {\n        vertical-align: middle;\n    }\n\n    .dataframe tbody tr th {\n        vertical-align: top;\n    }\n\n    .dataframe thead th {\n        text-align: right;\n    }\n</style>\n<table border=\"1\" class=\"dataframe\">\n  <thead>\n    <tr style=\"text-align: right;\">\n      <th></th>\n      <th>W</th>\n      <th>discover</th>\n      <th>credit</th>\n    </tr>\n  </thead>\n  <tbody>\n    <tr>\n      <th>0</th>\n      <td>4</td>\n      <td>2</td>\n      <td>1</td>\n    </tr>\n    <tr>\n      <th>1</th>\n      <td>4</td>\n      <td>4</td>\n      <td>2</td>\n    </tr>\n    <tr>\n      <th>2</th>\n      <td>4</td>\n      <td>2</td>\n      <td>2</td>\n    </tr>\n    <tr>\n      <th>3</th>\n      <td>1</td>\n      <td>2</td>\n      <td>1</td>\n    </tr>\n    <tr>\n      <th>4</th>\n      <td>4</td>\n      <td>4</td>\n      <td>2</td>\n    </tr>\n    <tr>\n      <th>5</th>\n      <td>4</td>\n      <td>4</td>\n      <td>2</td>\n    </tr>\n    <tr>\n      <th>6</th>\n      <td>4</td>\n      <td>4</td>\n      <td>2</td>\n    </tr>\n    <tr>\n      <th>7</th>\n      <td>1</td>\n      <td>4</td>\n      <td>2</td>\n    </tr>\n    <tr>\n      <th>8</th>\n      <td>4</td>\n      <td>2</td>\n      <td>2</td>\n    </tr>\n    <tr>\n      <th>9</th>\n      <td>0</td>\n      <td>2</td>\n      <td>1</td>\n    </tr>\n    <tr>\n      <th>10</th>\n      <td>0</td>\n      <td>2</td>\n      <td>2</td>\n    </tr>\n    <tr>\n      <th>11</th>\n      <td>4</td>\n      <td>4</td>\n      <td>2</td>\n    </tr>\n    <tr>\n      <th>12</th>\n      <td>4</td>\n      <td>4</td>\n      <td>2</td>\n    </tr>\n    <tr>\n      <th>13</th>\n      <td>4</td>\n      <td>4</td>\n      <td>2</td>\n    </tr>\n    <tr>\n      <th>14</th>\n      <td>4</td>\n      <td>4</td>\n      <td>2</td>\n    </tr>\n    <tr>\n      <th>15</th>\n      <td>1</td>\n      <td>4</td>\n      <td>2</td>\n    </tr>\n    <tr>\n      <th>16</th>\n      <td>1</td>\n      <td>2</td>\n      <td>1</td>\n    </tr>\n    <tr>\n      <th>17</th>\n      <td>4</td>\n      <td>4</td>\n      <td>2</td>\n    </tr>\n    <tr>\n      <th>18</th>\n      <td>4</td>\n      <td>4</td>\n      <td>2</td>\n    </tr>\n    <tr>\n      <th>19</th>\n      <td>4</td>\n      <td>2</td>\n      <td>2</td>\n    </tr>\n    <tr>\n      <th>20</th>\n      <td>4</td>\n      <td>2</td>\n      <td>2</td>\n    </tr>\n    <tr>\n      <th>21</th>\n      <td>1</td>\n      <td>4</td>\n      <td>1</td>\n    </tr>\n    <tr>\n      <th>22</th>\n      <td>4</td>\n      <td>2</td>\n      <td>2</td>\n    </tr>\n    <tr>\n      <th>23</th>\n      <td>4</td>\n      <td>4</td>\n      <td>2</td>\n    </tr>\n    <tr>\n      <th>24</th>\n      <td>4</td>\n      <td>2</td>\n      <td>2</td>\n    </tr>\n    <tr>\n      <th>25</th>\n      <td>4</td>\n      <td>4</td>\n      <td>2</td>\n    </tr>\n    <tr>\n      <th>26</th>\n      <td>4</td>\n      <td>4</td>\n      <td>2</td>\n    </tr>\n    <tr>\n      <th>27</th>\n      <td>4</td>\n      <td>2</td>\n      <td>2</td>\n    </tr>\n    <tr>\n      <th>28</th>\n      <td>4</td>\n      <td>4</td>\n      <td>2</td>\n    </tr>\n    <tr>\n      <th>29</th>\n      <td>4</td>\n      <td>4</td>\n      <td>2</td>\n    </tr>\n    <tr>\n      <th>30</th>\n      <td>4</td>\n      <td>4</td>\n      <td>1</td>\n    </tr>\n    <tr>\n      <th>31</th>\n      <td>4</td>\n      <td>4</td>\n      <td>2</td>\n    </tr>\n    <tr>\n      <th>32</th>\n      <td>4</td>\n      <td>2</td>\n      <td>2</td>\n    </tr>\n    <tr>\n      <th>33</th>\n      <td>4</td>\n      <td>4</td>\n      <td>2</td>\n    </tr>\n    <tr>\n      <th>34</th>\n      <td>4</td>\n      <td>4</td>\n      <td>2</td>\n    </tr>\n    <tr>\n      <th>35</th>\n      <td>4</td>\n      <td>4</td>\n      <td>2</td>\n    </tr>\n    <tr>\n      <th>36</th>\n      <td>4</td>\n      <td>4</td>\n      <td>2</td>\n    </tr>\n    <tr>\n      <th>37</th>\n      <td>3</td>\n      <td>0</td>\n      <td>1</td>\n    </tr>\n    <tr>\n      <th>38</th>\n      <td>4</td>\n      <td>4</td>\n      <td>2</td>\n    </tr>\n    <tr>\n      <th>39</th>\n      <td>0</td>\n      <td>4</td>\n      <td>1</td>\n    </tr>\n    <tr>\n      <th>40</th>\n      <td>4</td>\n      <td>4</td>\n      <td>2</td>\n    </tr>\n    <tr>\n      <th>41</th>\n      <td>4</td>\n      <td>4</td>\n      <td>2</td>\n    </tr>\n    <tr>\n      <th>42</th>\n      <td>4</td>\n      <td>4</td>\n      <td>2</td>\n    </tr>\n    <tr>\n      <th>43</th>\n      <td>4</td>\n      <td>4</td>\n      <td>2</td>\n    </tr>\n    <tr>\n      <th>44</th>\n      <td>4</td>\n      <td>4</td>\n      <td>2</td>\n    </tr>\n    <tr>\n      <th>45</th>\n      <td>4</td>\n      <td>4</td>\n      <td>2</td>\n    </tr>\n    <tr>\n      <th>46</th>\n      <td>4</td>\n      <td>4</td>\n      <td>2</td>\n    </tr>\n    <tr>\n      <th>47</th>\n      <td>0</td>\n      <td>4</td>\n      <td>2</td>\n    </tr>\n    <tr>\n      <th>48</th>\n      <td>0</td>\n      <td>2</td>\n      <td>1</td>\n    </tr>\n    <tr>\n      <th>49</th>\n      <td>4</td>\n      <td>4</td>\n      <td>2</td>\n    </tr>\n  </tbody>\n</table>\n</div>"
     },
     "metadata": {},
     "output_type": "execute_result",
     "execution_count": 7
    }
   ],
   "source": [
    "x[x.columns[[1,5,7]]].head(50)"
   ],
   "metadata": {
    "collapsed": false,
    "pycharm": {
     "name": "#%%\n",
     "is_executing": false
    }
   }
  },
  {
   "cell_type": "code",
   "execution_count": 10,
   "outputs": [
    {
     "name": "stdout",
     "text": [
      "(50056, 9)\n<bound method NDFrame.head of          68.5    W    13926  Unnamed: 5    150  discover    142  credit    315\n0       29.00  4.0   2755.0       404.0  150.0       2.0  102.0     1.0  325.0\n1       59.00  4.0   4663.0       490.0  150.0       4.0  166.0     2.0  330.0\n2       50.00  4.0  18132.0       567.0  150.0       2.0  117.0     2.0  476.0\n3       50.00  1.0   4497.0       514.0  150.0       2.0  102.0     1.0  420.0\n4       49.00  4.0   5937.0       555.0  150.0       4.0  226.0     2.0  272.0\n...       ...  ...      ...         ...    ...       ...    ...     ...    ...\n50051   59.00  4.0   5677.0       321.0  150.0       4.0  226.0     2.0  191.0\n50052  107.94  4.0  18350.0       472.0  150.0       4.0  166.0     2.0  337.0\n50053  107.94  4.0  11925.0       553.0  150.0       4.0  226.0     2.0  512.0\n50054  200.00  2.0   7585.0       553.0  150.0       4.0  226.0     1.0  299.0\n50055   49.00  4.0  10836.0       537.0  150.0       2.0  224.0     2.0  272.0\n\n[50056 rows x 9 columns]>\n"
     ],
     "output_type": "stream"
    },
    {
     "data": {
      "text/plain": "0"
     },
     "metadata": {},
     "output_type": "execute_result",
     "execution_count": 10
    }
   ],
   "source": [
    "print(x.shape) # Returns number of columns and rows\n",
    "print(x.head)\n",
    "x.isnull().any().sum()"
   ],
   "metadata": {
    "collapsed": false,
    "pycharm": {
     "name": "#%%\n",
     "is_executing": false
    }
   }
  },
  {
   "cell_type": "code",
   "execution_count": 9,
   "outputs": [
    {
     "name": "stdout",
     "text": [
      "        68.5    W    13926  Unnamed: 5    150  discover    142  credit    315\n0     29.000  4.0   2755.0       404.0  150.0       2.0  102.0     1.0  325.0\n1     59.000  4.0   4663.0       490.0  150.0       4.0  166.0     2.0  330.0\n2     50.000  4.0  18132.0       567.0  150.0       2.0  117.0     2.0  476.0\n3     50.000  1.0   4497.0       514.0  150.0       2.0  102.0     1.0  420.0\n4     49.000  4.0   5937.0       555.0  150.0       4.0  226.0     2.0  272.0\n5    159.000  4.0  12308.0       360.0  150.0       4.0  166.0     2.0  126.0\n6    422.500  4.0  12695.0       490.0  150.0       4.0  226.0     2.0  325.0\n7     15.000  1.0   2803.0       100.0  150.0       4.0  226.0     2.0  337.0\n8    117.000  4.0  17399.0       111.0  150.0       2.0  224.0     2.0  204.0\n9     75.900  0.0  16496.0       352.0  117.0       2.0  134.0     1.0  299.0\n10    16.500  0.0   4461.0       375.0  185.0       2.0  224.0     2.0  299.0\n11    50.000  4.0   3786.0       418.0  150.0       4.0  226.0     2.0  204.0\n12    40.000  4.0  12866.0       303.0  150.0       4.0  226.0     2.0  330.0\n13    10.500  4.0  11839.0       490.0  150.0       4.0  226.0     2.0  226.0\n14    57.940  4.0   7055.0       555.0  150.0       4.0  226.0     2.0  315.0\n15    30.000  1.0   1790.0       555.0  150.0       4.0  226.0     2.0  170.0\n16   100.000  1.0  11492.0       111.0  150.0       2.0  219.0     1.0  204.0\n17    47.940  4.0   4663.0       490.0  150.0       4.0  166.0     2.0  184.0\n18   186.000  4.0   7005.0       111.0  150.0       4.0  226.0     2.0  264.0\n19    39.000  4.0   7875.0       314.0  150.0       2.0  224.0     2.0  299.0\n20   160.000  4.0  11401.0       543.0  150.0       2.0  117.0     2.0  204.0\n21    50.000  1.0   1724.0       583.0  150.0       4.0  226.0     1.0  299.0\n22   107.940  4.0   2392.0       360.0  150.0       2.0  166.0     2.0  126.0\n23    73.940  4.0  10112.0       360.0  150.0       4.0  166.0     2.0  264.0\n24   107.940  4.0  15385.0       111.0  150.0       2.0  224.0     2.0  441.0\n25   184.000  4.0  17868.0       148.0  150.0       4.0  226.0     2.0  472.0\n26    47.940  4.0  11307.0       321.0  150.0       4.0  226.0     2.0  337.0\n27    20.000  4.0   8431.0       269.0  150.0       2.0  224.0     2.0  251.0\n28    37.000  4.0  12932.0       361.0  150.0       4.0  226.0     2.0  204.0\n29    35.000  4.0  13276.0       555.0  150.0       4.0  226.0     2.0  126.0\n30   364.000  4.0   6573.0       583.0  150.0       4.0  226.0     1.0  315.0\n31   200.000  4.0   7835.0       361.0  150.0       4.0  226.0     2.0  472.0\n32    40.000  4.0   8613.0       272.0  150.0       2.0  224.0     2.0  264.0\n33   107.940  4.0  17359.0       555.0  150.0       4.0  226.0     2.0  469.0\n34   107.940  4.0   9766.0       360.0  150.0       4.0  226.0     2.0  226.0\n35    77.000  4.0   4806.0       490.0  150.0       4.0  226.0     2.0  315.0\n36    21.950  4.0  13249.0       111.0  150.0       4.0  226.0     2.0  264.0\n37    25.000  3.0   5463.0       399.0  150.0       0.0  137.0     1.0  330.0\n38    39.940  4.0  12598.0       111.0  150.0       4.0  166.0     2.0  299.0\n39    75.900  0.0  13329.0       569.0  117.0       4.0  226.0     1.0  299.0\n40   774.000  4.0   9002.0       453.0  150.0       4.0  226.0     2.0  264.0\n41   117.000  4.0  13085.0       417.0  150.0       4.0  195.0     2.0  330.0\n42    49.000  4.0  10776.0       512.0  150.0       4.0  166.0     2.0  420.0\n43    39.500  4.0   9281.0       555.0  150.0       4.0  195.0     2.0  472.0\n44    36.940  4.0  16132.0       111.0  150.0       4.0  226.0     2.0  299.0\n45    49.000  4.0  12544.0       321.0  150.0       4.0  226.0     2.0  441.0\n46    15.000  4.0   4208.0       490.0  150.0       4.0  195.0     2.0  126.0\n47    42.280  0.0  15885.0       545.0  185.0       4.0  138.0     2.0  299.0\n48     3.596  0.0  12730.0       266.0  185.0       2.0  224.0     1.0  299.0\n49   117.000  4.0  10045.0       114.0  150.0       4.0  226.0     2.0  299.0\n50   226.000  4.0   7835.0       361.0  150.0       4.0  226.0     2.0  472.0\n51   117.000  4.0   7826.0       481.0  150.0       2.0  224.0     2.0  126.0\n52   131.000  4.0  18018.0       452.0  150.0       2.0  117.0     2.0  264.0\n53    34.000  4.0  18370.0       547.0  150.0       4.0  226.0     2.0  191.0\n54   211.000  4.0   3670.0       111.0  150.0       4.0  226.0     2.0  420.0\n55   500.000  4.0   1955.0       383.0  150.0       4.0  226.0     2.0  315.0\n56    50.000  1.0  11839.0       490.0  150.0       4.0  226.0     2.0  204.0\n57   380.200  4.0  16659.0       170.0  150.0       4.0  226.0     1.0  299.0\n58    35.940  4.0   9785.0       343.0  150.0       4.0  100.0     2.0  485.0\n59  2454.000  4.0   2213.0       556.0  150.0       2.0  224.0     2.0  184.0\n"
     ],
     "output_type": "stream"
    },
    {
     "traceback": [
      "\u001b[0;31m---------------------------------------------------------------------------\u001b[0m",
      "\u001b[0;31mAttributeError\u001b[0m                            Traceback (most recent call last)",
      "\u001b[0;32m<ipython-input-9-7b73b8b58dcd>\u001b[0m in \u001b[0;36m<module>\u001b[0;34m\u001b[0m\n\u001b[1;32m     19\u001b[0m \u001b[0mx\u001b[0m \u001b[0;34m=\u001b[0m \u001b[0mpd\u001b[0m\u001b[0;34m.\u001b[0m\u001b[0mDataFrame\u001b[0m\u001b[0;34m(\u001b[0m\u001b[0mdata\u001b[0m\u001b[0;34m=\u001b[0m\u001b[0mX\u001b[0m\u001b[0;34m,\u001b[0m \u001b[0mcolumns\u001b[0m\u001b[0;34m=\u001b[0m\u001b[0mx_columns_name\u001b[0m\u001b[0;34m)\u001b[0m\u001b[0;34m\u001b[0m\u001b[0;34m\u001b[0m\u001b[0m\n\u001b[1;32m     20\u001b[0m \u001b[0mprint\u001b[0m\u001b[0;34m(\u001b[0m\u001b[0mx\u001b[0m\u001b[0;34m.\u001b[0m\u001b[0mhead\u001b[0m\u001b[0;34m(\u001b[0m\u001b[0;36m60\u001b[0m\u001b[0;34m)\u001b[0m\u001b[0;34m)\u001b[0m\u001b[0;34m\u001b[0m\u001b[0;34m\u001b[0m\u001b[0m\n\u001b[0;32m---> 21\u001b[0;31m \u001b[0mprint\u001b[0m\u001b[0;34m(\u001b[0m\u001b[0mX\u001b[0m\u001b[0;34m.\u001b[0m\u001b[0mhead\u001b[0m\u001b[0;34m(\u001b[0m\u001b[0;36m60\u001b[0m\u001b[0;34m)\u001b[0m\u001b[0;34m)\u001b[0m\u001b[0;34m\u001b[0m\u001b[0;34m\u001b[0m\u001b[0m\n\u001b[0m\u001b[1;32m     22\u001b[0m \u001b[0;31m#Y = y.reshape(-1,1)\u001b[0m\u001b[0;34m\u001b[0m\u001b[0;34m\u001b[0m\u001b[0;34m\u001b[0m\u001b[0m\n\u001b[1;32m     23\u001b[0m \u001b[0;31m#Y = imp.fit_transform(y)\u001b[0m\u001b[0;34m\u001b[0m\u001b[0;34m\u001b[0m\u001b[0;34m\u001b[0m\u001b[0m\n",
      "\u001b[0;31mAttributeError\u001b[0m: 'numpy.ndarray' object has no attribute 'head'"
     ],
     "ename": "AttributeError",
     "evalue": "'numpy.ndarray' object has no attribute 'head'",
     "output_type": "error"
    }
   ],
   "source": [
    "# https://analyticsindiamag.com/data-pre-processing-in-python/\n",
    "#https://towardsdatascience.com/handling-missing-values-in-machine-learning-part-1-dda69d4f88ca\n",
    "\n",
    "# We have already noticed the missing fields in the data denoted by “nan”. \n",
    "# Machine learning models cannot accommodate missing fields in the data \n",
    "# they are provided with.So the missing fields must be filled with values \n",
    "# that will not affect the variance of the data or make it more noisy.\n",
    "\n",
    "#The scikit-learn library’s SimpleImputer Class allows us to impute\n",
    "# the missing fields in a dataset with valid data. In the above code,\n",
    "# we have used the default strategy for filling missing values which is the mean.\n",
    "\n",
    "# MEDIAN :Suitable for continuous data with outliers\n",
    "\n",
    "from sklearn.impute import SimpleImputer\n",
    "imp = SimpleImputer(missing_values=np.nan, strategy=\"median\")\n",
    "x_columns_name = x.columns\n",
    "X = imp.fit_transform(x)\n",
    "x = pd.DataFrame(data=X, columns=x_columns_name)\n",
    "print(x.head(60))\n",
    "print(X.head(60))\n",
    "#Y = y.reshape(-1,1)\n",
    "#Y = imp.fit_transform(y)\n",
    "#Y = y.reshape(-1)\n"
   ],
   "metadata": {
    "collapsed": false,
    "pycharm": {
     "name": "#%%\n",
     "is_executing": false
    }
   }
  },
  {
   "cell_type": "code",
   "execution_count": 23,
   "outputs": [
    {
     "data": {
      "text/plain": "0     0\n1     0\n2     0\n3     0\n4     0\n5     0\n6     0\n7     0\n8     0\n9     0\n10    0\n11    0\n12    0\n13    0\n14    0\n15    0\n16    0\n17    0\n18    0\n19    0\n20    0\n21    0\n22    0\n23    0\n24    0\n25    0\n26    0\n27    0\n28    0\n29    0\n30    0\n31    0\n32    0\n33    0\n34    0\n35    0\n36    0\n37    0\n38    0\n39    0\n40    0\n41    0\n42    0\n43    0\n44    0\n45    0\n46    0\n47    0\n48    0\n49    0\nName: isFraud, dtype: int64"
     },
     "metadata": {},
     "output_type": "execute_result",
     "execution_count": 23
    }
   ],
   "source": [
    "y.head(50)"
   ],
   "metadata": {
    "collapsed": false,
    "pycharm": {
     "name": "#%%\n",
     "is_executing": false
    }
   }
  },
  {
   "cell_type": "code",
   "execution_count": null,
   "outputs": [],
   "source": [
    "new_data = pd.concat([x, y], axis=1)\n",
    "print(new_data.head())"
   ],
   "metadata": {
    "collapsed": false,
    "pycharm": {
     "name": "#%%\n"
    }
   }
  },
  {
   "cell_type": "code",
   "execution_count": 11,
   "outputs": [
    {
     "data": {
      "text/plain": "68.5          0\nW             0\n13926         0\nUnnamed: 5    0\n150           0\ndiscover      0\n142           0\ncredit        0\n315           0\ndtype: int64"
     },
     "metadata": {},
     "output_type": "execute_result",
     "execution_count": 11
    }
   ],
   "source": [
    "# Check nulls in data\n",
    "x.isnull().values.any()\n",
    "x.isnull().sum()\n"
   ],
   "metadata": {
    "collapsed": false,
    "pycharm": {
     "name": "#%%\n",
     "is_executing": false
    }
   }
  },
  {
   "cell_type": "code",
   "execution_count": 12,
   "outputs": [
    {
     "name": "stdout",
     "text": [
      "       68.5         W     13926  Unnamed: 5       150  discover       142  \\\n0  0.010323  0.001424  0.980642    0.143804  0.053393  0.000712  0.036307   \n1  0.012537  0.000850  0.990869    0.104123  0.031874  0.000850  0.035274   \n2  0.002755  0.000220  0.999109    0.031243  0.008265  0.000110  0.006447   \n3  0.010990  0.000220  0.988435    0.112977  0.032970  0.000440  0.022419   \n4  0.008200  0.000669  0.993566    0.092880  0.025103  0.000669  0.037821   \n\n     credit       315  \n0  0.000356  0.115684  \n1  0.000425  0.070124  \n2  0.000110  0.026229  \n3  0.000220  0.092315  \n4  0.000335  0.045520  \n(50056, 9)\n(50056, 9)\n"
     ],
     "output_type": "stream"
    }
   ],
   "source": [
    "import pandas as pd\n",
    "from sklearn import preprocessing\n",
    "\n",
    "# l\n",
    "# The normalizer scales each value by dividing each value by its magnitude\n",
    "# in n-dimensional space for n number of features.\n",
    "\n",
    "#Say your features were x, y and z Cartesian co-ordinates your scaled value for x\n",
    "# would be:\n",
    "\n",
    "scaler = preprocessing.Normalizer()\n",
    "scaled_df = scaler.fit_transform(x)\n",
    "scaled_df = pd.DataFrame(scaled_df, columns=x.columns)\n",
    "print(scaled_df.head())\n",
    "print(scaled_df.shape)\n",
    "print(X.shape)"
   ],
   "metadata": {
    "collapsed": false,
    "pycharm": {
     "name": "#%%\n",
     "is_executing": false
    }
   }
  },
  {
   "cell_type": "code",
   "execution_count": 13,
   "outputs": [
    {
     "name": "stdout",
     "text": [
      "       68.5         W     13926  Unnamed: 5       150  discover       142  \\\n0  0.010323  0.001424  0.980642    0.143804  0.053393  0.000712  0.036307   \n1  0.012537  0.000850  0.990869    0.104123  0.031874  0.000850  0.035274   \n2  0.002755  0.000220  0.999109    0.031243  0.008265  0.000110  0.006447   \n3  0.010990  0.000220  0.988435    0.112977  0.032970  0.000440  0.022419   \n4  0.008200  0.000669  0.993566    0.092880  0.025103  0.000669  0.037821   \n\n     credit       315  \n0  0.000356  0.115684  \n1  0.000425  0.070124  \n2  0.000110  0.026229  \n3  0.000220  0.092315  \n4  0.000335  0.045520  \n"
     ],
     "output_type": "stream"
    }
   ],
   "source": [
    "x = scaled_df.copy()\n",
    "#print(y.head())\n",
    "print(x.head())\n",
    "\n",
    "\n",
    "\n",
    "\n",
    "\n",
    "\n"
   ],
   "metadata": {
    "collapsed": false,
    "pycharm": {
     "name": "#%%\n",
     "is_executing": false
    }
   }
  },
  {
   "cell_type": "code",
   "execution_count": 15,
   "outputs": [],
   "source": [
    "#Imports\n",
    "import matplotlib.pyplot as plt\n",
    "import numpy as np\n",
    "import pandas as pd\n",
    "from sklearn import decomposition\n",
    "from sklearn.preprocessing import scale\n",
    "from sklearn.decomposition import PCA\n",
    "import seaborn as sb\n",
    "%matplotlib inline\n",
    "\n"
   ],
   "metadata": {
    "collapsed": false,
    "pycharm": {
     "name": "#%%\n",
     "is_executing": false
    }
   }
  },
  {
   "cell_type": "code",
   "execution_count": 16,
   "outputs": [
    {
     "name": "stdout",
     "text": [
      "[[ 1.04703745e-01 -3.97526641e-02  6.26114461e-03 ... -6.99035156e-04\n   1.74325783e-04 -2.42567893e-04]\n [ 4.77350019e-02 -2.27335538e-02 -7.03310309e-03 ... -3.68125404e-04\n  -1.96965652e-04  4.36555893e-05]\n [-4.39009720e-02 -5.93748573e-03 -4.25226260e-03 ... -9.97091823e-05\n   4.38370190e-05  1.42050725e-05]\n ...\n [-1.85074925e-02 -6.64658957e-03  1.84111518e-03 ... -5.95739056e-05\n  -3.08557873e-05  1.47909163e-05]\n [ 8.39303189e-03  2.08335523e-03 -1.47342151e-02 ...  1.74310968e-04\n  -1.15887062e-04 -5.13248419e-05]\n [-2.50413740e-02 -1.00847203e-02 -1.26101756e-02 ... -6.55774259e-05\n   1.51551387e-04  1.88704455e-05]]\n['68.5' 'W' '13926' 'Unnamed: 5' '150' 'discover' '142' 'credit' '315']\n"
     ],
     "output_type": "stream"
    }
   ],
   "source": [
    "X_columns = x.iloc[:, :9].columns.values\n",
    "pca = PCA(n_components=9)\n",
    "x = pca.fit_transform(x)\n",
    "\n",
    "print(x)\n",
    "print(X_columns)"
   ],
   "metadata": {
    "collapsed": false,
    "pycharm": {
     "name": "#%%\n",
     "is_executing": false
    }
   }
  },
  {
   "cell_type": "code",
   "execution_count": 58,
   "outputs": [
    {
     "name": "stdout",
     "text": [
      "        TransactionAmt  ProductCD     card1     card2     card3     card4  \\\n0            -0.045610  -0.006586 -0.000307  0.000157  0.004225 -0.001308   \n1            -0.045539   0.002131 -0.001288 -0.007506  0.003780 -0.000124   \n2             0.143087  -0.026589 -0.013356  0.016561 -0.013175  0.003603   \n3             0.005550  -0.016996  0.021130  0.009328 -0.002413 -0.004251   \n4            -0.050231   0.003067 -0.008107 -0.007574  0.004270 -0.000088   \n...                ...        ...       ...       ...       ...       ...   \n540478       -0.005764  -0.012523  0.000151 -0.004712 -0.000883 -0.001992   \n540479       -0.047410  -0.003528  0.000381 -0.006022  0.004960 -0.000250   \n540480       -0.029249  -0.011743 -0.017957  0.000260  0.001424 -0.001886   \n540481        0.001714  -0.007486 -0.000535  0.005735 -0.004366 -0.003628   \n540482       -0.056442   0.014240  0.001649  0.005893  0.002075  0.002813   \n\n           card5     card6     addr1  isFraud  \n0       0.000167 -0.000071  0.000034        0  \n1       0.000157  0.000118  0.000040        0  \n2       0.000550 -0.000579 -0.000118        0  \n3      -0.000071 -0.000069  0.000010        0  \n4      -0.000068 -0.000024  0.000002        0  \n...          ...       ...       ...      ...  \n540478 -0.000110 -0.000064  0.000010        0  \n540479 -0.000041  0.000159  0.000005        0  \n540480 -0.000038  0.000134  0.000014        0  \n540481 -0.000009  0.000182  0.000029        0  \n540482 -0.000091  0.000050 -0.000048        0  \n\n[540483 rows x 10 columns]\n"
     ],
     "output_type": "stream"
    }
   ],
   "source": [
    "x = pd.DataFrame(x, columns=X_columns)\n",
    "data = pd.concat([x, y], axis=1)\n",
    "print(data)"
   ],
   "metadata": {
    "collapsed": false,
    "pycharm": {
     "name": "#%%\n",
     "is_executing": false
    }
   }
  },
  {
   "cell_type": "code",
   "execution_count": 17,
   "outputs": [],
   "source": [
    "x = pd.DataFrame(x, columns=X_columns)"
   ],
   "metadata": {
    "collapsed": false,
    "pycharm": {
     "name": "#%%\n",
     "is_executing": false
    }
   }
  },
  {
   "cell_type": "code",
   "execution_count": 19,
   "outputs": [],
   "source": [
    "# Write pre-processed data to excel file\n",
    "from pandas import ExcelWriter\n",
    "from pandas import ExcelFile\n",
    "import openpyxl\n",
    "\n",
    "with pd.ExcelWriter('test_2_scaled.xlsx') as ew:\n",
    "    data.to_excel(ew,'Sheet1',index=False)\n"
   ],
   "metadata": {
    "collapsed": false,
    "pycharm": {
     "name": "#%%\n",
     "is_executing": false
    }
   }
  },
  {
   "cell_type": "code",
   "execution_count": null,
   "outputs": [],
   "source": [
    "print(x.head())\n",
    "print(y.head())"
   ],
   "metadata": {
    "collapsed": false,
    "pycharm": {
     "name": "#%%\n"
    }
   }
  },
  {
   "cell_type": "code",
   "execution_count": 18,
   "outputs": [
    {
     "name": "stdout",
     "text": [
      "       68.5         W     13926  Unnamed: 5       150  discover       142  \\\n0  0.104704 -0.039753  0.006261    0.029378 -0.010939  0.015393 -0.000699   \n1  0.047735 -0.022734 -0.007033    0.011678 -0.008235  0.001556 -0.000368   \n2 -0.043901 -0.005937 -0.004252    0.012666  0.001880  0.000593 -0.000100   \n3  0.060897 -0.027802  0.001797    0.032541 -0.011004  0.006655  0.000230   \n4  0.025592 -0.021417 -0.018789   -0.000213 -0.004357 -0.003293 -0.000188   \n\n     credit       315  \n0  0.000174 -0.000243  \n1 -0.000197  0.000044  \n2  0.000044  0.000014  \n3 -0.000043 -0.000023  \n4 -0.000062  0.000026  \n"
     ],
     "output_type": "stream"
    }
   ],
   "source": [
    "print(x.head())"
   ],
   "metadata": {
    "collapsed": false,
    "pycharm": {
     "name": "#%%\n",
     "is_executing": false
    }
   }
  },
  {
   "cell_type": "code",
   "execution_count": 35,
   "outputs": [
    {
     "name": "stdout",
     "text": [
      "fraud: 19306\nvalid: 521177\n0.03704307749574521\n"
     ],
     "output_type": "stream"
    }
   ],
   "source": [
    "fraud = data[data['isFraud'] == 1]\n",
    "valid = data[data['isFraud'] == 0]\n",
    "print(f'fraud: {len(fraud)}')\n",
    "print(f'valid: {len(valid)}')\n",
    "\n",
    "outlier_fraction = len(fraud)/float(len(valid))\n",
    "print(outlier_fraction)    \n"
   ],
   "metadata": {
    "collapsed": false,
    "pycharm": {
     "name": "#%%\n",
     "is_executing": false
    }
   }
  },
  {
   "cell_type": "code",
   "execution_count": null,
   "outputs": [],
   "source": [],
   "metadata": {
    "collapsed": false,
    "pycharm": {
     "name": "#%%\n"
    }
   }
  },
  {
   "cell_type": "code",
   "execution_count": 49,
   "outputs": [
    {
     "name": "stdout",
     "text": [
      "[(0, 521177), (1, 521177)]\n"
     ],
     "output_type": "stream"
    }
   ],
   "source": [
    "from imblearn.over_sampling import SMOTE, ADASYN\n",
    "from collections import Counter\n",
    "X_res, y_res = SMOTE().fit_resample(x, y)\n",
    "print(sorted(Counter(y_res).items()))"
   ],
   "metadata": {
    "collapsed": false,
    "pycharm": {
     "name": "#%%\n",
     "is_executing": false
    }
   }
  },
  {
   "cell_type": "code",
   "execution_count": 37,
   "outputs": [
    {
     "data": {
      "text/plain": "(1042354, 9)"
     },
     "metadata": {},
     "output_type": "execute_result",
     "execution_count": 37
    }
   ],
   "source": [
    "X_res.shape"
   ],
   "metadata": {
    "collapsed": false,
    "pycharm": {
     "name": "#%%\n",
     "is_executing": false
    }
   }
  },
  {
   "cell_type": "code",
   "execution_count": 50,
   "outputs": [],
   "source": [
    "# Using Skicit-learn to split data into training and testing sets\n",
    "from sklearn.model_selection import train_test_split\n",
    "# Split the data into training and testing sets\n",
    "X_train, X_test, Y_train, Y_test = train_test_split(X_res,\n",
    "                                                    y_res,\n",
    "                                                    test_size = 0.2,\n",
    "                                                    random_state = 42)\n",
    "\n"
   ],
   "metadata": {
    "collapsed": false,
    "pycharm": {
     "name": "#%%\n",
     "is_executing": false
    }
   }
  },
  {
   "cell_type": "code",
   "execution_count": 39,
   "outputs": [
    {
     "name": "stderr",
     "text": [
      "/Library/Frameworks/Python.framework/Versions/3.7/lib/python3.7/site-packages/sklearn/linear_model/logistic.py:432: FutureWarning: Default solver will be changed to 'lbfgs' in 0.22. Specify a solver to silence this warning.\n  FutureWarning)\n"
     ],
     "output_type": "stream"
    },
    {
     "name": "stdout",
     "text": [
      "[[74213 29980]\n [54995 49283]]\nAccuracy 0.5923893491181027\n"
     ],
     "output_type": "stream"
    }
   ],
   "source": [
    "from sklearn.linear_model import LogisticRegression\n",
    "lr = LogisticRegression()\n",
    "lr.fit(X_train, Y_train)\n",
    "\n",
    "# Predicting the Test set results\n",
    "y_pred = lr.predict(X_test)\n",
    "\n",
    "from sklearn.metrics import confusion_matrix\n",
    "from sklearn.metrics import accuracy_score\n",
    "\n",
    "cm = confusion_matrix(Y_test, y_pred)\n",
    "print(cm)\n",
    "print('Accuracy', accuracy_score(Y_test, y_pred))\n",
    "\n"
   ],
   "metadata": {
    "collapsed": false,
    "pycharm": {
     "name": "#%%\n",
     "is_executing": false
    }
   }
  },
  {
   "cell_type": "code",
   "execution_count": 40,
   "outputs": [
    {
     "traceback": [
      "\u001b[0;31m---------------------------------------------------------------------------\u001b[0m",
      "\u001b[0;31mNameError\u001b[0m                                 Traceback (most recent call last)",
      "\u001b[0;32m<ipython-input-40-184565b5e378>\u001b[0m in \u001b[0;36m<module>\u001b[0;34m\u001b[0m\n\u001b[1;32m      4\u001b[0m \u001b[0mconf_matrix\u001b[0m \u001b[0;34m=\u001b[0m \u001b[0mconfusion_matrix\u001b[0m\u001b[0;34m(\u001b[0m\u001b[0mY_test\u001b[0m\u001b[0;34m,\u001b[0m \u001b[0my_pred\u001b[0m\u001b[0;34m)\u001b[0m\u001b[0;34m\u001b[0m\u001b[0;34m\u001b[0m\u001b[0m\n\u001b[1;32m      5\u001b[0m \u001b[0mplt\u001b[0m\u001b[0;34m.\u001b[0m\u001b[0mfigure\u001b[0m\u001b[0;34m(\u001b[0m\u001b[0mfigsize\u001b[0m\u001b[0;34m=\u001b[0m\u001b[0;34m(\u001b[0m\u001b[0;36m12\u001b[0m\u001b[0;34m,\u001b[0m \u001b[0;36m12\u001b[0m\u001b[0;34m)\u001b[0m\u001b[0;34m)\u001b[0m\u001b[0;34m\u001b[0m\u001b[0;34m\u001b[0m\u001b[0m\n\u001b[0;32m----> 6\u001b[0;31m sns.heatmap(conf_matrix,\n\u001b[0m\u001b[1;32m      7\u001b[0m             \u001b[0mxticklabels\u001b[0m\u001b[0;34m=\u001b[0m\u001b[0mLABELS\u001b[0m\u001b[0;34m,\u001b[0m\u001b[0;34m\u001b[0m\u001b[0;34m\u001b[0m\u001b[0m\n\u001b[1;32m      8\u001b[0m             \u001b[0myticklabels\u001b[0m\u001b[0;34m=\u001b[0m\u001b[0mLABELS\u001b[0m\u001b[0;34m,\u001b[0m\u001b[0;34m\u001b[0m\u001b[0;34m\u001b[0m\u001b[0m\n",
      "\u001b[0;31mNameError\u001b[0m: name 'sns' is not defined"
     ],
     "ename": "NameError",
     "evalue": "name 'sns' is not defined",
     "output_type": "error"
    },
    {
     "data": {
      "text/plain": "<Figure size 864x864 with 0 Axes>"
     },
     "metadata": {},
     "output_type": "display_data"
    }
   ],
   "source": [
    "#printing the confusion matrix\n",
    "# https://medium.com/analytics-vidhya/accuracy-vs-f1-score-6258237beca2\n",
    "LABELS = ['Normal', 'Fraud']\n",
    "conf_matrix = confusion_matrix(Y_test, y_pred)\n",
    "plt.figure(figsize=(12, 12))\n",
    "sns.heatmap(conf_matrix,\n",
    "            xticklabels=LABELS, \n",
    "            yticklabels=LABELS,\n",
    "            annot=True,\n",
    "            fmt='d');\n",
    "plt.title('Confusion matrix')\n",
    "plt.ylabel('True class')\n",
    "plt.xlabel('Predicted class')\n",
    "plt.show()"
   ],
   "metadata": {
    "collapsed": false,
    "pycharm": {
     "name": "#%%\n",
     "is_executing": false
    }
   }
  },
  {
   "cell_type": "code",
   "execution_count": null,
   "outputs": [],
   "source": [
    "fraud = df[df['isFraud'] == 1]\n",
    "valid = df[df['isFraud'] == 0]\n",
    "print(f'fraud: {len(fraud)}')\n",
    "print(f'valid: {len(valid)}')\n",
    "\n",
    "outlier_fraction = len(fraud)/float(len(valid))\n",
    "print(outlier_fraction)  "
   ],
   "metadata": {
    "collapsed": false,
    "pycharm": {
     "name": "#%%\n"
    }
   }
  },
  {
   "cell_type": "code",
   "execution_count": 41,
   "outputs": [
    {
     "name": "stdout",
     "text": [
      "84975\n123496\nThe model used is Random Forest classifier\nThe accuracy is 0.5923893491181027\nThe precision is 0.6217655148051424\nThe recall is 0.4726116726442778\n",
      "The F1-Score is 0.5370244250603408\n",
      "The Matthews correlation coefficient is 0.19042201969708988\n"
     ],
     "output_type": "stream"
    }
   ],
   "source": [
    "# Building an Evaluation matrix on test set\n",
    "#Evaluating the classifier\n",
    "#printing every score of the classifier\n",
    "#scoring in any thing\n",
    "from sklearn.metrics import classification_report, accuracy_score,precision_score,recall_score,f1_score,matthews_corrcoef\n",
    "from sklearn.metrics import confusion_matrix\n",
    "n_outliers = len(fraud)\n",
    "n_errors = (y_pred != Y_test).sum()\n",
    "n_correct = (y_pred == Y_test).sum()\n",
    "print(n_errors)\n",
    "print(n_correct)\n",
    "\n",
    "print('The model used is Random Forest classifier')\n",
    "acc = accuracy_score(Y_test,y_pred)\n",
    "print(f'The accuracy is {acc}')\n",
    "prec = precision_score(Y_test,y_pred)\n",
    "print(f'The precision is {prec}')\n",
    "rec= recall_score(Y_test,y_pred)\n",
    "print(f'The recall is {rec}')\n",
    "f1= f1_score(Y_test,y_pred)\n",
    "print(f'The F1-Score is {f1}')\n",
    "MCC = matthews_corrcoef(Y_test,y_pred)\n",
    "print(f'The Matthews correlation coefficient is {MCC}')"
   ],
   "metadata": {
    "collapsed": false,
    "pycharm": {
     "name": "#%%\n",
     "is_executing": false
    }
   }
  },
  {
   "cell_type": "code",
   "execution_count": null,
   "outputs": [],
   "source": [
    "\n",
    "\n",
    "\n",
    "\n",
    "\n",
    "\n",
    "\n",
    "\n",
    "\n",
    "\n"
   ],
   "metadata": {
    "collapsed": false,
    "pycharm": {
     "name": "#%%\n"
    }
   }
  },
  {
   "cell_type": "code",
   "execution_count": 53,
   "outputs": [
    {
     "name": "stderr",
     "text": [
      "/Library/Frameworks/Python.framework/Versions/3.7/lib/python3.7/site-packages/sklearn/ensemble/forest.py:245: FutureWarning: The default value of n_estimators will change from 10 in version 0.20 to 100 in 0.22.\n  \"10 in version 0.20 to 100 in 0.22.\", FutureWarning)\n"
     ],
     "output_type": "stream"
    },
    {
     "traceback": [
      "\u001b[0;31m---------------------------------------------------------------------------\u001b[0m",
      "\u001b[0;31mValueError\u001b[0m                                Traceback (most recent call last)",
      "\u001b[0;32m<ipython-input-53-117bd655beca>\u001b[0m in \u001b[0;36m<module>\u001b[0;34m\u001b[0m\n\u001b[1;32m     10\u001b[0m \u001b[0;32mfrom\u001b[0m \u001b[0msklearn\u001b[0m\u001b[0;34m.\u001b[0m\u001b[0mmetrics\u001b[0m \u001b[0;32mimport\u001b[0m \u001b[0maccuracy_score\u001b[0m\u001b[0;34m\u001b[0m\u001b[0;34m\u001b[0m\u001b[0m\n\u001b[1;32m     11\u001b[0m \u001b[0;34m\u001b[0m\u001b[0m\n\u001b[0;32m---> 12\u001b[0;31m \u001b[0mcm\u001b[0m \u001b[0;34m=\u001b[0m \u001b[0mconfusion_matrix\u001b[0m\u001b[0;34m(\u001b[0m\u001b[0my\u001b[0m\u001b[0;34m,\u001b[0m \u001b[0my_pred\u001b[0m\u001b[0;34m)\u001b[0m\u001b[0;34m\u001b[0m\u001b[0;34m\u001b[0m\u001b[0m\n\u001b[0m\u001b[1;32m     13\u001b[0m \u001b[0mprint\u001b[0m\u001b[0;34m(\u001b[0m\u001b[0mcm\u001b[0m\u001b[0;34m)\u001b[0m\u001b[0;34m\u001b[0m\u001b[0;34m\u001b[0m\u001b[0m\n\u001b[1;32m     14\u001b[0m \u001b[0mprint\u001b[0m\u001b[0;34m(\u001b[0m\u001b[0;34m'Accuracy'\u001b[0m\u001b[0;34m,\u001b[0m \u001b[0maccuracy_score\u001b[0m\u001b[0;34m(\u001b[0m\u001b[0my\u001b[0m\u001b[0;34m,\u001b[0m \u001b[0my_pred\u001b[0m\u001b[0;34m)\u001b[0m\u001b[0;34m)\u001b[0m\u001b[0;34m\u001b[0m\u001b[0;34m\u001b[0m\u001b[0m\n",
      "\u001b[0;32m/Library/Frameworks/Python.framework/Versions/3.7/lib/python3.7/site-packages/sklearn/metrics/classification.py\u001b[0m in \u001b[0;36mconfusion_matrix\u001b[0;34m(y_true, y_pred, labels, sample_weight)\u001b[0m\n\u001b[1;32m    251\u001b[0m \u001b[0;34m\u001b[0m\u001b[0m\n\u001b[1;32m    252\u001b[0m     \"\"\"\n\u001b[0;32m--> 253\u001b[0;31m     \u001b[0my_type\u001b[0m\u001b[0;34m,\u001b[0m \u001b[0my_true\u001b[0m\u001b[0;34m,\u001b[0m \u001b[0my_pred\u001b[0m \u001b[0;34m=\u001b[0m \u001b[0m_check_targets\u001b[0m\u001b[0;34m(\u001b[0m\u001b[0my_true\u001b[0m\u001b[0;34m,\u001b[0m \u001b[0my_pred\u001b[0m\u001b[0;34m)\u001b[0m\u001b[0;34m\u001b[0m\u001b[0;34m\u001b[0m\u001b[0m\n\u001b[0m\u001b[1;32m    254\u001b[0m     \u001b[0;32mif\u001b[0m \u001b[0my_type\u001b[0m \u001b[0;32mnot\u001b[0m \u001b[0;32min\u001b[0m \u001b[0;34m(\u001b[0m\u001b[0;34m\"binary\"\u001b[0m\u001b[0;34m,\u001b[0m \u001b[0;34m\"multiclass\"\u001b[0m\u001b[0;34m)\u001b[0m\u001b[0;34m:\u001b[0m\u001b[0;34m\u001b[0m\u001b[0;34m\u001b[0m\u001b[0m\n\u001b[1;32m    255\u001b[0m         \u001b[0;32mraise\u001b[0m \u001b[0mValueError\u001b[0m\u001b[0;34m(\u001b[0m\u001b[0;34m\"%s is not supported\"\u001b[0m \u001b[0;34m%\u001b[0m \u001b[0my_type\u001b[0m\u001b[0;34m)\u001b[0m\u001b[0;34m\u001b[0m\u001b[0;34m\u001b[0m\u001b[0m\n",
      "\u001b[0;32m/Library/Frameworks/Python.framework/Versions/3.7/lib/python3.7/site-packages/sklearn/metrics/classification.py\u001b[0m in \u001b[0;36m_check_targets\u001b[0;34m(y_true, y_pred)\u001b[0m\n\u001b[1;32m     69\u001b[0m     \u001b[0my_pred\u001b[0m \u001b[0;34m:\u001b[0m \u001b[0marray\u001b[0m \u001b[0;32mor\u001b[0m \u001b[0mindicator\u001b[0m \u001b[0mmatrix\u001b[0m\u001b[0;34m\u001b[0m\u001b[0;34m\u001b[0m\u001b[0m\n\u001b[1;32m     70\u001b[0m     \"\"\"\n\u001b[0;32m---> 71\u001b[0;31m     \u001b[0mcheck_consistent_length\u001b[0m\u001b[0;34m(\u001b[0m\u001b[0my_true\u001b[0m\u001b[0;34m,\u001b[0m \u001b[0my_pred\u001b[0m\u001b[0;34m)\u001b[0m\u001b[0;34m\u001b[0m\u001b[0;34m\u001b[0m\u001b[0m\n\u001b[0m\u001b[1;32m     72\u001b[0m     \u001b[0mtype_true\u001b[0m \u001b[0;34m=\u001b[0m \u001b[0mtype_of_target\u001b[0m\u001b[0;34m(\u001b[0m\u001b[0my_true\u001b[0m\u001b[0;34m)\u001b[0m\u001b[0;34m\u001b[0m\u001b[0;34m\u001b[0m\u001b[0m\n\u001b[1;32m     73\u001b[0m     \u001b[0mtype_pred\u001b[0m \u001b[0;34m=\u001b[0m \u001b[0mtype_of_target\u001b[0m\u001b[0;34m(\u001b[0m\u001b[0my_pred\u001b[0m\u001b[0;34m)\u001b[0m\u001b[0;34m\u001b[0m\u001b[0;34m\u001b[0m\u001b[0m\n",
      "\u001b[0;32m/Library/Frameworks/Python.framework/Versions/3.7/lib/python3.7/site-packages/sklearn/utils/validation.py\u001b[0m in \u001b[0;36mcheck_consistent_length\u001b[0;34m(*arrays)\u001b[0m\n\u001b[1;32m    203\u001b[0m     \u001b[0;32mif\u001b[0m \u001b[0mlen\u001b[0m\u001b[0;34m(\u001b[0m\u001b[0muniques\u001b[0m\u001b[0;34m)\u001b[0m \u001b[0;34m>\u001b[0m \u001b[0;36m1\u001b[0m\u001b[0;34m:\u001b[0m\u001b[0;34m\u001b[0m\u001b[0;34m\u001b[0m\u001b[0m\n\u001b[1;32m    204\u001b[0m         raise ValueError(\"Found input variables with inconsistent numbers of\"\n\u001b[0;32m--> 205\u001b[0;31m                          \" samples: %r\" % [int(l) for l in lengths])\n\u001b[0m\u001b[1;32m    206\u001b[0m \u001b[0;34m\u001b[0m\u001b[0m\n\u001b[1;32m    207\u001b[0m \u001b[0;34m\u001b[0m\u001b[0m\n",
      "\u001b[0;31mValueError\u001b[0m: Found input variables with inconsistent numbers of samples: [540483, 208471]"
     ],
     "ename": "ValueError",
     "evalue": "Found input variables with inconsistent numbers of samples: [540483, 208471]",
     "output_type": "error"
    }
   ],
   "source": [
    "from sklearn.ensemble import RandomForestClassifier\n",
    "\n",
    "classifier = RandomForestClassifier(max_depth=2, random_state=0)\n",
    "classifier.fit(X_train, Y_train)\n",
    "\n",
    "# Predicting the Test set results\n",
    "y_pred = classifier.predict(X_test)\n",
    "\n",
    "from sklearn.metrics import confusion_matrix\n",
    "from sklearn.metrics import accuracy_score\n",
    "\n",
    "cm = confusion_matrix(y, y_pred)\n",
    "print(cm)\n",
    "print('Accuracy', accuracy_score(y, y_pred))"
   ],
   "metadata": {
    "collapsed": false,
    "pycharm": {
     "name": "#%%\n",
     "is_executing": false
    }
   }
  },
  {
   "cell_type": "code",
   "execution_count": null,
   "outputs": [],
   "source": [
    "#printing the confusion matrix\n",
    "# https://medium.com/analytics-vidhya/accuracy-vs-f1-score-6258237beca2\n",
    "LABELS = ['Normal', 'Fraud']\n",
    "conf_matrix = confusion_matrix(Y_test, y_pred)\n",
    "plt.figure(figsize=(12, 12))\n",
    "sns.heatmap(conf_matrix,\n",
    "            xticklabels=LABELS, \n",
    "            yticklabels=LABELS,\n",
    "            annot=True,\n",
    "            fmt='d');\n",
    "plt.title('Confusion matrix')\n",
    "plt.ylabel('True class')\n",
    "plt.xlabel('Predicted class')\n",
    "plt.show()"
   ],
   "metadata": {
    "collapsed": false,
    "pycharm": {
     "name": "#%%\n"
    }
   }
  },
  {
   "cell_type": "code",
   "execution_count": 54,
   "outputs": [
    {
     "name": "stdout",
     "text": [
      "80936\nThe model used is Random Forest classifier\nThe accuracy is 0.611763746516302\nThe precision is 0.6752770852731805\nThe recall is 0.43119354034408025\n",
      "The F1-Score is 0.526313325217717\n",
      "The Matthews correlation coefficient is 0.23986836350699256\n"
     ],
     "output_type": "stream"
    }
   ],
   "source": [
    "# Building an Evaluation matrix on test set\n",
    "#Evaluating the classifier\n",
    "#printing every score of the classifier\n",
    "#scoring in any thing\n",
    "from sklearn.metrics import classification_report, accuracy_score,precision_score,recall_score,f1_score,matthews_corrcoef\n",
    "from sklearn.metrics import confusion_matrix\n",
    "n_outliers = len(fraud)\n",
    "n_errors = (y_pred != Y_test).sum()\n",
    "n_correct = (y_pred == Y_test).sum()\n",
    "print(n_errors)#print(n_correct)\n",
    "\n",
    "print('The model used is Random Forest classifier')\n",
    "acc = accuracy_score(Y_test,y_pred)\n",
    "print(f'The accuracy is {acc}')\n",
    "prec = precision_score(Y_test,y_pred)\n",
    "print(f'The precision is {prec}')\n",
    "rec= recall_score(Y_test,y_pred)\n",
    "print(f'The recall is {rec}')\n",
    "f1= f1_score(Y_test,y_pred)\n",
    "print(f'The F1-Score is {f1}')\n",
    "MCC = matthews_corrcoef(Y_test,y_pred)\n",
    "print(f'The Matthews correlation coefficient is {MCC}')"
   ],
   "metadata": {
    "collapsed": false,
    "pycharm": {
     "name": "#%%\n",
     "is_executing": false
    }
   }
  },
  {
   "cell_type": "code",
   "execution_count": null,
   "outputs": [],
   "source": [
    "\n",
    "\n",
    "\n",
    "\n",
    "\n",
    "\n",
    "\n"
   ],
   "metadata": {
    "collapsed": false,
    "pycharm": {
     "name": "#%%\n"
    }
   }
  },
  {
   "cell_type": "code",
   "execution_count": 55,
   "outputs": [],
   "source": [
    "# Model Generation\n",
    "\n",
    "#After splitting, you will generate a random forest model on the training\n",
    "# set and perform prediction on test set features.\n",
    "\n",
    "#Import Gaussian Naive Bayes model\n",
    "from sklearn.naive_bayes import GaussianNB\n",
    "\n",
    "#Create a Gaussian Classifier\n",
    "gnb = GaussianNB()\n",
    "\n",
    "#Train the model using the training sets\n",
    "gnb.fit(X_train, Y_train)\n",
    "\n",
    "#Predict the response for test dataset\n",
    "y_pred = gnb.predict(X_test)"
   ],
   "metadata": {
    "collapsed": false,
    "pycharm": {
     "name": "#%%\n",
     "is_executing": false
    }
   }
  },
  {
   "cell_type": "code",
   "execution_count": null,
   "outputs": [],
   "source": [
    "#printing the confusion matrix\n",
    "# https://medium.com/analytics-vidhya/accuracy-vs-f1-score-6258237beca2\n",
    "LABELS = ['Normal', 'Fraud']\n",
    "conf_matrix = confusion_matrix(Y_test, y_pred)\n",
    "plt.figure(figsize=(12, 12))\n",
    "sns.heatmap(conf_matrix,\n",
    "            xticklabels=LABELS, \n",
    "            yticklabels=LABELS,\n",
    "            annot=True,\n",
    "            fmt='d');\n",
    "plt.title('Confusion matrix')\n",
    "plt.ylabel('True class')\n",
    "plt.xlabel('Predicted class')\n",
    "plt.show()"
   ],
   "metadata": {
    "collapsed": false,
    "pycharm": {
     "name": "#%%\n"
    }
   }
  },
  {
   "cell_type": "code",
   "execution_count": 56,
   "outputs": [
    {
     "name": "stdout",
     "text": [
      "81002\n127469\nThe model used is Random Forest classifier\nThe accuracy is 0.6114471557195006\nThe precision is 0.721709974853311\nThe recall is 0.3632981069832563\n",
      "The F1-Score is 0.48330675511896415\n",
      "The Matthews correlation coefficient is 0.2569976992703313\n"
     ],
     "output_type": "stream"
    }
   ],
   "source": [
    "# Building an Evaluation matrix on test set\n",
    "#Evaluating the classifier\n",
    "#printing every score of the classifier\n",
    "#scoring in any thing\n",
    "from sklearn.metrics import classification_report, accuracy_score,precision_score,recall_score,f1_score,matthews_corrcoef\n",
    "from sklearn.metrics import confusion_matrix\n",
    "n_outliers = len(fraud)\n",
    "n_errors = (y_pred != Y_test).sum()\n",
    "n_correct = (y_pred == Y_test).sum()\n",
    "print(n_errors)\n",
    "print(n_correct)\n",
    "\n",
    "print('The model used is Random Forest classifier')\n",
    "acc = accuracy_score(Y_test,y_pred)\n",
    "print(f'The accuracy is {acc}')\n",
    "prec = precision_score(Y_test,y_pred)\n",
    "print(f'The precision is {prec}')\n",
    "rec= recall_score(Y_test,y_pred)\n",
    "print(f'The recall is {rec}')\n",
    "f1= f1_score(Y_test,y_pred)\n",
    "print(f'The F1-Score is {f1}')\n",
    "MCC = matthews_corrcoef(Y_test,y_pred)\n",
    "print(f'The Matthews correlation coefficient is {MCC}')\n",
    "\n",
    "\n",
    "\n"
   ],
   "metadata": {
    "collapsed": false,
    "pycharm": {
     "name": "#%%\n",
     "is_executing": false
    }
   }
  }
 ],
 "metadata": {
  "kernelspec": {
   "display_name": "Python 3",
   "language": "python",
   "name": "python3"
  },
  "language_info": {
   "codemirror_mode": {
    "name": "ipython",
    "version": 2
   },
   "file_extension": ".py",
   "mimetype": "text/x-python",
   "name": "python",
   "nbconvert_exporter": "python",
   "pygments_lexer": "ipython2",
   "version": "2.7.6"
  },
  "pycharm": {
   "stem_cell": {
    "cell_type": "raw",
    "source": [],
    "metadata": {
     "collapsed": false
    }
   }
  }
 },
 "nbformat": 4,
 "nbformat_minor": 0
}