{
 "cells": [
  {
   "cell_type": "markdown",
   "metadata": {},
   "source": [
    "# Searching a key\n",
    "\n",
    "To search a given key in Binary Search Tree, we first compare it with root,\n",
    "if the key is present at root, we return root. If key is greater than root’s key,\n",
    "we recur for right subtree of root node. Otherwise we recur for left subtree.\n",
    "\n",
    "\n",
    "# Advantages of trees\n",
    "\n",
    "Trees are so useful and frequently used, because they have some very serious advantages:\n",
    "\n",
    "*    Trees reflect structural relationships in the data\n",
    "*    Trees are used to represent hierarchies\n",
    "*    Trees provide an efficient insertion and searching\n",
    "*    Trees are very flexible data, allowing to move subtrees around with minumum effort \n",
    "\n",
    "# Traversals\n",
    "\n",
    "A traversal is a process that visits all the nodes in the tree. Since a tree is a nonlinear data structure, there is no unique traversal. We will consider several traversal algorithms with we group in the following two kinds\n",
    "\n",
    "  *  depth-first traversal\n",
    "  *  breadth-first traversal \n",
    "\n",
    "There are three different types of depth-first traversals, :\n",
    "\n",
    " *   PreOrder traversal - visit the parent first and then left and right children;\n",
    " *   InOrder traversal - visit the left child, then the parent and the right child;\n",
    " *   PostOrder traversal - visit left child, then the right child and then the parent; \n",
    "\n",
    "There is only one kind of breadth-first traversal--the level order traversal. This traversal visits nodes by levels from top to bottom and from left to right.\n",
    "As an example consider the following tree and its four traversals:\n",
    "\n",
    "* PreOrder - 8, 5, 9, 7, 1, 12, 2, 4, 11, 3\n",
    "* InOrder - 9, 5, 1, 7, 2, 12, 8, 4, 3, 11\n",
    "* PostOrder - 9, 1, 2, 12, 7, 5, 3, 11, 4, 8\n",
    "* LevelOrder - 8, 5, 4, 9, 7, 11, 1, 12, 3, 2\n",
    "\n",
    "![alt text](tree1.bmp \"Binary Search Tree\")"
   ]
  },
  {
   "cell_type": "code",
   "execution_count": 17,
   "metadata": {},
   "outputs": [],
   "source": [
    "# A utility function to search a given key in BST \n",
    "def search(root,key): \n",
    "      \n",
    "    # Base Cases: root is null or key is present at root \n",
    "    if root is None or root.val == key: \n",
    "        return root \n",
    "  \n",
    "    # Key is greater than root's key \n",
    "    if root.val < key: \n",
    "        return search(root.right,key) \n",
    "    \n",
    "    # Key is smaller than root's key \n",
    "    return search(root.left,key) "
   ]
  },
  {
   "cell_type": "code",
   "execution_count": 4,
   "metadata": {},
   "outputs": [
    {
     "name": "stdout",
     "output_type": "stream",
     "text": [
      "20\n",
      "30\n",
      "40\n",
      "50\n",
      "60\n",
      "70\n",
      "80\n"
     ]
    }
   ],
   "source": [
    "# Python program to demonstrate insert operation in binary search tree  \n",
    "  \n",
    "# A utility class that represents an individual node in a BST \n",
    "class Node: \n",
    "    def __init__(self,key): \n",
    "        self.left = None\n",
    "        self.right = None\n",
    "        self.val = key \n",
    "\n",
    "# A utility function to insert a new node with the given key \n",
    "def insert(root,node): \n",
    "    if root is None: \n",
    "        root = node \n",
    "    else: \n",
    "        if root.val < node.val: \n",
    "            if root.right is None: \n",
    "                root.right = node \n",
    "            else: \n",
    "                insert(root.right, node) \n",
    "        else: \n",
    "            if root.left is None: \n",
    "                root.left = node \n",
    "            else: \n",
    "                insert(root.left, node) \n",
    "\n",
    "# A utility function to do inorder tree traversal \n",
    "def inorder(root): \n",
    "    if root: \n",
    "        inorder(root.left) \n",
    "        print(root.val) \n",
    "        inorder(root.right)\n",
    "        \n",
    "# Driver program to test the above functions \n",
    "# Let us create the following BST \n",
    "#      50 \n",
    "#    /      \\ \n",
    "#   30     70 \n",
    "#   / \\    / \\ \n",
    "#  20 40  60 80 \n",
    "r = Node(50) \n",
    "insert(r,Node(30)) \n",
    "insert(r,Node(20)) \n",
    "insert(r,Node(40)) \n",
    "insert(r,Node(70)) \n",
    "insert(r,Node(60)) \n",
    "insert(r,Node(80)) \n",
    "  \n",
    "# Print inoder traversal of the BST \n",
    "inorder(r) "
   ]
  },
  {
   "cell_type": "code",
   "execution_count": 22,
   "metadata": {},
   "outputs": [
    {
     "name": "stdout",
     "output_type": "stream",
     "text": [
      "None\n"
     ]
    }
   ],
   "source": [
    "# Search returns None, if key does not exist in Binary tree\n",
    "print(search(r,45))"
   ]
  },
  {
   "cell_type": "code",
   "execution_count": 25,
   "metadata": {},
   "outputs": [
    {
     "name": "stdout",
     "output_type": "stream",
     "text": [
      "<__main__.Node object at 0x7f8c60981cf8>\n",
      "70\n"
     ]
    }
   ],
   "source": [
    "# Search returns Node object, if key exists in Binary tree\n",
    "print(search(r,70))\n",
    "print(search(r,70).val)"
   ]
  }
 ],
 "metadata": {
  "kernelspec": {
   "display_name": "Python 3",
   "language": "python",
   "name": "python3"
  },
  "language_info": {
   "codemirror_mode": {
    "name": "ipython",
    "version": 3
   },
   "file_extension": ".py",
   "mimetype": "text/x-python",
   "name": "python",
   "nbconvert_exporter": "python",
   "pygments_lexer": "ipython3",
   "version": "3.6.5"
  }
 },
 "nbformat": 4,
 "nbformat_minor": 2
}
