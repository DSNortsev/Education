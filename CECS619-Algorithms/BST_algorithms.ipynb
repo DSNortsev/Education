{
 "cells": [
  {
   "cell_type": "markdown",
   "metadata": {},
   "source": [
    "# Searching a key\n",
    "\n",
    "To search a given key in Binary Search Tree, we first compare it with root,\n",
    "if the key is present at root, we return root. If key is greater than root’s key,\n",
    "we recur for right subtree of root node. Otherwise we recur for left subtree.\n",
    "\n",
    "\n",
    "# Advantages of trees\n",
    "\n",
    "Trees are so useful and frequently used, because they have some very serious advantages:\n",
    "\n",
    "*    Trees reflect structural relationships in the data\n",
    "*    Trees are used to represent hierarchies\n",
    "*    Trees provide an efficient insertion and searching\n",
    "*    Trees are very flexible data, allowing to move subtrees around with minumum effort \n",
    "\n",
    "# Traversals\n",
    "\n",
    "A traversal is a process that visits all the nodes in the tree. Since a tree is a nonlinear data structure, there is no unique traversal. We will consider several traversal algorithms with we group in the following two kinds\n",
    "\n",
    "  *  depth-first traversal\n",
    "  *  breadth-first traversal \n",
    "\n",
    "There are three different types of depth-first traversals, :\n",
    "\n",
    " *   PreOrder traversal - visit the parent first and then left and right children;\n",
    " *   InOrder traversal - visit the left child, then the parent and the right child;\n",
    " *   PostOrder traversal - visit left child, then the right child and then the parent; \n",
    "\n",
    "There is only one kind of breadth-first traversal--the level order traversal. This traversal visits nodes by levels from top to bottom and from left to right.\n",
    "As an example consider the following tree and its four traversals:\n",
    "\n",
    "* PreOrder - 8, 5, 9, 7, 1, 12, 2, 4, 11, 3\n",
    "* InOrder - 9, 5, 1, 7, 2, 12, 8, 4, 3, 11\n",
    "* PostOrder - 9, 1, 2, 12, 7, 5, 3, 11, 4, 8\n",
    "* LevelOrder - 8, 5, 4, 9, 7, 11, 1, 12, 3, 2\n",
    "\n",
    "![alt text](tree1.bmp \"Binary Search Tree\")"
   ]
  },
  {
   "cell_type": "code",
   "execution_count": 27,
   "metadata": {},
   "outputs": [],
   "source": [
    "# A utility function to search a given key in BST \n",
    "def search(root,key): \n",
    "      \n",
    "    # Base Cases: root is null or key is present at root \n",
    "    if root is None or root.val == key: \n",
    "        return root \n",
    "  \n",
    "    # Key is greater than root's key \n",
    "    if root.val < key: \n",
    "        return search(root.right,key) \n",
    "    \n",
    "    # Key is smaller than root's key \n",
    "    return search(root.left,key) "
   ]
  },
  {
   "cell_type": "code",
   "execution_count": 59,
   "metadata": {},
   "outputs": [
    {
     "name": "stdout",
     "output_type": "stream",
     "text": [
      "20\n",
      "30\n",
      "40\n",
      "50\n",
      "60\n",
      "70\n",
      "80\n"
     ]
    }
   ],
   "source": [
    "# Python program to demonstrate insert operation in binary search tree  \n",
    "  \n",
    "# A utility class that represents an individual node in a BST \n",
    "class Node: \n",
    "    def __init__(self,key):\n",
    "        self.parent = None\n",
    "        self.left = None\n",
    "        self.right = None\n",
    "        self.val = key \n",
    "\n",
    "# A utility function to insert a new node with the given key \n",
    "def insert(root,node): \n",
    "    if root is None: \n",
    "        root = node\n",
    "    else: \n",
    "        if root.val < node.val: \n",
    "            if root.right is None:\n",
    "                root.right = node\n",
    "                root.right.parent = root \n",
    "            else: \n",
    "                insert(root.right, node) \n",
    "        else: \n",
    "            if root.left is None:\n",
    "                root.left = node\n",
    "                root.left.parent = root \n",
    "            else: \n",
    "                insert(root.left, node) \n",
    "\n",
    "# A utility function to do inorder tree traversal \n",
    "def inorder(root): \n",
    "    if root: \n",
    "        inorder(root.left) \n",
    "        print(root.val) \n",
    "        inorder(root.right)\n",
    "        \n",
    "# Driver program to test the above functions \n",
    "# Let us create the following BST \n",
    "#      50 \n",
    "#    /      \\ \n",
    "#   30     70 \n",
    "#   / \\    / \\ \n",
    "#  20 40  60 80 \n",
    "r = Node(50) \n",
    "insert(r,Node(30)) \n",
    "insert(r,Node(20)) \n",
    "insert(r,Node(40)) \n",
    "insert(r,Node(70)) \n",
    "insert(r,Node(60)) \n",
    "insert(r,Node(80)) \n",
    "  \n",
    "# Print inoder traversal of the BST \n",
    "inorder(r) "
   ]
  },
  {
   "cell_type": "code",
   "execution_count": 67,
   "metadata": {},
   "outputs": [
    {
     "name": "stdout",
     "output_type": "stream",
     "text": [
      "None\n"
     ]
    }
   ],
   "source": [
    "# Search returns None, if key does not exist in Binary tree\n",
    "print(search(r,45))"
   ]
  },
  {
   "cell_type": "code",
   "execution_count": 30,
   "metadata": {},
   "outputs": [
    {
     "name": "stdout",
     "output_type": "stream",
     "text": [
      "<__main__.Node object at 0x7f8c4bea2400>\n",
      "70\n"
     ]
    }
   ],
   "source": [
    "# Search returns Node object, if key exists in Binary tree\n",
    "print(search(r,70))\n",
    "print(search(r,70).val)"
   ]
  },
  {
   "cell_type": "markdown",
   "metadata": {},
   "source": [
    "# Find the node with maximum value in a Binary Search Tree using recursion\n",
    "**Approach**: Just traverse the node from root to right recursively until right is NULL. The node whose right is NULL is the node with the maximum value."
   ]
  },
  {
   "cell_type": "code",
   "execution_count": 50,
   "metadata": {},
   "outputs": [
    {
     "data": {
      "text/plain": [
       "80"
      ]
     },
     "execution_count": 50,
     "metadata": {},
     "output_type": "execute_result"
    }
   ],
   "source": [
    "# Returns maximum value in a  \n",
    "# given Binary Tree  \n",
    "def find_max_in_bst(tree): \n",
    "    maximum = tree \n",
    "      \n",
    "    #loop down to find the rightmost leaf \n",
    "    while maximum.right: \n",
    "        maximum = maximum.right \n",
    "    return maximum.val\n",
    "\n",
    "find_max_in_bst(r)"
   ]
  },
  {
   "cell_type": "markdown",
   "metadata": {},
   "source": [
    "# Find the node with minimum value in a Binary Search Tree using recursion\n",
    "**Approach**: Just traverse the node from root to left recursively until right is NULL. The node whose left is NULL is the node with the maximum value."
   ]
  },
  {
   "cell_type": "code",
   "execution_count": 106,
   "metadata": {},
   "outputs": [
    {
     "data": {
      "text/plain": [
       "20"
      ]
     },
     "execution_count": 106,
     "metadata": {},
     "output_type": "execute_result"
    }
   ],
   "source": [
    "# Returns maximum value in a  \n",
    "# given Binary Tree  \n",
    "def find_min_in_bst(tree): \n",
    "    minimum = tree \n",
    "      \n",
    "    #loop down to find the leftmost leaf \n",
    "    while minimum.left: \n",
    "        minimum = minimum.left\n",
    "    return minimum.val\n",
    "\n",
    "find_min_in_bst(r)"
   ]
  },
  {
   "cell_type": "markdown",
   "metadata": {},
   "source": [
    "\n",
    "# Inorder Successor in Binary Search Tree\n",
    "\n",
    "In Binary Tree, Inorder successor of a node is the next node in Inorder traversal of the Binary Tree. Inorder Successor is NULL for the last node in Inoorder traversal.\n",
    "In Binary Search Tree, Inorder Successor of an input node can also be defined as the node with the smallest key greater than the key of input node. So, it is sometimes important to find next node in sorted order.\n",
    "\n",
    "![alt text](tree2.gif \"Binary Search Tree\")\n",
    "\n",
    "In the above diagram, inorder successor of 8 is 10, inorder successor of 10 is 12 and inorder successor of 14 is 20.\n"
   ]
  },
  {
   "cell_type": "code",
   "execution_count": 109,
   "metadata": {},
   "outputs": [
    {
     "name": "stdout",
     "output_type": "stream",
     "text": [
      "60\n",
      "30\n",
      "50\n",
      "70\n",
      "None\n"
     ]
    }
   ],
   "source": [
    "\n",
    "# Driver program to test the above functions \n",
    "# Let us create the following BST \n",
    "#      50 \n",
    "#    /      \\ \n",
    "#   30     70 \n",
    "#   / \\    / \\ \n",
    "#  20 40  60 80\n",
    "\n",
    "def inorder_succesor(root, x): \n",
    "      \n",
    "    # Case1: If right child is not None, find left-most child \n",
    "    if x.right: \n",
    "        return find_min_in_bst(x.right)    \n",
    "          \n",
    "    # Case2: If right child is None  \n",
    "    if not x.right:\n",
    "        if x.parent.left.val == x.val:\n",
    "            return(x.parent.val)\n",
    "        parent = x.parent\n",
    "        parent_of_parent = parent.parent\n",
    "        \n",
    "        while not parent_of_parent.left.val == parent.val:\n",
    "            if parent_of_parent.parent:\n",
    "                parent = parent_of_parent.parent\n",
    "                parent_of_parent = parent.parent\n",
    "            else:\n",
    "                return  \n",
    "        return parent_of_parent.val\n",
    " \n",
    "print(inorder_succesor(r, r)) \n",
    "print(inorder_succesor(r, r.left.left))            \n",
    "print(inorder_succesor(r, r.left.right))\n",
    "print(inorder_succesor(r, r.right.left))\n",
    "print(inorder_succesor(r, r.right.right))\n",
    "            "
   ]
  },
  {
   "cell_type": "code",
   "execution_count": 116,
   "metadata": {},
   "outputs": [
    {
     "name": "stdout",
     "output_type": "stream",
     "text": [
      "40\n",
      "30\n",
      "50\n",
      "70\n",
      "None\n"
     ]
    }
   ],
   "source": [
    "# Predecessor\n",
    "\n",
    "\n",
    "# Driver program to test the above functions \n",
    "# Let us create the following BST \n",
    "#      50 \n",
    "#    /      \\ \n",
    "#   30     70 \n",
    "#   / \\    / \\ \n",
    "#  20 40  60 80\n",
    "\n",
    "def inorder_predecessor(root, x): \n",
    "      \n",
    "    # Case1: If left child is not None, find right-most child  \n",
    "    if x.left: \n",
    "        return find_max_in_bst(x.left) \n",
    "    \n",
    "    # Case2: If left child is None  \n",
    "    if not x.left:\n",
    "        if x.parent.right.val == x.val:\n",
    "            return(x.parent.val)\n",
    "        parent = x.parent\n",
    "        parent_of_parent = parent.parent\n",
    "        \n",
    "        while not parent_of_parent.right.val == parent.val:\n",
    "            if parent_of_parent.parent:\n",
    "                parent = parent_of_parent.parent\n",
    "                parent_of_parent = parent.parent\n",
    "            else:\n",
    "                return  \n",
    "        return parent_of_parent.val\n",
    "    \n",
    "print(inorder_predecessor(r, r))            \n",
    "print(inorder_predecessor(r, r.left.right))\n",
    "print(inorder_predecessor(r, r.right.left))\n",
    "print(inorder_predecessor(r, r.right.right))\n",
    "print(inorder_predecessor(r, r.left.left))\n",
    "            \n",
    "\n"
   ]
  },
  {
   "cell_type": "code",
   "execution_count": 117,
   "metadata": {},
   "outputs": [],
   "source": [
    "# Delete"
   ]
  }
 ],
 "metadata": {
  "kernelspec": {
   "display_name": "Python 3",
   "language": "python",
   "name": "python3"
  },
  "language_info": {
   "codemirror_mode": {
    "name": "ipython",
    "version": 3
   },
   "file_extension": ".py",
   "mimetype": "text/x-python",
   "name": "python",
   "nbconvert_exporter": "python",
   "pygments_lexer": "ipython3",
   "version": "3.6.5"
  }
 },
 "nbformat": 4,
 "nbformat_minor": 2
}
