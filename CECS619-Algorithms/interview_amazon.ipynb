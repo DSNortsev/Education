{
 "cells": [
  {
   "cell_type": "markdown",
   "metadata": {},
   "source": [
    "# Select sort\n",
    "Select sort works for small data set time complexity is n^2 becasue of the nested loop"
   ]
  },
  {
   "cell_type": "code",
   "execution_count": 26,
   "metadata": {},
   "outputs": [],
   "source": [
    "def select_sort(array):\n",
    "    for i in range(0, len(array)):          # Iterate over the list\n",
    "        min_index = i                       # Set first element as a minimum value \n",
    "        for j in range(i+1, len(array)):    # Nested loop find minimum element from unsorted part and swap them \n",
    "            if array[min_index] > array[j]: # if min value is large than one of the values in unsorted part, change an index\n",
    "                min_index = j\n",
    "    #swap\n",
    "        array[i], array[min_index] = array[min_index], array[i]\n",
    "    print(array)"
   ]
  },
  {
   "cell_type": "code",
   "execution_count": 27,
   "metadata": {},
   "outputs": [
    {
     "name": "stdout",
     "output_type": "stream",
     "text": [
      "[3, 4, 5, 7, 10]\n"
     ]
    }
   ],
   "source": [
    "array = [4,10,3,7,5]\n",
    "select_sort(array)"
   ]
  },
  {
   "cell_type": "markdown",
   "metadata": {},
   "source": [
    "The algorithm can be improved"
   ]
  },
  {
   "cell_type": "code",
   "execution_count": 98,
   "metadata": {},
   "outputs": [],
   "source": [
    "def select_sort(array):\n",
    "    for i in range(0, len(array) - 1):   # Add -1, not to iterate over the last elemt because it is in th right position\n",
    "        min_index = i                   \n",
    "        for j in range(i+1, len(array)):\n",
    "            if array[min_index] > array[j]:\n",
    "                min_index = j\n",
    "        if min_index != i:\n",
    "            array[i], array[min_index] = array[min_index], array[i] # Don;t swap if the index does not change\n",
    "    return array"
   ]
  },
  {
   "cell_type": "code",
   "execution_count": 34,
   "metadata": {},
   "outputs": [
    {
     "name": "stdout",
     "output_type": "stream",
     "text": [
      "[3, 4, 5, 7, 10]\n"
     ]
    }
   ],
   "source": [
    "array = [4,10,3,7,5]\n",
    "print(select_sort(array))"
   ]
  },
  {
   "cell_type": "code",
   "execution_count": 99,
   "metadata": {},
   "outputs": [
    {
     "data": {
      "text/plain": [
       "['a', 'i', 'l', 'o', 'r', 't', 't', 'u']"
      ]
     },
     "execution_count": 99,
     "metadata": {},
     "output_type": "execute_result"
    }
   ],
   "source": [
    "array = ['t','u','t','o','r','i','a','l']\n",
    "select_sort(array)"
   ]
  },
  {
   "cell_type": "code",
   "execution_count": 39,
   "metadata": {},
   "outputs": [
    {
     "name": "stdout",
     "output_type": "stream",
     "text": [
      "[4, 10, 3, 7, 5]\n",
      "5\n"
     ]
    }
   ],
   "source": [
    "array = [4,10,3,7,5]\n",
    "print(array)\n",
    "print(sorted(array)[-3])  # Choose the third largest element in python"
   ]
  },
  {
   "cell_type": "markdown",
   "metadata": {},
   "source": [
    "# QuickSort \n",
    "Quick sort is devide and conqure algorithm. Good for large data sets\n",
    "Find a pivot, place all number that is less than a pivot to the left, and larger to the right. \n",
    "Best pivot when you split the list in have.\n",
    "Time complexity is nlgn, and N^2 is the worst case , when array is sorted or pivot is choosen as lowest or largest \n",
    "number\n"
   ]
  },
  {
   "cell_type": "code",
   "execution_count": 96,
   "metadata": {},
   "outputs": [],
   "source": [
    "def quicksort(array):\n",
    "    if len(array) < 2:\n",
    "        return array      #base case\n",
    "    else:\n",
    "        pivot = array[0]\n",
    "        smaller = [i for i in array[1:] if i <= pivot] \n",
    "        larger = [i for i in array[1:] if i > pivot]\n",
    "        return quicksort(smaller) + [pivot] + quicksort(larger)"
   ]
  },
  {
   "cell_type": "code",
   "execution_count": 43,
   "metadata": {},
   "outputs": [
    {
     "data": {
      "text/plain": [
       "[97, 100, 101, 107, 200, 211]"
      ]
     },
     "execution_count": 43,
     "metadata": {},
     "output_type": "execute_result"
    }
   ],
   "source": [
    "array = [97, 200, 100, 101, 211, 107]\n",
    "quicksort(array)"
   ]
  },
  {
   "cell_type": "code",
   "execution_count": 97,
   "metadata": {},
   "outputs": [
    {
     "data": {
      "text/plain": [
       "['a', 'i', 'l', 'o', 'r', 't', 't', 'u']"
      ]
     },
     "execution_count": 97,
     "metadata": {},
     "output_type": "execute_result"
    }
   ],
   "source": [
    "array = ['t','u','t','o','r','i','a','l']\n",
    "quicksort(array)"
   ]
  },
  {
   "cell_type": "markdown",
   "metadata": {},
   "source": [
    "Can be improved by choosing random pivot"
   ]
  },
  {
   "cell_type": "code",
   "execution_count": 94,
   "metadata": {},
   "outputs": [],
   "source": [
    "import random\n",
    "\n",
    "def quicksort(array):\n",
    "    if len(array) < 2:\n",
    "        return array      #base case\n",
    "    else:\n",
    "        random_pivot_index = (random.randrange(0, len(array)))                    # Choose pivot randomly\n",
    "        array[0], array[random_pivot_index] = array[random_pivot_index], array[0] # Swap the pivot with first element\n",
    "        pivot = array[0] \n",
    "        smaller = [i for i in array[1:] if i <= pivot] \n",
    "        larger = [i for i in array[1:] if i > pivot]\n",
    "        return quicksort(smaller) + [pivot] + quicksort(larger)\n"
   ]
  },
  {
   "cell_type": "code",
   "execution_count": 95,
   "metadata": {},
   "outputs": [
    {
     "data": {
      "text/plain": [
       "[97, 100, 101, 107, 200, 211]"
      ]
     },
     "execution_count": 95,
     "metadata": {},
     "output_type": "execute_result"
    }
   ],
   "source": [
    "array = [97, 200, 100, 101, 211, 107]\n",
    "quicksort(array)"
   ]
  },
  {
   "cell_type": "markdown",
   "metadata": {},
   "source": [
    "# Merge two sorted lists \n",
    "Time complexity is O(n)\n",
    "\n",
    "If list1 index is greater than the length of the list1. then extend sorted list by appanding the rest of list2\n",
    "the same is  for list2.\n"
   ]
  },
  {
   "cell_type": "code",
   "execution_count": 104,
   "metadata": {},
   "outputs": [
    {
     "name": "stdout",
     "output_type": "stream",
     "text": [
      "[1, 2, 3, 4, 6, 7, 9]\n"
     ]
    }
   ],
   "source": [
    "def merge_sorted_list(list1,list2):\n",
    "    list1_index = list2_index = 0\n",
    "    sorted_list = []\n",
    "\n",
    "    # I fix the bug with left or right array is empty\n",
    "    # When left or right is an empty list this will break with an IndexError.\n",
    "\n",
    "    while len(sorted_list) < len(list1) + len(list2):\n",
    "        if list1_index >= len(list1):\n",
    "            sorted_list.extend(list2[list1_index:])\n",
    "            break\n",
    "        if list2_index >= len(list2):\n",
    "            sorted_list.extend(list2[list2_index:])\n",
    "            break\n",
    "        list1_item = list1[list1_index]\n",
    "        list2_item = list2[list2_index]\n",
    "\n",
    "        if list1_item < list2_item:\n",
    "            sorted_list.append(list1_item)\n",
    "            list1_index += 1\n",
    "        else:\n",
    "            sorted_list.append(list2_item)\n",
    "            list2_index += 1\n",
    "\n",
    "    return sorted_list\n",
    "\n",
    "print(merge_sorted_list([1, 4, 7],[2, 3, 6, 9]))"
   ]
  },
  {
   "cell_type": "markdown",
   "metadata": {},
   "source": [
    "# Reverse List "
   ]
  },
  {
   "cell_type": "code",
   "execution_count": 126,
   "metadata": {},
   "outputs": [],
   "source": [
    "def reverse(list):\n",
    "    reversed_list= []\n",
    "    for i in range(len(list) - 1,-1, -1): # START -1, STOP and STEP\n",
    "        reversed_list.append(list[i])\n",
    "    return reversed_list"
   ]
  },
  {
   "cell_type": "code",
   "execution_count": 127,
   "metadata": {},
   "outputs": [
    {
     "name": "stdout",
     "output_type": "stream",
     "text": [
      "[9, 6, 3, 2]\n"
     ]
    }
   ],
   "source": [
    "print(reverse([2, 3, 6, 9]))"
   ]
  },
  {
   "cell_type": "markdown",
   "metadata": {},
   "source": [
    "Builed in functions"
   ]
  },
  {
   "cell_type": "code",
   "execution_count": 155,
   "metadata": {},
   "outputs": [
    {
     "name": "stdout",
     "output_type": "stream",
     "text": [
      "[5, 3, 2, 1]\n",
      "[2, 5, 1, 3]\n",
      "Before: [3, 1, 5, 2]\n",
      "After: [2, 5, 1, 3]\n"
     ]
    }
   ],
   "source": [
    "list = [3,1,5,2]\n",
    "print(sorted(list, reverse=True))\n",
    "print(list[::-1])\n",
    "print(f'Before: {list}')\n",
    "list.reverse()\n",
    "print(f'After: {list}')"
   ]
  },
  {
   "cell_type": "markdown",
   "metadata": {},
   "source": [
    "# Palindrome word\n",
    "The same word can be read in regular and reverse order"
   ]
  },
  {
   "cell_type": "code",
   "execution_count": 138,
   "metadata": {},
   "outputs": [],
   "source": [
    "def palindrome(word):\n",
    "    while not len(word) <= 1:\n",
    "        if word[0] == word[-1]:\n",
    "            word = word[1:-1]\n",
    "        else:\n",
    "            return False\n",
    "    else:\n",
    "        return True"
   ]
  },
  {
   "cell_type": "code",
   "execution_count": 145,
   "metadata": {},
   "outputs": [
    {
     "name": "stdout",
     "output_type": "stream",
     "text": [
      "True\n",
      "False\n"
     ]
    }
   ],
   "source": [
    "print(palindrome('aba'))\n",
    "print(palindrome('abBa'))"
   ]
  },
  {
   "cell_type": "code",
   "execution_count": null,
   "metadata": {},
   "outputs": [],
   "source": [
    "Can be improved by making sure that all letter are a lower cases"
   ]
  },
  {
   "cell_type": "code",
   "execution_count": 146,
   "metadata": {},
   "outputs": [],
   "source": [
    "def palindrome(word):\n",
    "    word = word.lower()           # Change all letters to lower cases\n",
    "    if len(word) <= 1:\n",
    "       print(\"Word is palidrome\")  # Base case\n",
    "    else:\n",
    "        if word[0] == word[-1]:\n",
    "           return palindrome(word[1:-1])\n",
    "        else:\n",
    "           print(\"Word is not palidrome\")"
   ]
  },
  {
   "cell_type": "code",
   "execution_count": 147,
   "metadata": {},
   "outputs": [
    {
     "name": "stdout",
     "output_type": "stream",
     "text": [
      "Word is not palidrome\n",
      "Word is palidrome\n",
      "Word is palidrome\n"
     ]
    }
   ],
   "source": [
    "palindrome('abza')\n",
    "palindrome('abba')\n",
    "palindrome('abBa')"
   ]
  },
  {
   "cell_type": "code",
   "execution_count": 160,
   "metadata": {},
   "outputs": [],
   "source": [
    "word = \"I love to work for    Amazon!\"\n",
    "print(word[::-1])"
   ]
  },
  {
   "cell_type": "code",
   "execution_count": 161,
   "metadata": {},
   "outputs": [
    {
     "name": "stdout",
     "output_type": "stream",
     "text": [
      "!nozamA      rof krow ot evol I\n"
     ]
    }
   ],
   "source": [
    "def reverse(word):\n",
    "    reverse_word = ''\n",
    "    total_index = len(word) - 1\n",
    "    \n",
    "    while total_index >= 0:\n",
    "        reverse_word += word[total_index]\n",
    "        total_index -= 1\n",
    "    return reverse_word\n",
    "\n",
    "print(reverse(word))"
   ]
  },
  {
   "cell_type": "code",
   "execution_count": 171,
   "metadata": {},
   "outputs": [
    {
     "name": "stdout",
     "output_type": "stream",
     "text": [
      "['I', 'love', 'to', 'work', 'at', '', '', '', '', '', 'Amazon!']\n"
     ]
    }
   ],
   "source": [
    "word = \"I love to work at      Amazon!\"\n",
    "print(word.split(' '))"
   ]
  },
  {
   "cell_type": "code",
   "execution_count": 173,
   "metadata": {},
   "outputs": [
    {
     "name": "stdout",
     "output_type": "stream",
     "text": [
      "Amazon!      at work to love I \n"
     ]
    }
   ],
   "source": [
    "def reverse(word):\n",
    "    reverse_word = ''\n",
    "    word = word.split(' ')\n",
    "    total_index = len(word) -1\n",
    "    \n",
    "    while total_index >= 0:\n",
    "        reverse_word += f'{word[total_index]} '\n",
    "        total_index -= 1\n",
    "    return reverse_word\n",
    "word = \"I love to work at      Amazon!\"\n",
    "print(reverse(word))"
   ]
  }
 ],
 "metadata": {
  "kernelspec": {
   "display_name": "Python 3",
   "language": "python",
   "name": "python3"
  },
  "language_info": {
   "codemirror_mode": {
    "name": "ipython",
    "version": 3
   },
   "file_extension": ".py",
   "mimetype": "text/x-python",
   "name": "python",
   "nbconvert_exporter": "python",
   "pygments_lexer": "ipython3",
   "version": "3.6.5"
  }
 },
 "nbformat": 4,
 "nbformat_minor": 2
}
