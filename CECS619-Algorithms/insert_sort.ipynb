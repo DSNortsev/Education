{
 "cells": [
  {
   "cell_type": "markdown",
   "metadata": {},
   "source": [
    "# Insertion Sort\n",
    "\n",
    "**Insertion sort** is a simple sorting algorithm that works the way we sort playing cards in our hands."
   ]
  },
  {
   "cell_type": "code",
   "execution_count": 10,
   "metadata": {},
   "outputs": [
    {
     "name": "stdout",
     "output_type": "stream",
     "text": [
      "Initial array: [12, 11, 13, 5, 6]\n",
      "Comapare key: 11\n",
      "After loop: [11, 12, 13, 5, 6]\n",
      "Initial array: [11, 12, 13, 5, 6]\n",
      "Comapare key: 13\n",
      "After loop: [11, 12, 13, 5, 6]\n",
      "Initial array: [11, 12, 13, 5, 6]\n",
      "Comapare key: 5\n",
      "After loop: [5, 11, 12, 13, 6]\n",
      "Initial array: [5, 11, 12, 13, 6]\n",
      "Comapare key: 6\n",
      "After loop: [5, 6, 11, 12, 13]\n",
      "[5, 6, 11, 12, 13]\n"
     ]
    }
   ],
   "source": [
    "# Function to do insertion sort \n",
    "def insertionSort(arr): \n",
    "  \n",
    "    # Traverse through 1 to len(arr) \n",
    "    for i in range(1, len(arr)): \n",
    "        print(f'Initial array: {arr}')\n",
    "        key = arr[i] \n",
    "        print(f'Comapare key: {key}')\n",
    "  \n",
    "        # Move elements of arr[0..i-1], that are \n",
    "        # greater than key, to one position ahead \n",
    "        # of their current position \n",
    "        j = i-1\n",
    "        while j >= 0 and key < arr[j] : \n",
    "                arr[j + 1] = arr[j] \n",
    "                j -= 1\n",
    "        arr[j + 1] = key \n",
    "        print(f'After loop: {arr}')\n",
    "        \n",
    "# Driver code to test above \n",
    "arr = [12, 11, 13, 5, 6] \n",
    "insertionSort(arr) \n",
    "print(arr)"
   ]
  }
 ],
 "metadata": {
  "kernelspec": {
   "display_name": "Python 3",
   "language": "python",
   "name": "python3"
  },
  "language_info": {
   "codemirror_mode": {
    "name": "ipython",
    "version": 3
   },
   "file_extension": ".py",
   "mimetype": "text/x-python",
   "name": "python",
   "nbconvert_exporter": "python",
   "pygments_lexer": "ipython3",
   "version": "3.7.5"
  }
 },
 "nbformat": 4,
 "nbformat_minor": 2
}
