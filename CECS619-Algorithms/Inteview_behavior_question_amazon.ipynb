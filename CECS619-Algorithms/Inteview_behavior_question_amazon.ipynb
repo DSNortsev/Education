{
 "cells": [
  {
   "cell_type": "markdown",
   "metadata": {},
   "source": [
    "# Inteview questions\n",
    "\n",
    "1. Leadership: Try to implement something new (ansible, tools, postmant, api automation, developmen)\n",
    "2. Like about Amazon: giant tech company with inovative approach. Share the main pronciples such as\n",
    "Customer obssession ( package is lost a new would be sent, prime video if not loaded return automatically)\n",
    "Egerness to learn ( blue Origin, Aws service)\n",
    "Long term thinking ( give more time for the new project, be patient with new business initiatives)\n",
    "Operational excelence ( flex delivery, returing at UPS, Lockers and Drop places)\n",
    "Day one culture \n",
    "\n",
    "2.\n",
    "Leadership: Try to implement something new (ansible, tools, postmant, api automation, development)\n",
    "\n",
    "Best defect: pre-auth card twice when changing the order) \n",
    "Failure: Once we deployed an application and then escalated a case then Gift card online order are not showing in the screen in pilot store, so it was using old encryption method.  Was able quicly indetify an issue and was resolved the same day. Learn that before doplyoing we need to communicate more between team and do integration testing:\n",
    "\n",
    "Weaknesses: Go into details. Step some reasonable amount of time ot understand details of new fucntionality it helps to find edge cases.\n",
    "\n",
    "Amazon improvement: Ask question for part of amazon. \n",
    "Caller ID for Flex, Promootion in wishlist for owner or friends with who it was shared, especially on his birthday, Add specific color, Suggest a purchase related to household memebers. \n",
    "\n",
    "Failure: When manager asked for time estimation to complete I was givind the minimum time to complet. Failed when issue was found in the last day. Learn from that that is better to give more time and finish earlier.\n",
    "\n",
    "Leadership and customer obsession:  Push to add mileage reimbirsement.due to time constaints. \n",
    "\n",
    "\n",
    "\n",
    "\n"
   ]
  },
  {
   "cell_type": "markdown",
   "metadata": {},
   "source": [
    "# Questions Asked\n",
    "\n",
    "1. Describe the sistuation when you have to dive dip \n",
    "2. Describe the situation when you have to persuade your Product Manager \n",
    "3. Situation when was hard to solve it \n",
    "4. Situation when you have done, but you would like to change in the the long term\n",
    "5. Situation when you were above and beyond to help the customer\n",
    "6. Test plan for online notepad ( just starting in USA and Japan) , sacalability to handle more users, decide where to have services. \n"
   ]
  },
  {
   "cell_type": "code",
   "execution_count": null,
   "metadata": {},
   "outputs": [],
   "source": []
  }
 ],
 "metadata": {
  "kernelspec": {
   "display_name": "Python 3",
   "language": "python",
   "name": "python3"
  },
  "language_info": {
   "codemirror_mode": {
    "name": "ipython",
    "version": 3
   },
   "file_extension": ".py",
   "mimetype": "text/x-python",
   "name": "python",
   "nbconvert_exporter": "python",
   "pygments_lexer": "ipython3",
   "version": "3.6.5"
  }
 },
 "nbformat": 4,
 "nbformat_minor": 2
}
