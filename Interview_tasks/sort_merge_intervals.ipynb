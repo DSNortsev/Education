{
 "cells": [
  {
   "cell_type": "code",
   "execution_count": 2,
   "metadata": {},
   "outputs": [
    {
     "name": "stdout",
     "output_type": "stream",
     "text": [
      "1 - 6\n",
      "8 - 10\n",
      "18 - 15\n"
     ]
    }
   ],
   "source": [
    "# print ('Number of arguments:', len(sys.argv), 'arguments.')\n",
    "# print ('Argument List:', str(sys.argv))\n",
    "\n",
    "x =[{8,10},{2,6},{1,3},{15,18}]\n",
    "\n",
    "# Convert list of sets to list of lists\n",
    "sorted_intervals = sorted([ list (i) for i in x], key=lambda x: x[0])\n",
    "\n",
    "def sort_merge_intevals(intervals):\n",
    "  sorted_intervals = sorted([ list (i) for i in x], key=lambda x: x[0])\n",
    "  index = 0\n",
    "  for interval in sorted_intervals:\n",
    "    if interval[0] > sorted_intervals[index][1]:\n",
    "      index += 1 \n",
    "      sorted_intervals[index] = interval\n",
    "    else:\n",
    "      sorted_intervals[index] = [sorted_intervals[index][0], interval[1]]\n",
    "  return sorted_intervals[:index+1]\n",
    "\n",
    "  \n",
    "merged_intervals  = sort_merge_intevals(x)\n",
    "\n",
    "for interval in merged_intervals:\n",
    "  print(f'{interval[0]} - {interval[1]}')"
   ]
  }
 ],
 "metadata": {
  "kernelspec": {
   "display_name": "Python 3",
   "language": "python",
   "name": "python3"
  },
  "language_info": {
   "codemirror_mode": {
    "name": "ipython",
    "version": 3
   },
   "file_extension": ".py",
   "mimetype": "text/x-python",
   "name": "python",
   "nbconvert_exporter": "python",
   "pygments_lexer": "ipython3",
   "version": "3.7.5"
  }
 },
 "nbformat": 4,
 "nbformat_minor": 2
}
