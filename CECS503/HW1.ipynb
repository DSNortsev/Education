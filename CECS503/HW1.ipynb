{
 "cells": [
  {
   "cell_type": "code",
   "execution_count": 6,
   "metadata": {},
   "outputs": [
    {
     "name": "stdout",
     "output_type": "stream",
     "text": [
      "CPU times: user 0 ns, sys: 0 ns, total: 0 ns\n",
      "Wall time: 5.25 µs\n"
     ]
    }
   ],
   "source": []
  },
  {
   "cell_type": "markdown",
   "metadata": {},
   "source": [
    "## Example 1"
   ]
  },
  {
   "cell_type": "code",
   "execution_count": 55,
   "metadata": {},
   "outputs": [
    {
     "name": "stdout",
     "output_type": "stream",
     "text": [
      "CPU times: user 0 ns, sys: 0 ns, total: 0 ns\n",
      "Wall time: 173 µs\n"
     ]
    }
   ],
   "source": [
    "%%time\n",
    "\n",
    "sum = i= 0\n",
    "n = 1024\n",
    "while i < n:\n",
    "    i += 1\n",
    "    sum += 1"
   ]
  },
  {
   "cell_type": "code",
   "execution_count": 56,
   "metadata": {},
   "outputs": [
    {
     "name": "stdout",
     "output_type": "stream",
     "text": [
      "CPU times: user 0 ns, sys: 0 ns, total: 0 ns\n",
      "Wall time: 370 µs\n"
     ]
    }
   ],
   "source": [
    "%%time\n",
    "\n",
    "sum = i = 0\n",
    "n = 2048\n",
    "while i < n:\n",
    "    i += 1\n",
    "    sum += 1"
   ]
  },
  {
   "cell_type": "code",
   "execution_count": 57,
   "metadata": {},
   "outputs": [
    {
     "name": "stdout",
     "output_type": "stream",
     "text": [
      "CPU times: user 0 ns, sys: 0 ns, total: 0 ns\n",
      "Wall time: 775 µs\n"
     ]
    }
   ],
   "source": [
    "%%time\n",
    "\n",
    "sum = i = 0\n",
    "n = 4096\n",
    "while i < n:\n",
    "    i += 1\n",
    "    sum += 1"
   ]
  },
  {
   "cell_type": "markdown",
   "metadata": {},
   "source": [
    "## Example 2"
   ]
  },
  {
   "cell_type": "code",
   "execution_count": 25,
   "metadata": {},
   "outputs": [
    {
     "name": "stdout",
     "output_type": "stream",
     "text": [
      "CPU times: user 0 ns, sys: 0 ns, total: 0 ns\n",
      "Wall time: 27.7 µs\n"
     ]
    }
   ],
   "source": [
    "%%time\n",
    "\n",
    "sum = i = j = 0\n",
    "n = 64\n",
    "while i < n:\n",
    "    i += 1\n",
    "    while j < n:\n",
    "        j += 1\n",
    "        sum += 1"
   ]
  },
  {
   "cell_type": "code",
   "execution_count": 26,
   "metadata": {},
   "outputs": [
    {
     "name": "stdout",
     "output_type": "stream",
     "text": [
      "CPU times: user 0 ns, sys: 0 ns, total: 0 ns\n",
      "Wall time: 46.7 µs\n"
     ]
    }
   ],
   "source": [
    "%%time\n",
    "\n",
    "sum = i = j = 0\n",
    "n = 128\n",
    "while i < n:\n",
    "    i += 1\n",
    "    while j < n:\n",
    "        j += 1\n",
    "        sum += 1\n",
    "        "
   ]
  },
  {
   "cell_type": "code",
   "execution_count": 27,
   "metadata": {},
   "outputs": [
    {
     "name": "stdout",
     "output_type": "stream",
     "text": [
      "CPU times: user 0 ns, sys: 0 ns, total: 0 ns\n",
      "Wall time: 1.26 ms\n"
     ]
    }
   ],
   "source": [
    "%%time\n",
    "\n",
    "sum = i = j = 0\n",
    "n = 256\n",
    "while i < n:\n",
    "    i += 1\n",
    "    while j < n:\n",
    "        j += 1\n",
    "        sum += 1"
   ]
  },
  {
   "cell_type": "markdown",
   "metadata": {},
   "source": [
    "## Example 3"
   ]
  },
  {
   "cell_type": "code",
   "execution_count": 28,
   "metadata": {},
   "outputs": [
    {
     "name": "stdout",
     "output_type": "stream",
     "text": [
      "CPU times: user 0 ns, sys: 0 ns, total: 0 ns\n",
      "Wall time: 942 µs\n"
     ]
    }
   ],
   "source": [
    "%%time\n",
    "\n",
    "sum = i = j = 0\n",
    "n = 64\n",
    "while i < n:\n",
    "    i += 1\n",
    "    while j < n * n:\n",
    "        j += 1\n",
    "        sum += 1    "
   ]
  },
  {
   "cell_type": "code",
   "execution_count": 32,
   "metadata": {},
   "outputs": [
    {
     "name": "stdout",
     "output_type": "stream",
     "text": [
      "CPU times: user 8 ms, sys: 0 ns, total: 8 ms\n",
      "Wall time: 16 ms\n"
     ]
    }
   ],
   "source": [
    "%%time\n",
    "\n",
    "sum = i = j = 0\n",
    "n = 128\n",
    "while i < n:\n",
    "    i += 1\n",
    "    while j < n * n:\n",
    "        j += 1\n",
    "        sum += 1 "
   ]
  },
  {
   "cell_type": "code",
   "execution_count": 31,
   "metadata": {},
   "outputs": [
    {
     "name": "stdout",
     "output_type": "stream",
     "text": [
      "CPU times: user 16 ms, sys: 0 ns, total: 16 ms\n",
      "Wall time: 39 ms\n"
     ]
    }
   ],
   "source": [
    "%%time\n",
    "\n",
    "sum = i = j = 0\n",
    "n = 256\n",
    "while i < n:\n",
    "    i += 1\n",
    "    while j < n * n:\n",
    "        j += 1\n",
    "        sum += 1"
   ]
  },
  {
   "cell_type": "markdown",
   "metadata": {},
   "source": [
    "## Example 4"
   ]
  },
  {
   "cell_type": "code",
   "execution_count": 33,
   "metadata": {},
   "outputs": [
    {
     "name": "stdout",
     "output_type": "stream",
     "text": [
      "CPU times: user 0 ns, sys: 0 ns, total: 0 ns\n",
      "Wall time: 30 µs\n"
     ]
    }
   ],
   "source": [
    "%%time\n",
    "\n",
    "sum = i = j = 0\n",
    "n = 64\n",
    "while i < n:\n",
    "    i += 1\n",
    "    while j < i:\n",
    "        j += 1\n",
    "        sum += 1"
   ]
  },
  {
   "cell_type": "code",
   "execution_count": 34,
   "metadata": {},
   "outputs": [
    {
     "name": "stdout",
     "output_type": "stream",
     "text": [
      "CPU times: user 0 ns, sys: 0 ns, total: 0 ns\n",
      "Wall time: 62.2 µs\n"
     ]
    }
   ],
   "source": [
    "%%time\n",
    "\n",
    "sum = i = j = 0\n",
    "n = 128\n",
    "while i < n:\n",
    "    i += 1\n",
    "    while j < i:\n",
    "        j += 1\n",
    "        sum += 1"
   ]
  },
  {
   "cell_type": "code",
   "execution_count": 35,
   "metadata": {},
   "outputs": [
    {
     "name": "stdout",
     "output_type": "stream",
     "text": [
      "CPU times: user 0 ns, sys: 0 ns, total: 0 ns\n",
      "Wall time: 106 µs\n"
     ]
    }
   ],
   "source": [
    "%%time\n",
    "\n",
    "sum = i = j = 0\n",
    "n = 256\n",
    "while i < n:\n",
    "    i += 1\n",
    "    while j < i:\n",
    "        j += 1\n",
    "        sum += 1"
   ]
  },
  {
   "cell_type": "markdown",
   "metadata": {},
   "source": [
    "## Example 5"
   ]
  },
  {
   "cell_type": "code",
   "execution_count": 38,
   "metadata": {},
   "outputs": [
    {
     "name": "stdout",
     "output_type": "stream",
     "text": [
      "CPU times: user 4 ms, sys: 0 ns, total: 4 ms\n",
      "Wall time: 6.95 ms\n"
     ]
    }
   ],
   "source": [
    "%%time\n",
    "\n",
    "sum = i = j = k = 0 \n",
    "\n",
    "n = 64\n",
    "while i < n:\n",
    "    i += 1\n",
    "    while j < i * i:\n",
    "        j += 1\n",
    "        while k < j:\n",
    "            k += 1\n",
    "            sum += 1"
   ]
  },
  {
   "cell_type": "code",
   "execution_count": 40,
   "metadata": {},
   "outputs": [
    {
     "name": "stdout",
     "output_type": "stream",
     "text": [
      "CPU times: user 28 ms, sys: 0 ns, total: 28 ms\n",
      "Wall time: 92.3 ms\n"
     ]
    }
   ],
   "source": [
    "%%time\n",
    "\n",
    "sum = i = j = k = 0 \n",
    "\n",
    "n = 256\n",
    "while i < n:\n",
    "    i += 1\n",
    "    while j < i * i:\n",
    "        j += 1\n",
    "        while k < j:\n",
    "            k += 1\n",
    "            sum += 1"
   ]
  },
  {
   "cell_type": "markdown",
   "metadata": {},
   "source": [
    "## Example 6"
   ]
  },
  {
   "cell_type": "code",
   "execution_count": 41,
   "metadata": {},
   "outputs": [
    {
     "name": "stdout",
     "output_type": "stream",
     "text": [
      "CPU times: user 0 ns, sys: 0 ns, total: 0 ns\n",
      "Wall time: 6.89 ms\n"
     ]
    }
   ],
   "source": [
    "%%time\n",
    "\n",
    "sum = i = j = k = 0 \n",
    "\n",
    "n = 64\n",
    "while i < n:\n",
    "    i += 1\n",
    "    while j < i * i:\n",
    "        j += 1\n",
    "        if  j % i == 0:\n",
    "            while k < j:\n",
    "                k += 1\n",
    "                sum += 1"
   ]
  },
  {
   "cell_type": "code",
   "execution_count": 42,
   "metadata": {},
   "outputs": [
    {
     "name": "stdout",
     "output_type": "stream",
     "text": [
      "CPU times: user 8 ms, sys: 0 ns, total: 8 ms\n",
      "Wall time: 21.3 ms\n"
     ]
    }
   ],
   "source": [
    "%%time\n",
    "\n",
    "sum = i = j = k = 0 \n",
    "\n",
    "n = 128\n",
    "while i < n:\n",
    "    i += 1\n",
    "    while j < i * i:\n",
    "        j += 1\n",
    "        if  j % i == 0:\n",
    "            while k < j:\n",
    "                k += 1\n",
    "                sum += 1"
   ]
  },
  {
   "cell_type": "code",
   "execution_count": 43,
   "metadata": {},
   "outputs": [
    {
     "name": "stdout",
     "output_type": "stream",
     "text": [
      "CPU times: user 28 ms, sys: 0 ns, total: 28 ms\n",
      "Wall time: 58.4 ms\n"
     ]
    }
   ],
   "source": [
    "%%time\n",
    "\n",
    "sum = i = j = k = 0 \n",
    "\n",
    "n = 256\n",
    "while i < n:\n",
    "    i += 1\n",
    "    while j < i * i:\n",
    "        j += 1\n",
    "        if  j % i == 0:\n",
    "            while k < j:\n",
    "                k += 1\n",
    "                sum += 1"
   ]
  },
  {
   "cell_type": "code",
   "execution_count": null,
   "metadata": {},
   "outputs": [],
   "source": []
  }
 ],
 "metadata": {
  "kernelspec": {
   "display_name": "Python 3",
   "language": "python",
   "name": "python3"
  },
  "language_info": {
   "codemirror_mode": {
    "name": "ipython",
    "version": 3
   },
   "file_extension": ".py",
   "mimetype": "text/x-python",
   "name": "python",
   "nbconvert_exporter": "python",
   "pygments_lexer": "ipython3",
   "version": "3.6.5"
  }
 },
 "nbformat": 4,
 "nbformat_minor": 2
}
